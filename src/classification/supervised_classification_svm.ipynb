{
 "cells": [
  {
   "attachments": {},
   "cell_type": "markdown",
   "metadata": {},
   "source": [
    "# Parameter tuning for Support Vector Machine (SVM) classification"
   ]
  },
  {
   "attachments": {},
   "cell_type": "markdown",
   "metadata": {},
   "source": [
    "### Classification with settings from parameter testing for SVM algorithm. \n",
    "### Using Google Earth Engine Python API and NICFI Normalized Analytic Basemap from December 2022\n",
    "\n",
    "Author: Finn Geiger\\\n",
    "Date: April 6th 2023\\\n",
    "Contact:\n",
    "- https://github.com/finn-geiger\n",
    "- https://www.linkedin.com/in/finn-geiger-b1329a20b/"
   ]
  },
  {
   "attachments": {},
   "cell_type": "markdown",
   "metadata": {},
   "source": [
    "### 1 Import and setup\n",
    "#### 1.1 Importing the required libraries and packages"
   ]
  },
  {
   "cell_type": "code",
   "execution_count": 2,
   "metadata": {},
   "outputs": [],
   "source": [
    "%matplotlib inline\n",
    "import numpy as np\n",
    "import matplotlib.pyplot as plt\n",
    "import geemap\n",
    "import ee\n",
    "import os\n",
    "import time\n",
    "import pandas as pd\n",
    "from tabulate import tabulate\n",
    "#%pip install tabulate\n"
   ]
  },
  {
   "attachments": {},
   "cell_type": "markdown",
   "metadata": {},
   "source": [
    "The following classes and landcover IDs will be used:"
   ]
  },
  {
   "cell_type": "code",
   "execution_count": 3,
   "metadata": {},
   "outputs": [
    {
     "name": "stdout",
     "output_type": "stream",
     "text": [
      "╒══════════════╤════════════════╕\n",
      "│ Class name   │   landcover ID │\n",
      "╞══════════════╪════════════════╡\n",
      "│ Informal     │              1 │\n",
      "├──────────────┼────────────────┤\n",
      "│ Formal       │              2 │\n",
      "├──────────────┼────────────────┤\n",
      "│ Industrial   │              3 │\n",
      "├──────────────┼────────────────┤\n",
      "│ Roads        │              4 │\n",
      "├──────────────┼────────────────┤\n",
      "│ Vacant land  │              5 │\n",
      "├──────────────┼────────────────┤\n",
      "│ Vegetation   │              6 │\n",
      "├──────────────┼────────────────┤\n",
      "│ Water-bodies │              7 │\n",
      "╘══════════════╧════════════════╛\n"
     ]
    }
   ],
   "source": [
    "info = {'Class name': ['Informal', 'Formal', 'Industrial', 'Roads', 'Vacant land', 'Vegetation', 'Water-bodies'],\n",
    "        'landcover ID': [1, 2, 3, 4, 5, 6, 7]}\n",
    "\n",
    "print(tabulate(info, headers='keys', tablefmt='fancy_grid'))"
   ]
  },
  {
   "attachments": {},
   "cell_type": "markdown",
   "metadata": {},
   "source": [
    "##### When first using the GEE Python API the user must authenticate and initialize the environment by using the following two lines of codes:"
   ]
  },
  {
   "cell_type": "code",
   "execution_count": 4,
   "metadata": {},
   "outputs": [],
   "source": [
    "#ee.Authenticate() \n",
    "#ee.Initialize()"
   ]
  },
  {
   "cell_type": "code",
   "execution_count": 5,
   "metadata": {},
   "outputs": [
    {
     "data": {
      "application/vnd.jupyter.widget-view+json": {
       "model_id": "08174882b2a0499d8577017fb76d0eff",
       "version_major": 2,
       "version_minor": 0
      },
      "text/plain": [
       "Map(center=[20, 0], controls=(WidgetControl(options=['position', 'transparent_bg'], widget=HBox(children=(Togg…"
      ]
     },
     "metadata": {},
     "output_type": "display_data"
    }
   ],
   "source": [
    "# creating the map\n",
    "Map = geemap.Map()\n",
    "\n",
    "# loading the interactive map\n",
    "Map"
   ]
  },
  {
   "attachments": {},
   "cell_type": "markdown",
   "metadata": {},
   "source": [
    "#### 1.2 Importing the datasets from GEE assets and data catalog and clipping the basemap to the AOI"
   ]
  },
  {
   "cell_type": "code",
   "execution_count": 6,
   "metadata": {},
   "outputs": [],
   "source": [
    "# Loading the Base scene\n",
    "nicfi = ee.ImageCollection('projects/planet-nicfi/assets/basemaps/africa')\n",
    "\n",
    "# Filter basemaps by date and get the first image from filtered results\n",
    "basemap_2022_12 = nicfi.filter(ee.Filter.date('2022-12-01','2023-01-01')).first()\n",
    "\n",
    "# Visualizing the scene\n",
    "vis_params = {\"bands\":[\"R\",\"G\",\"B\"],\"min\":64,\"max\":5454,\"gamma\":1.8}\n",
    "\n",
    "# Adding the basemap to the map\n",
    "Map.centerObject(basemap_2022_12, 4)\n",
    "Map.addLayer(basemap_2022_12, vis_params, '2022-12 mosaic')"
   ]
  },
  {
   "cell_type": "code",
   "execution_count": 7,
   "metadata": {},
   "outputs": [],
   "source": [
    "# Loading the AOI and Masking the base scene\n",
    "vis_params_aoi = {'color': 'blue'}\n",
    "aoi_windhoek = ee.FeatureCollection('users/s85315/masterthesis/Study_Area_Windhoek')\n",
    "\n",
    "# Adding the AOI to the map\n",
    "Map.addLayer(aoi_windhoek, vis_params_aoi, 'AOI')\n",
    "Map.centerObject(aoi_windhoek, 12)"
   ]
  },
  {
   "cell_type": "code",
   "execution_count": 8,
   "metadata": {},
   "outputs": [],
   "source": [
    "# clipping the basescene to the AOI\n",
    "basescene = basemap_2022_12.clipToCollection(aoi_windhoek)\n",
    "Map.addLayer(basescene, vis_params, 'clipped')"
   ]
  },
  {
   "cell_type": "code",
   "execution_count": 9,
   "metadata": {},
   "outputs": [],
   "source": [
    "# importing training data samples and adding them to the map\n",
    "# Transforming the Geometries into FeatureCollections and applying properties\n",
    "TS_Informal_Points = ee.FeatureCollection('users/s85315/masterthesis/TrainingSamples/TS_Informal_RPoints')\n",
    "TS_Formal_Points = ee.FeatureCollection('users/s85315/masterthesis/TrainingSamples/TS_Formal_RPoints')\n",
    "TS_Industrial_Points = ee.FeatureCollection('users/s85315/masterthesis/TrainingSamples/TS_Industrial_RPoints')\n",
    "TS_Roads_Points = ee.FeatureCollection('users/s85315/masterthesis/TrainingSamples/TS_Roads_RPoints')\n",
    "TS_VacantLand_Points = ee.FeatureCollection('users/s85315/masterthesis/TrainingSamples/TS_VacantLand_RPoints')\n",
    "TS_Vegetation_Points = ee.FeatureCollection('users/s85315/masterthesis/TrainingSamples/TS_Vegetation_RPoints')\n",
    "TS_Waterbodies_Points = ee.FeatureCollection('users/s85315/masterthesis/TrainingSamples/TS_Waterbodies_RPoints')\n",
    "\n",
    "# adding the samples to the map\n",
    "# Map.addLayer(TS_Informal_Points, {'color': 'c43c39'}, 'Informal Training Data', False)\n",
    "# Map.addLayer(TS_Formal_Points, {'color': 'e5b636'}, 'Formal Training Data', False)\n",
    "# Map.addLayer(TS_Industrial_Points, {'color': '2f2f2f'}, 'Industrial Training Data', False)\n",
    "# Map.addLayer(TS_Roads_Points, {'color': 'aaaaaa'}, 'Roads Training Data', False)\n",
    "# Map.addLayer(TS_VacantLand_Points, {'color': 'b08e7a'}, 'Vacant land Training Data', False)\n",
    "# Map.addLayer(TS_Vegetation_Points, {'color': '85b66f'}, 'Vegetation Training Data', False)\n",
    "# Map.addLayer(TS_Waterbodies_Points, {'color': 'a5bfdd'}, 'Waterbodies Training Data', False)\n",
    "\n",
    "# merging all FeatureCollections into one layer\n",
    "training_samples = TS_Informal_Points.merge(TS_Formal_Points).merge(TS_Industrial_Points).merge(TS_Roads_Points).merge(TS_VacantLand_Points).merge(TS_Vegetation_Points).merge(TS_Waterbodies_Points)"
   ]
  },
  {
   "attachments": {},
   "cell_type": "markdown",
   "metadata": {},
   "source": [
    "### 2 Classification with SVM"
   ]
  },
  {
   "attachments": {},
   "cell_type": "markdown",
   "metadata": {},
   "source": [
    "#### 2.1 Applying training samples on the base scene"
   ]
  },
  {
   "cell_type": "code",
   "execution_count": 10,
   "metadata": {},
   "outputs": [],
   "source": [
    "# adding the training samples to the basescene\n",
    "training = basescene.sampleRegions(**{\n",
    "    'collection': training_samples, \n",
    "    'properties': ['landcover'], \n",
    "    'scale': 4.77\n",
    "})"
   ]
  },
  {
   "attachments": {},
   "cell_type": "markdown",
   "metadata": {},
   "source": [
    "#### 2.2 Configuration and creation of the empty SVM classifier"
   ]
  },
  {
   "cell_type": "code",
   "execution_count": 66,
   "metadata": {},
   "outputs": [],
   "source": [
    "# creating variable for parameter settings\n",
    "cost_param = 2**3 # Float\n",
    "kernel_type = 'LINEAR'\n",
    "\n",
    "\n",
    "# creating the empty SVM classifier using Linear Kernel\n",
    "classifier = ee.Classifier.libsvm(\n",
    "              decisionProcedure ='Voting', # \tThe decision procedure to use for classification.\n",
    "              svmType='C_SVC', # The SVM type\n",
    "              kernelType=kernel_type, # The kernel type\n",
    "              shrinking=True, # Use of shrinking heuristics to enhance performance\n",
    "              cost=cost_param # The cost (C) parameter\n",
    "              )\n",
    "\n",
    "\n",
    "# training the SVM classifier using\n",
    "trained_classifier = classifier.train(**{\n",
    "  'features': training,  \n",
    "  'classProperty': 'landcover', \n",
    "  'inputProperties': basescene.bandNames()\n",
    "})"
   ]
  },
  {
   "attachments": {},
   "cell_type": "markdown",
   "metadata": {},
   "source": [
    "#### 2.3 classifying the basescene and visualizing the product"
   ]
  },
  {
   "cell_type": "code",
   "execution_count": 67,
   "metadata": {},
   "outputs": [],
   "source": [
    "# classifying the basescene using the created classifier\n",
    "classified_basescene = basescene.classify(trained_classifier)\n",
    "\n",
    "# creating the visualization parameters\n",
    "palette = ['c43c39', 'e5b636', '2f2f2f', 'aaaaaa', 'b08e7a', '85b66f', 'a5bfdd']\n",
    "vis_params_classified = {'min': 1, 'max': 7, 'palette': palette}\n",
    "\n",
    "\n",
    "Map.addLayer(classified_basescene, vis_params_classified, 'classified basescene')\n"
   ]
  },
  {
   "attachments": {},
   "cell_type": "markdown",
   "metadata": {},
   "source": [
    "#### 2.4 Exporting the results"
   ]
  },
  {
   "attachments": {},
   "cell_type": "markdown",
   "metadata": {},
   "source": [
    "##### 2.4.1 Exporting to Google Drive"
   ]
  },
  {
   "cell_type": "code",
   "execution_count": 68,
   "metadata": {},
   "outputs": [],
   "source": [
    "# converting the FeatureCollection to Geometry for export\n",
    "aoi_geom = aoi_windhoek.geometry()\n",
    "\n",
    "# exporting to Google drive with GEE API\n",
    "export = ee.batch.Export.image.toDrive(**{\n",
    "    'image': classified_basescene,\n",
    "    'description': 'classified_basescene_SVM', # TODO: change name here\n",
    "    'folder': 'masterthesis/classification_results', # TODO: change name here\n",
    "    'scale': 4.77,\n",
    "    'region': aoi_geom\n",
    "})\n",
    "\n",
    "# starting the process\n",
    "export.start()\n",
    "\n",
    "# tracking the process\n",
    "while export.active():\n",
    "  print('Polling for task (id: {}).'.format(export.id))\n",
    "  time.sleep(5)"
   ]
  },
  {
   "attachments": {},
   "cell_type": "markdown",
   "metadata": {},
   "source": [
    "##### 2.4.2 Exporting to Asset"
   ]
  },
  {
   "cell_type": "code",
   "execution_count": 69,
   "metadata": {},
   "outputs": [],
   "source": [
    "# exporting to Google Asset\n",
    "export = ee.batch.Export.image.toAsset(**{\n",
    "  'image': classified_basescene,\n",
    "  'description': 'Export classified map',\n",
    "  'assetId': 'users/s85315/masterthesis/classification_results/classified_basescene_SVM', # TODO: change name here\n",
    "  'scale': 4.77,\n",
    "  'region': aoi_geom\n",
    "})\n",
    "\n",
    "# starting the process\n",
    "export.start()\n",
    "\n",
    "# tracking the process\n",
    "while export.active():\n",
    "  print('Polling for task (id: {}).'.format(export.id))\n",
    "  time.sleep(5)"
   ]
  },
  {
   "attachments": {},
   "cell_type": "markdown",
   "metadata": {},
   "source": [
    "### 3 Accuracy assessment"
   ]
  },
  {
   "attachments": {},
   "cell_type": "markdown",
   "metadata": {},
   "source": [
    "#### 3.1 Importing validation samples from GEE Assets"
   ]
  },
  {
   "cell_type": "code",
   "execution_count": 70,
   "metadata": {},
   "outputs": [],
   "source": [
    "# # Transforming the Geometries into FeatureCollections and applying properties\n",
    "# VS_Informal_Points = ee.FeatureCollection('users/s85315/masterthesis/ValidationSamples/VS_Informal_RPoints')\n",
    "# VS_Formal_Points = ee.FeatureCollection('users/s85315/masterthesis/ValidationSamples/VS_Formal_RPoints')\n",
    "# VS_Industrial_Points = ee.FeatureCollection('users/s85315/masterthesis/ValidationSamples/VS_Industrial_RPoints')\n",
    "# VS_Roads_Points = ee.FeatureCollection('users/s85315/masterthesis/ValidationSamples/VS_Roads_RPoints')\n",
    "# VS_VacantLand_Points = ee.FeatureCollection('users/s85315/masterthesis/ValidationSamples/VS_VacantLand_RPoints')\n",
    "# VS_Vegetation_Points = ee.FeatureCollection('users/s85315/masterthesis/ValidationSamples/VS_Vegetation_RPoints')\n",
    "# VS_Waterbodies_Points = ee.FeatureCollection('users/s85315/masterthesis/ValidationSamples/VS_Waterbodies_RPoints')\n",
    "\n",
    "# validation_samples = VS_Informal_Points.merge(VS_Formal_Points).merge(VS_Industrial_Points).merge(VS_Roads_Points).merge(VS_VacantLand_Points).merge(VS_Vegetation_Points).merge(VS_Waterbodies_Points)\n"
   ]
  },
  {
   "attachments": {},
   "cell_type": "markdown",
   "metadata": {},
   "source": [
    "#### 3.2 Applying the validation samples to the basescene"
   ]
  },
  {
   "cell_type": "code",
   "execution_count": 71,
   "metadata": {},
   "outputs": [],
   "source": [
    "# # applying the validation samples to the classified map\n",
    "# validation = classified_basescene.sampleRegions(**{\n",
    "#   'collection': validation_samples,\n",
    "#   'properties': ['landcover'],\n",
    "#   'tileScale': 16,\n",
    "#   'scale': 4.77,\n",
    "# })"
   ]
  },
  {
   "attachments": {},
   "cell_type": "markdown",
   "metadata": {},
   "source": [
    "#### 3.3 Generating the error matrix and printing information"
   ]
  },
  {
   "cell_type": "code",
   "execution_count": 72,
   "metadata": {},
   "outputs": [
    {
     "name": "stdout",
     "output_type": "stream",
     "text": [
      "Confusion Matrix [[0, 0, 0, 0, 0, 0, 0, 0], [0, 23, 6, 1, 0, 0, 0, 0], [0, 1, 10, 19, 0, 0, 0, 0], [0, 5, 7, 16, 1, 1, 0, 0], [0, 8, 17, 1, 3, 1, 0, 0], [0, 7, 0, 1, 2, 18, 2, 0], [0, 0, 0, 0, 0, 0, 26, 4], [0, 0, 0, 0, 0, 0, 2, 28]]\n",
      "Overall Accuracy 0.5904761904761905\n",
      "Producers Accuracy [[0], [0.7666666666666667], [0.3333333333333333], [0.5333333333333333], [0.1], [0.6], [0.8666666666666667], [0.9333333333333333]]\n",
      "Consumers Accuracy [[0, 0.5227272727272727, 0.25, 0.42105263157894735, 0.5, 0.9, 0.8666666666666667, 0.875]]\n",
      "Kappa 0.5222222222222223\n"
     ]
    }
   ],
   "source": [
    "# basescene_error_matrix = validation.errorMatrix('landcover', 'classification')\n",
    "\n",
    "# # printing statistics\n",
    "# print('Confusion Matrix', basescene_error_matrix.getInfo())\n",
    "# print('Overall Accuracy', basescene_error_matrix.accuracy().getInfo())\n",
    "# print('Producers Accuracy', basescene_error_matrix.producersAccuracy().getInfo())\n",
    "# print('Consumers Accuracy', basescene_error_matrix.consumersAccuracy().getInfo())\n",
    "# print('Kappa', basescene_error_matrix.kappa().getInfo())"
   ]
  },
  {
   "attachments": {},
   "cell_type": "markdown",
   "metadata": {},
   "source": [
    "##### 3.3.1 Visualizing the error matrix"
   ]
  },
  {
   "cell_type": "code",
   "execution_count": 73,
   "metadata": {},
   "outputs": [
    {
     "name": "stdout",
     "output_type": "stream",
     "text": [
      "╒══════════════╤════════════╤══════════╤══════════════╤═════════╤═══════════════╤══════════════╤════════════════╤═════════╕\n",
      "│              │   Informal │   Formal │   Industrial │   Roads │   Vacant land │   Vegetation │   Water-bodies │   Total │\n",
      "╞══════════════╪════════════╪══════════╪══════════════╪═════════╪═══════════════╪══════════════╪════════════════╪═════════╡\n",
      "│ Informal     │         23 │        6 │            1 │       0 │             0 │            0 │              0 │      30 │\n",
      "├──────────────┼────────────┼──────────┼──────────────┼─────────┼───────────────┼──────────────┼────────────────┼─────────┤\n",
      "│ Formal       │          1 │       10 │           19 │       0 │             0 │            0 │              0 │      30 │\n",
      "├──────────────┼────────────┼──────────┼──────────────┼─────────┼───────────────┼──────────────┼────────────────┼─────────┤\n",
      "│ Industrial   │          5 │        7 │           16 │       1 │             1 │            0 │              0 │      30 │\n",
      "├──────────────┼────────────┼──────────┼──────────────┼─────────┼───────────────┼──────────────┼────────────────┼─────────┤\n",
      "│ Roads        │          8 │       17 │            1 │       3 │             1 │            0 │              0 │      30 │\n",
      "├──────────────┼────────────┼──────────┼──────────────┼─────────┼───────────────┼──────────────┼────────────────┼─────────┤\n",
      "│ Vacant land  │          7 │        0 │            1 │       2 │            18 │            2 │              0 │      30 │\n",
      "├──────────────┼────────────┼──────────┼──────────────┼─────────┼───────────────┼──────────────┼────────────────┼─────────┤\n",
      "│ Vegetation   │          0 │        0 │            0 │       0 │             0 │           26 │              4 │      30 │\n",
      "├──────────────┼────────────┼──────────┼──────────────┼─────────┼───────────────┼──────────────┼────────────────┼─────────┤\n",
      "│ Water-bodies │          0 │        0 │            0 │       0 │             0 │            2 │             28 │      30 │\n",
      "├──────────────┼────────────┼──────────┼──────────────┼─────────┼───────────────┼──────────────┼────────────────┼─────────┤\n",
      "│ Total        │         44 │       40 │           38 │       6 │            20 │           30 │             32 │     210 │\n",
      "╘══════════════╧════════════╧══════════╧══════════════╧═════════╧═══════════════╧══════════════╧════════════════╧═════════╛\n"
     ]
    }
   ],
   "source": [
    "# # creating a Pandas Dataframe for the error matrix\n",
    "# error_matrix = basescene_error_matrix.getInfo()\n",
    "# df_error_matrix = pd.DataFrame(error_matrix)\n",
    "\n",
    "# # deleting the first row and column since GEE add's a class with the landcover ID 0 by default.\n",
    "# df_error_matrix.columns = ['not used','Informal', 'Formal', 'Industrial', 'Roads', 'Vacant land', 'Vegetation', 'Water-bodies']\n",
    "# df_error_matrix = df_error_matrix.drop(df_error_matrix.columns[0],axis=1)\n",
    "# df_error_matrix.drop(index=df_error_matrix.index[0], axis=0, inplace=True)\n",
    "\n",
    "# # calculating row and column sum of points\n",
    "# column_total = df_error_matrix.sum()\n",
    "# column_total.name = 'Total'\n",
    "# df_error_matrix.loc[8] = column_total\n",
    "# df_error_matrix['Total'] = df_error_matrix.sum(axis=1)\n",
    "\n",
    "# header_error_matrix = ['Informal', 'Formal', 'Industrial', 'Roads', 'Vacant land', 'Vegetation', 'Water-bodies', 'Total']\n",
    "# df_error_matrix['Names'] = header_error_matrix\n",
    "# df_error_matrix = df_error_matrix.set_index('Names')\n",
    "\n",
    "\n",
    "# print(tabulate(df_error_matrix, headers=header_error_matrix, tablefmt='fancy_grid', showindex=header_error_matrix))\n",
    "\n",
    "# df_error_matrix.to_csv(f\"./accuracies/SVM/SVM_Error_Matrix_{kernel_type}_cost{cost_param}.csv\", sep=';', index=True)\n",
    "# # df_error_matrix.to_csv(f\"./accuracies/SVM/comparison_kernels/SVM_Error_Matrix_{kernel_type}.csv\", sep=';', index=True)"
   ]
  },
  {
   "attachments": {},
   "cell_type": "markdown",
   "metadata": {},
   "source": [
    "##### 3.3.2 Producer's and consumer's accuracy"
   ]
  },
  {
   "cell_type": "code",
   "execution_count": 74,
   "metadata": {},
   "outputs": [
    {
     "name": "stdout",
     "output_type": "stream",
     "text": [
      "╒═══════════════════════════╤══════════════╕\n",
      "│   Producer's Accuracy [%] │ Class name   │\n",
      "╞═══════════════════════════╪══════════════╡\n",
      "│                     76.67 │ Informal     │\n",
      "├───────────────────────────┼──────────────┤\n",
      "│                     33.33 │ Formal       │\n",
      "├───────────────────────────┼──────────────┤\n",
      "│                     53.33 │ Industrial   │\n",
      "├───────────────────────────┼──────────────┤\n",
      "│                     10    │ Roads        │\n",
      "├───────────────────────────┼──────────────┤\n",
      "│                     60    │ Vacant land  │\n",
      "├───────────────────────────┼──────────────┤\n",
      "│                     86.67 │ Vegetation   │\n",
      "├───────────────────────────┼──────────────┤\n",
      "│                     93.33 │ Water-bodies │\n",
      "╘═══════════════════════════╧══════════════╛\n"
     ]
    }
   ],
   "source": [
    "# # creating the lists \n",
    "# producers = basescene_error_matrix.producersAccuracy().getInfo()\n",
    "# df_producers = pd.DataFrame(producers)\n",
    "# df_producers.drop(index=df_producers.index[0], axis=0, inplace=True)\n",
    "\n",
    "# class_names = ['Informal', 'Formal', 'Industrial', 'Roads', 'Vacant land', 'Vegetation', 'Water-bodies']\n",
    "# df_producers['class names'] = class_names\n",
    "# df_producers.columns = [\"Producer Accuracy\", \"Class name\"]\n",
    "# df_producers['Producer Accuracy'] = df_producers['Producer Accuracy'].multiply(100).round(2)\n",
    "\n",
    "\n",
    "# print(tabulate(df_producers, headers=[\"Producer's Accuracy [%]\", \"Class name\"], tablefmt='fancy_grid',  showindex=False))\n",
    "\n",
    "# df_producers.to_csv(f\"./accuracies/SVM/SVM_Producers_Accuracy_{kernel_type}_cost{cost_param}.csv\", sep=';', index=False)\n",
    "# # df_producers.to_csv(f\"./accuracies/SVM/comparison_kernels/SVM_Producers_Accuracy_{kernel_type}.csv\", sep=';', index=False)"
   ]
  },
  {
   "cell_type": "code",
   "execution_count": 75,
   "metadata": {},
   "outputs": [
    {
     "name": "stdout",
     "output_type": "stream",
     "text": [
      "╒════════════════════════════╤══════════════╕\n",
      "│   Consumers's Accuracy [%] │ Class name   │\n",
      "╞════════════════════════════╪══════════════╡\n",
      "│                      52.27 │ Informal     │\n",
      "├────────────────────────────┼──────────────┤\n",
      "│                      25    │ Formal       │\n",
      "├────────────────────────────┼──────────────┤\n",
      "│                      42.11 │ Industrial   │\n",
      "├────────────────────────────┼──────────────┤\n",
      "│                      50    │ Roads        │\n",
      "├────────────────────────────┼──────────────┤\n",
      "│                      90    │ Vacant land  │\n",
      "├────────────────────────────┼──────────────┤\n",
      "│                      86.67 │ Vegetation   │\n",
      "├────────────────────────────┼──────────────┤\n",
      "│                      87.5  │ Water-bodies │\n",
      "╘════════════════════════════╧══════════════╛\n"
     ]
    }
   ],
   "source": [
    "# # creating a dataframe from the list of consumer accuracies and remove landcover ID 0\n",
    "# consumers = basescene_error_matrix.consumersAccuracy().getInfo()\n",
    "# df_consumers = pd.DataFrame(consumers)\n",
    "# df_consumers = df_consumers.drop(df_consumers.columns[0],axis=1)\n",
    "# df_consumers.columns = class_names\n",
    "\n",
    "# # reshaping the dataframe from wide to long format:\n",
    "# df_consumers_long = pd.melt(df_consumers, var_name='Class name', value_name=\"Consumer Accuracy\")\n",
    "# df_consumers_long = df_consumers_long[['Consumer Accuracy', 'Class name']]\n",
    "# df_consumers_long['Consumer Accuracy'] = df_consumers_long['Consumer Accuracy'].multiply(100).round(2)\n",
    "\n",
    "\n",
    "# print(tabulate(df_consumers_long, headers=[\"Consumers's Accuracy [%]\", \"Class name\"], tablefmt='fancy_grid',  showindex=False))\n",
    "\n",
    "# df_consumers_long.to_csv(f\"./accuracies/SVM/SVM_Consumers_Accuracy_{kernel_type}_cost{cost_param}.csv\", sep=';', index=False)\n",
    "# ##df_consumers_long.to_csv(f\"./accuracies/SVM/comparison_kernels/SVM_Consumers_Accuracy_{kernel_type}.csv\", sep=';', index=False)"
   ]
  },
  {
   "attachments": {},
   "cell_type": "markdown",
   "metadata": {},
   "source": [
    "##### 3.3.3 Overall Accuracy and Kappa Coefficent"
   ]
  },
  {
   "cell_type": "code",
   "execution_count": 76,
   "metadata": {},
   "outputs": [
    {
     "name": "stdout",
     "output_type": "stream",
     "text": [
      "\u001b[1mOverall Accuracy 59.05 %\u001b[0m\n",
      "\u001b[1mKappa coefficent 0.52\u001b[0m\n"
     ]
    }
   ],
   "source": [
    "# # defining the variables\n",
    "# overall_accuracy = basescene_error_matrix.accuracy().getInfo()\n",
    "# overall_print = str(round(overall_accuracy * 100, 2))\n",
    "# kappa = basescene_error_matrix.kappa().getInfo()\n",
    "\n",
    "# df_overall_kappa = pd.DataFrame()\n",
    "\n",
    "# # printing out vaLues\n",
    "# print(\"\\033[1m\" + \"Overall Accuracy \" + overall_print + \" %\" + \"\\033[0m\")\n",
    "# print(\"\\033[1m\" + \"Kappa coefficent \" + str(round(kappa, 2)) + \"\\033[0m\")"
   ]
  },
  {
   "attachments": {},
   "cell_type": "markdown",
   "metadata": {},
   "source": [
    "##### Resources for code snippets\n",
    "\n",
    "https://colab.research.google.com/github/csaybar/EEwPython/blob/dev/10_Export.ipynb \\\n",
    "https://worldbank.github.io/OpenNightLights/tutorials/mod6_6_RF_classifier.html \\\n",
    "https://towardsdatascience.com/how-to-easily-create-tables-in-python-2eaea447d8fd \\\n",
    "https://developers.google.com/earth-engine/apidocs/ee-classifier-libsvm "
   ]
  }
 ],
 "metadata": {
  "kernelspec": {
   "display_name": "gee",
   "language": "python",
   "name": "python3"
  },
  "language_info": {
   "codemirror_mode": {
    "name": "ipython",
    "version": 3
   },
   "file_extension": ".py",
   "mimetype": "text/x-python",
   "name": "python",
   "nbconvert_exporter": "python",
   "pygments_lexer": "ipython3",
   "version": "3.8.15"
  },
  "orig_nbformat": 4,
  "vscode": {
   "interpreter": {
    "hash": "9209488edf9d13047b02f465a1e424d25e94bca618bbcafe1fa335f4d032a39f"
   }
  }
 },
 "nbformat": 4,
 "nbformat_minor": 2
}
