{
 "cells": [
  {
   "attachments": {},
   "cell_type": "markdown",
   "metadata": {},
   "source": [
    "# Accuracy Assessment of Supervised Classification using Random Forest (RF)"
   ]
  },
  {
   "attachments": {},
   "cell_type": "markdown",
   "metadata": {},
   "source": [
    "### Using Google Earth Engine Python API and NICFI Normalized Analytic Basemap from December 2022\n",
    "\n",
    "Author: Finn Geiger\\\n",
    "Date: April 7th 2023\\\n",
    "Contact:\n",
    "- https://github.com/finn-geiger\n",
    "- https://www.linkedin.com/in/finn-geiger-b1329a20b/"
   ]
  },
  {
   "attachments": {},
   "cell_type": "markdown",
   "metadata": {},
   "source": [
    "### 1 Import and setup\n",
    "#### 1.1 Importing the required libraries and packages"
   ]
  },
  {
   "cell_type": "code",
   "execution_count": 1,
   "metadata": {},
   "outputs": [],
   "source": [
    "%matplotlib inline\n",
    "import numpy as np\n",
    "import matplotlib.pyplot as plt\n",
    "import geemap\n",
    "import ee\n",
    "import os\n",
    "import time\n",
    "import pandas as pd\n",
    "from tabulate import tabulate\n",
    "#%pip install tabulate\n"
   ]
  },
  {
   "attachments": {},
   "cell_type": "markdown",
   "metadata": {},
   "source": [
    "The following classes and landcover IDs will be used:"
   ]
  },
  {
   "cell_type": "code",
   "execution_count": 2,
   "metadata": {},
   "outputs": [
    {
     "name": "stdout",
     "output_type": "stream",
     "text": [
      "╒══════════════╤════════════════╕\n",
      "│ Class name   │   landcover ID │\n",
      "╞══════════════╪════════════════╡\n",
      "│ Informal     │              1 │\n",
      "├──────────────┼────────────────┤\n",
      "│ Formal       │              2 │\n",
      "├──────────────┼────────────────┤\n",
      "│ Industrial   │              3 │\n",
      "├──────────────┼────────────────┤\n",
      "│ Roads        │              4 │\n",
      "├──────────────┼────────────────┤\n",
      "│ Vacant land  │              5 │\n",
      "├──────────────┼────────────────┤\n",
      "│ Vegetation   │              6 │\n",
      "├──────────────┼────────────────┤\n",
      "│ Water-bodies │              7 │\n",
      "╘══════════════╧════════════════╛\n"
     ]
    }
   ],
   "source": [
    "info = {'Class name': ['Informal', 'Formal', 'Industrial', 'Roads', 'Vacant land', 'Vegetation', 'Water-bodies'],\n",
    "        'landcover ID': [1, 2, 3, 4, 5, 6, 7]}\n",
    "\n",
    "print(tabulate(info, headers='keys', tablefmt='fancy_grid'))"
   ]
  },
  {
   "attachments": {},
   "cell_type": "markdown",
   "metadata": {},
   "source": [
    "##### When first using the GEE Python API the user must authenticate and initialize the environment by using the following two lines of codes:"
   ]
  },
  {
   "cell_type": "code",
   "execution_count": 3,
   "metadata": {},
   "outputs": [],
   "source": [
    "#ee.Authenticate() \n",
    "#ee.Initialize()"
   ]
  },
  {
   "cell_type": "code",
   "execution_count": 4,
   "metadata": {},
   "outputs": [
    {
     "data": {
      "application/vnd.jupyter.widget-view+json": {
       "model_id": "5d8646e6a20447858ae5ec454519cb04",
       "version_major": 2,
       "version_minor": 0
      },
      "text/plain": [
       "Map(center=[20, 0], controls=(WidgetControl(options=['position', 'transparent_bg'], widget=HBox(children=(Togg…"
      ]
     },
     "metadata": {},
     "output_type": "display_data"
    }
   ],
   "source": [
    "# creating the map\n",
    "Map = geemap.Map()\n",
    "\n",
    "# loading the interactive map\n",
    "Map"
   ]
  },
  {
   "attachments": {},
   "cell_type": "markdown",
   "metadata": {},
   "source": [
    "#### 1.2 Importing the datasets from GEE assets and data catalog and clipping the basemap to the AOI"
   ]
  },
  {
   "cell_type": "code",
   "execution_count": 5,
   "metadata": {},
   "outputs": [],
   "source": [
    "# Loading the Base scene\n",
    "nicfi = ee.ImageCollection('projects/planet-nicfi/assets/basemaps/africa')\n",
    "\n",
    "# Filter basemaps by date and get the first image from filtered results\n",
    "basemap_2022_12 = nicfi.filter(ee.Filter.date('2022-12-01','2023-01-01')).first()\n",
    "\n",
    "# Visualizing the scene\n",
    "vis_params = {\"bands\":[\"R\",\"G\",\"B\"],\"min\":64,\"max\":5454,\"gamma\":1.8}\n",
    "\n",
    "# Adding the basemap to the map\n",
    "Map.centerObject(basemap_2022_12, 4)\n",
    "Map.addLayer(basemap_2022_12, vis_params, '2022-12 mosaic')"
   ]
  },
  {
   "cell_type": "code",
   "execution_count": 6,
   "metadata": {},
   "outputs": [],
   "source": [
    "# Loading the AOI and Masking the base scene\n",
    "vis_params_aoi = {'color': 'blue'}\n",
    "aoi_windhoek = ee.FeatureCollection('users/s85315/masterthesis/Study_Area_Windhoek')\n",
    "\n",
    "# Adding the AOI to the map\n",
    "Map.addLayer(aoi_windhoek, vis_params_aoi, 'AOI')\n",
    "Map.centerObject(aoi_windhoek, 12)"
   ]
  },
  {
   "cell_type": "code",
   "execution_count": 7,
   "metadata": {},
   "outputs": [],
   "source": [
    "# clipping the basescene to the AOI\n",
    "basescene = basemap_2022_12.clipToCollection(aoi_windhoek)\n",
    "Map.addLayer(basescene, vis_params, 'clipped')"
   ]
  },
  {
   "attachments": {},
   "cell_type": "markdown",
   "metadata": {},
   "source": [
    "#### 1.3 Importing the classified basescene with RF"
   ]
  },
  {
   "cell_type": "code",
   "execution_count": 9,
   "metadata": {},
   "outputs": [],
   "source": [
    "classified_basescene = ee.Image('users/s85315/masterthesis/classification_results/classified_basescene_RF')\n",
    "\n",
    "# creating the visualization parameters\n",
    "palette = ['c43c39', 'e5b636', '2f2f2f', 'aaaaaa', 'b08e7a', '85b66f', 'a5bfdd']\n",
    "vis_params_classified = {'min': 1, 'max': 7, 'palette': palette}\n",
    "\n",
    "\n",
    "Map.addLayer(classified_basescene, vis_params_classified, 'classified basescene')\n"
   ]
  },
  {
   "attachments": {},
   "cell_type": "markdown",
   "metadata": {},
   "source": [
    "### 2 Accuracy assessment"
   ]
  },
  {
   "attachments": {},
   "cell_type": "markdown",
   "metadata": {},
   "source": [
    "#### 2.1 Importing validation samples from GEE Assets"
   ]
  },
  {
   "cell_type": "code",
   "execution_count": 10,
   "metadata": {},
   "outputs": [],
   "source": [
    "# Importing merged validation samples for 2022\n",
    "validation_samples = ee.FeatureCollection('users/s85315/masterthesis/ValidationSamples/VS_classification_all_classes_2022')"
   ]
  },
  {
   "attachments": {},
   "cell_type": "markdown",
   "metadata": {},
   "source": [
    "#### 2.2 Applying the validation samples to the basescene"
   ]
  },
  {
   "cell_type": "code",
   "execution_count": 11,
   "metadata": {},
   "outputs": [],
   "source": [
    "# applying the validation samples to the classified map\n",
    "validation = classified_basescene.sampleRegions(**{\n",
    "  'collection': validation_samples,\n",
    "  'properties': ['landcover'],\n",
    "  'tileScale': 16,\n",
    "  'scale': 4.77,\n",
    "})"
   ]
  },
  {
   "attachments": {},
   "cell_type": "markdown",
   "metadata": {},
   "source": [
    "#### 2.3 Generating the error matrix and printing information"
   ]
  },
  {
   "cell_type": "code",
   "execution_count": 12,
   "metadata": {},
   "outputs": [
    {
     "name": "stdout",
     "output_type": "stream",
     "text": [
      "Confusion Matrix [[0, 0, 0, 0, 0, 0, 0, 0], [0, 29, 8, 1, 8, 2, 0, 0], [0, 4, 30, 3, 2, 0, 0, 0], [0, 4, 8, 19, 3, 0, 0, 0], [0, 2, 2, 3, 40, 1, 0, 0], [0, 3, 0, 1, 2, 105, 1, 0], [0, 0, 0, 0, 0, 0, 33, 5], [0, 0, 0, 0, 0, 0, 1, 30]]\n",
      "Overall Accuracy 0.8171428571428572\n",
      "Producers Accuracy [[0], [0.6041666666666666], [0.7692307692307693], [0.5588235294117647], [0.8333333333333334], [0.9375], [0.868421052631579], [0.967741935483871]]\n",
      "Consumers Accuracy [[0, 0.6904761904761905, 0.625, 0.7037037037037037, 0.7272727272727273, 0.9722222222222222, 0.9428571428571428, 0.8571428571428571]]\n",
      "Kappa 0.7772097510517888\n"
     ]
    }
   ],
   "source": [
    "basescene_error_matrix = validation.errorMatrix('landcover', 'classification')\n",
    "\n",
    "# printing statistics\n",
    "print('Confusion Matrix', basescene_error_matrix.getInfo())\n",
    "print('Overall Accuracy', basescene_error_matrix.accuracy().getInfo())\n",
    "print('Producers Accuracy', basescene_error_matrix.producersAccuracy().getInfo())\n",
    "print('Consumers Accuracy', basescene_error_matrix.consumersAccuracy().getInfo())\n",
    "print('Kappa', basescene_error_matrix.kappa().getInfo())"
   ]
  },
  {
   "attachments": {},
   "cell_type": "markdown",
   "metadata": {},
   "source": [
    "##### 2.3.1 Visualizing the error matrix"
   ]
  },
  {
   "cell_type": "code",
   "execution_count": 13,
   "metadata": {},
   "outputs": [
    {
     "name": "stdout",
     "output_type": "stream",
     "text": [
      "╒══════════════╤════════════╤══════════╤══════════════╤═════════╤═══════════════╤══════════════╤════════════════╤═════════╕\n",
      "│              │   Informal │   Formal │   Industrial │   Roads │   Vacant land │   Vegetation │   Water-bodies │   Total │\n",
      "╞══════════════╪════════════╪══════════╪══════════════╪═════════╪═══════════════╪══════════════╪════════════════╪═════════╡\n",
      "│ Informal     │         29 │        8 │            1 │       8 │             2 │            0 │              0 │      48 │\n",
      "├──────────────┼────────────┼──────────┼──────────────┼─────────┼───────────────┼──────────────┼────────────────┼─────────┤\n",
      "│ Formal       │          4 │       30 │            3 │       2 │             0 │            0 │              0 │      39 │\n",
      "├──────────────┼────────────┼──────────┼──────────────┼─────────┼───────────────┼──────────────┼────────────────┼─────────┤\n",
      "│ Industrial   │          4 │        8 │           19 │       3 │             0 │            0 │              0 │      34 │\n",
      "├──────────────┼────────────┼──────────┼──────────────┼─────────┼───────────────┼──────────────┼────────────────┼─────────┤\n",
      "│ Roads        │          2 │        2 │            3 │      40 │             1 │            0 │              0 │      48 │\n",
      "├──────────────┼────────────┼──────────┼──────────────┼─────────┼───────────────┼──────────────┼────────────────┼─────────┤\n",
      "│ Vacant land  │          3 │        0 │            1 │       2 │           105 │            1 │              0 │     112 │\n",
      "├──────────────┼────────────┼──────────┼──────────────┼─────────┼───────────────┼──────────────┼────────────────┼─────────┤\n",
      "│ Vegetation   │          0 │        0 │            0 │       0 │             0 │           33 │              5 │      38 │\n",
      "├──────────────┼────────────┼──────────┼──────────────┼─────────┼───────────────┼──────────────┼────────────────┼─────────┤\n",
      "│ Water-bodies │          0 │        0 │            0 │       0 │             0 │            1 │             30 │      31 │\n",
      "├──────────────┼────────────┼──────────┼──────────────┼─────────┼───────────────┼──────────────┼────────────────┼─────────┤\n",
      "│ Total        │         42 │       48 │           27 │      55 │           108 │           35 │             35 │     350 │\n",
      "╘══════════════╧════════════╧══════════╧══════════════╧═════════╧═══════════════╧══════════════╧════════════════╧═════════╛\n"
     ]
    }
   ],
   "source": [
    "# creating a Pandas Dataframe for the error matrix\n",
    "error_matrix = basescene_error_matrix.getInfo()\n",
    "df_error_matrix = pd.DataFrame(error_matrix)\n",
    "\n",
    "# deleting the first row and column since GEE add's a class with the landcover ID 0 by default.\n",
    "df_error_matrix.columns = ['not used','Informal', 'Formal', 'Industrial', 'Roads', 'Vacant land', 'Vegetation', 'Water-bodies']\n",
    "df_error_matrix = df_error_matrix.drop(df_error_matrix.columns[0],axis=1)\n",
    "df_error_matrix.drop(index=df_error_matrix.index[0], axis=0, inplace=True)\n",
    "\n",
    "# calculating row and column sum of points\n",
    "column_total = df_error_matrix.sum()\n",
    "column_total.name = 'Total'\n",
    "df_error_matrix.loc[8] = column_total\n",
    "df_error_matrix['Total'] = df_error_matrix.sum(axis=1)\n",
    "\n",
    "header_error_matrix = ['Informal', 'Formal', 'Industrial', 'Roads', 'Vacant land', 'Vegetation', 'Water-bodies', 'Total']\n",
    "df_error_matrix['Names'] = header_error_matrix\n",
    "df_error_matrix = df_error_matrix.set_index('Names')\n",
    "\n",
    "\n",
    "print(tabulate(df_error_matrix, headers=header_error_matrix, tablefmt='fancy_grid', showindex=header_error_matrix))\n",
    "df_error_matrix.to_csv(\"./accuracies/basescene_2022/RF_Error_Matrix.csv\", sep=';', index=True)"
   ]
  },
  {
   "attachments": {},
   "cell_type": "markdown",
   "metadata": {},
   "source": [
    "##### 2.3.2 Producer's and consumer's accuracy"
   ]
  },
  {
   "cell_type": "code",
   "execution_count": 14,
   "metadata": {},
   "outputs": [
    {
     "name": "stdout",
     "output_type": "stream",
     "text": [
      "╒═══════════════════════════╤══════════════╕\n",
      "│   Producer's Accuracy [%] │ Class name   │\n",
      "╞═══════════════════════════╪══════════════╡\n",
      "│                     60.42 │ Informal     │\n",
      "├───────────────────────────┼──────────────┤\n",
      "│                     76.92 │ Formal       │\n",
      "├───────────────────────────┼──────────────┤\n",
      "│                     55.88 │ Industrial   │\n",
      "├───────────────────────────┼──────────────┤\n",
      "│                     83.33 │ Roads        │\n",
      "├───────────────────────────┼──────────────┤\n",
      "│                     93.75 │ Vacant land  │\n",
      "├───────────────────────────┼──────────────┤\n",
      "│                     86.84 │ Vegetation   │\n",
      "├───────────────────────────┼──────────────┤\n",
      "│                     96.77 │ Water-bodies │\n",
      "╘═══════════════════════════╧══════════════╛\n"
     ]
    }
   ],
   "source": [
    "# creating the lists \n",
    "producers = basescene_error_matrix.producersAccuracy().getInfo()\n",
    "df_producers = pd.DataFrame(producers)\n",
    "df_producers.drop(index=df_producers.index[0], axis=0, inplace=True)\n",
    "\n",
    "class_names = ['Informal', 'Formal', 'Industrial', 'Roads', 'Vacant land', 'Vegetation', 'Water-bodies']\n",
    "df_producers['class names'] = class_names\n",
    "df_producers.columns = [\"Producer Accuracy\", \"Class name\"]\n",
    "df_producers['Producer Accuracy'] = df_producers['Producer Accuracy'].multiply(100).round(2)\n",
    "\n",
    "\n",
    "print(tabulate(df_producers, headers=[\"Producer's Accuracy [%]\", \"Class name\"], tablefmt='fancy_grid',  showindex=False))\n",
    "df_producers.to_csv(\"./accuracies/basescene_2022/RF_Producers_Accuracy.csv\", sep=';', index=False)"
   ]
  },
  {
   "cell_type": "code",
   "execution_count": 15,
   "metadata": {},
   "outputs": [
    {
     "name": "stdout",
     "output_type": "stream",
     "text": [
      "╒════════════════════════════╤══════════════╕\n",
      "│   Consumers's Accuracy [%] │ Class name   │\n",
      "╞════════════════════════════╪══════════════╡\n",
      "│                      69.05 │ Informal     │\n",
      "├────────────────────────────┼──────────────┤\n",
      "│                      62.5  │ Formal       │\n",
      "├────────────────────────────┼──────────────┤\n",
      "│                      70.37 │ Industrial   │\n",
      "├────────────────────────────┼──────────────┤\n",
      "│                      72.73 │ Roads        │\n",
      "├────────────────────────────┼──────────────┤\n",
      "│                      97.22 │ Vacant land  │\n",
      "├────────────────────────────┼──────────────┤\n",
      "│                      94.29 │ Vegetation   │\n",
      "├────────────────────────────┼──────────────┤\n",
      "│                      85.71 │ Water-bodies │\n",
      "╘════════════════════════════╧══════════════╛\n"
     ]
    }
   ],
   "source": [
    "# creating a dataframe from the list of consumer accuracies and remove landcover ID 0\n",
    "consumers = basescene_error_matrix.consumersAccuracy().getInfo()\n",
    "df_consumers = pd.DataFrame(consumers)\n",
    "df_consumers = df_consumers.drop(df_consumers.columns[0],axis=1)\n",
    "df_consumers.columns = class_names\n",
    "\n",
    "# reshaping the dataframe from wide to long format:\n",
    "df_consumers_long = pd.melt(df_consumers, var_name='Class name', value_name=\"Consumer Accuracy\")\n",
    "df_consumers_long = df_consumers_long[['Consumer Accuracy', 'Class name']]\n",
    "df_consumers_long['Consumer Accuracy'] = df_consumers_long['Consumer Accuracy'].multiply(100).round(2)\n",
    "\n",
    "\n",
    "print(tabulate(df_consumers_long, headers=[\"Consumers's Accuracy [%]\", \"Class name\"], tablefmt='fancy_grid',  showindex=False))\n",
    "df_consumers_long.to_csv(\"./accuracies/basescene_2022/RF_Consumers_Accuracy.csv\", sep=';', index=False)"
   ]
  },
  {
   "attachments": {},
   "cell_type": "markdown",
   "metadata": {},
   "source": [
    "##### 2.3.3 Overall Accuracy and Kappa Coefficent"
   ]
  },
  {
   "cell_type": "code",
   "execution_count": 16,
   "metadata": {},
   "outputs": [
    {
     "name": "stdout",
     "output_type": "stream",
     "text": [
      "\u001b[1mOverall Accuracy 81.71 %\u001b[0m\n",
      "\u001b[1mKappa coefficent 0.78\u001b[0m\n"
     ]
    }
   ],
   "source": [
    "# defining the variables\n",
    "overall_accuracy = basescene_error_matrix.accuracy().getInfo()\n",
    "overall_print = str(round(overall_accuracy * 100, 2))\n",
    "kappa = basescene_error_matrix.kappa().getInfo()\n",
    "\n",
    "df_overall_kappa = pd.DataFrame()\n",
    "\n",
    "# printing out vaLues\n",
    "print(\"\\033[1m\" + \"Overall Accuracy \" + overall_print + \" %\" + \"\\033[0m\")\n",
    "print(\"\\033[1m\" + \"Kappa coefficent \" + str(round(kappa, 2)) + \"\\033[0m\")"
   ]
  },
  {
   "attachments": {},
   "cell_type": "markdown",
   "metadata": {},
   "source": [
    "##### Resources for code snippets\n",
    "\n",
    "https://colab.research.google.com/github/csaybar/EEwPython/blob/dev/10_Export.ipynb \\\n",
    "https://worldbank.github.io/OpenNightLights/tutorials/mod6_6_RF_classifier.html \\\n",
    "https://towardsdatascience.com/how-to-easily-create-tables-in-python-2eaea447d8fd \\\n",
    "https://developers.google.com/earth-engine/apidocs/ee-classifier-smilecart"
   ]
  }
 ],
 "metadata": {
  "kernelspec": {
   "display_name": "gee",
   "language": "python",
   "name": "python3"
  },
  "language_info": {
   "codemirror_mode": {
    "name": "ipython",
    "version": 3
   },
   "file_extension": ".py",
   "mimetype": "text/x-python",
   "name": "python",
   "nbconvert_exporter": "python",
   "pygments_lexer": "ipython3",
   "version": "3.8.15"
  },
  "orig_nbformat": 4,
  "vscode": {
   "interpreter": {
    "hash": "9209488edf9d13047b02f465a1e424d25e94bca618bbcafe1fa335f4d032a39f"
   }
  }
 },
 "nbformat": 4,
 "nbformat_minor": 2
}
