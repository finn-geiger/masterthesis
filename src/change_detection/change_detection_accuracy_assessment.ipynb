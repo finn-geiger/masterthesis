{
 "cells": [
  {
   "attachments": {},
   "cell_type": "markdown",
   "metadata": {},
   "source": [
    "# Change Detection (CD) with Random Forest (RF)"
   ]
  },
  {
   "attachments": {},
   "cell_type": "markdown",
   "metadata": {},
   "source": [
    "### Post-Classification CD using RF classifier\n",
    "### Using Google Earth Engine Python API and NICFI Normalized Analytic Basemap from December 2015, December 2017, December 2019, and December 2021\n",
    "\n",
    "Author: Finn Geiger\\\n",
    "Date: April 6th 2023\\\n",
    "Contact:\n",
    "- https://github.com/finn-geiger\n",
    "- https://www.linkedin.com/in/finn-geiger-b1329a20b/\n",
    "\n",
    "### Steps:\n",
    "1. Importing the datasets and classification result of 2015\n",
    "2. OPIT classification for 2017, 2019, and 2021\n",
    "3. CD for TOI 2015 to 2017\n",
    "4. CD for TOI 2017 to 2019\n",
    "5. CD for TOI 2019 to 2021\n",
    "6. Final products"
   ]
  },
  {
   "attachments": {},
   "cell_type": "markdown",
   "metadata": {},
   "source": [
    "### 1 Import and setup\n",
    "#### 1.1 Importing the required libraries and packages"
   ]
  },
  {
   "cell_type": "code",
   "execution_count": 1,
   "metadata": {},
   "outputs": [],
   "source": [
    "%matplotlib inline\n",
    "import numpy as np\n",
    "import matplotlib.pyplot as plt\n",
    "import geemap\n",
    "import ee\n",
    "import os\n",
    "import time\n",
    "import pandas as pd\n",
    "from tabulate import tabulate\n",
    "#%pip install tabulate\n"
   ]
  },
  {
   "attachments": {},
   "cell_type": "markdown",
   "metadata": {},
   "source": [
    "The following classes and landcover IDs will be used:"
   ]
  },
  {
   "cell_type": "code",
   "execution_count": 2,
   "metadata": {},
   "outputs": [
    {
     "name": "stdout",
     "output_type": "stream",
     "text": [
      "╒══════════════╤════════════════╕\n",
      "│ Class name   │   landcover ID │\n",
      "╞══════════════╪════════════════╡\n",
      "│ Informal     │              1 │\n",
      "├──────────────┼────────────────┤\n",
      "│ Formal       │              2 │\n",
      "├──────────────┼────────────────┤\n",
      "│ Industrial   │              3 │\n",
      "├──────────────┼────────────────┤\n",
      "│ Roads        │              4 │\n",
      "├──────────────┼────────────────┤\n",
      "│ Vacant land  │              5 │\n",
      "├──────────────┼────────────────┤\n",
      "│ Vegetation   │              6 │\n",
      "├──────────────┼────────────────┤\n",
      "│ Water-bodies │              7 │\n",
      "╘══════════════╧════════════════╛\n"
     ]
    }
   ],
   "source": [
    "info = {'Class name': ['Informal', 'Formal', 'Industrial', 'Roads', 'Vacant land', 'Vegetation', 'Water-bodies'],\n",
    "        'landcover ID': [1, 2, 3, 4, 5, 6, 7]}\n",
    "\n",
    "print(tabulate(info, headers='keys', tablefmt='fancy_grid'))"
   ]
  },
  {
   "attachments": {},
   "cell_type": "markdown",
   "metadata": {},
   "source": [
    "##### When first using the GEE Python API the user must authenticate and initialize the environment by using the following two lines of codes:"
   ]
  },
  {
   "cell_type": "code",
   "execution_count": 3,
   "metadata": {},
   "outputs": [],
   "source": [
    "#ee.Authenticate() \n",
    "#ee.Initialize()"
   ]
  },
  {
   "cell_type": "code",
   "execution_count": 4,
   "metadata": {},
   "outputs": [
    {
     "data": {
      "application/vnd.jupyter.widget-view+json": {
       "model_id": "375a444bb625464fa9b4bcdc7a6c44f6",
       "version_major": 2,
       "version_minor": 0
      },
      "text/plain": [
       "Map(center=[20, 0], controls=(WidgetControl(options=['position', 'transparent_bg'], widget=HBox(children=(Togg…"
      ]
     },
     "metadata": {},
     "output_type": "display_data"
    }
   ],
   "source": [
    "# creating the map\n",
    "Map = geemap.Map()\n",
    "\n",
    "# loading the interactive map\n",
    "Map"
   ]
  },
  {
   "attachments": {},
   "cell_type": "markdown",
   "metadata": {},
   "source": [
    "#### 1.2 Importing the datasets from GEE assets and data catalog and clipping the basemap to the AOI"
   ]
  },
  {
   "cell_type": "code",
   "execution_count": 5,
   "metadata": {},
   "outputs": [],
   "source": [
    "# importing the classified scene from 2017, 2019, and 2021\n",
    "classified_TOI1_2015 = ee.Image('users/s85315/masterthesis/change_detection_results/classified_TOI1_RF')\n",
    "classified_TOI2_2017 = ee.Image('users/s85315/masterthesis/change_detection_results/classified_TOI2_RF')\n",
    "classified_TOI3_2019 = ee.Image('users/s85315/masterthesis/change_detection_results/classified_TOI3_RF')\n",
    "classified_TOI4_2021 = ee.Image('users/s85315/masterthesis/change_detection_results/classified_TOI4_RF')\n",
    "\n",
    "# creating the visualization parameters\n",
    "palette = ['c43c39', 'e5b636', '2f2f2f', 'aaaaaa', 'b08e7a', '85b66f', 'a5bfdd']\n",
    "vis_params_classified = {'min': 1, 'max': 7, 'palette': palette}\n",
    "\n",
    "# Adding the thematic maps to the map\n",
    "Map.centerObject(classified_TOI2_2017, 4)\n",
    "Map.addLayer(classified_TOI1_2015, vis_params_classified, 'thematic map - 2015')\n",
    "Map.addLayer(classified_TOI2_2017, vis_params_classified, 'thematic map - 2017')\n",
    "Map.addLayer(classified_TOI3_2019, vis_params_classified, 'thematic map - 2019')\n",
    "Map.addLayer(classified_TOI4_2021, vis_params_classified, 'thematic map - 2021')"
   ]
  },
  {
   "cell_type": "code",
   "execution_count": 6,
   "metadata": {},
   "outputs": [],
   "source": [
    "# Loading the AOI and Masking the base scene\n",
    "vis_params_aoi = {'color': 'blue'}\n",
    "aoi_windhoek = ee.FeatureCollection('users/s85315/masterthesis/Study_Area_Windhoek')\n",
    "\n",
    "# Adding the AOI to the map\n",
    "Map.addLayer(aoi_windhoek, vis_params_aoi, 'AOI', False)\n",
    "Map.centerObject(aoi_windhoek, 12)"
   ]
  },
  {
   "cell_type": "code",
   "execution_count": 7,
   "metadata": {},
   "outputs": [],
   "source": [
    "# importing the change masks\n",
    "change_mask_2015_2017 = ee.Image('users/s85315/masterthesis/change_detection_results/change_mask_2015_2017')\n",
    "change_mask_2017_2019 = ee.Image('users/s85315/masterthesis/change_detection_results/change_mask_2017_2019')\n",
    "change_mask_2019_2021 = ee.Image('users/s85315/masterthesis/change_detection_results/change_mask_2019_2021')\n",
    "change_mask_2015_2021 = ee.Image('users/s85315/masterthesis/change_detection_results/change_mask_2015_2021')\n",
    "\n",
    "# creating the visualization parameters\n",
    "vis_params_changed = {'min':0, 'max':1, 'palette': ['white', 'red']}\n",
    "\n",
    "Map.addLayer(change_mask_2015_2017, vis_params_changed, 'Change Mask - 2015/2017')\n",
    "Map.addLayer(change_mask_2017_2019, vis_params_changed, 'Change Mask - 2015/2017')\n",
    "Map.addLayer(change_mask_2019_2021, vis_params_changed, 'Change Mask - 2015/2017')\n",
    "Map.addLayer(change_mask_2015_2021, vis_params_changed, 'Change Mask - 2015/2017')"
   ]
  },
  {
   "attachments": {},
   "cell_type": "markdown",
   "metadata": {},
   "source": [
    "### 2 Accuracy assessment for changed areas"
   ]
  },
  {
   "attachments": {},
   "cell_type": "markdown",
   "metadata": {},
   "source": [
    "#### 2.1 Importing validation samples from GEE Assets"
   ]
  },
  {
   "cell_type": "code",
   "execution_count": 28,
   "metadata": {},
   "outputs": [],
   "source": [
    "# Importing merged validation samples for 2017, 2019, and 2021\n",
    "vs_change_areas_2017 = ee.FeatureCollection('users/s85315/masterthesis/ValidationSamples/ChangeDetection/VS_change_areas_TOI2_2017_RPoints')\n",
    "vs_change_areas_2019 = ee.FeatureCollection('users/s85315/masterthesis/ValidationSamples/ChangeDetection/VS_change_areas_TOI3_2019_RPoints')\n",
    "vs_change_areas_2021 = ee.FeatureCollection('users/s85315/masterthesis/ValidationSamples/ChangeDetection/VS_change_areas_TOI4_2021_RPoints')\n",
    "\n",
    "# Adding them to the map\n",
    "Map.addLayer(vs_change_areas_2017, vis_params_aoi, 'Validation samples for changed areas - 2017')\n",
    "Map.addLayer(vs_change_areas_2019, vis_params_aoi, 'Validation samples for changed areas - 2019')\n",
    "Map.addLayer(vs_change_areas_2021, vis_params_aoi, 'Validation samples for changed areas - 2021')\n"
   ]
  },
  {
   "attachments": {},
   "cell_type": "markdown",
   "metadata": {},
   "source": [
    "#### 2.2 Applying the validation samples to the thematic map"
   ]
  },
  {
   "cell_type": "code",
   "execution_count": 29,
   "metadata": {},
   "outputs": [],
   "source": [
    "# applying the validation samples to the classified map\n",
    "validation_ca_2017 = classified_TOI2_2017.sampleRegions(**{\n",
    "  'collection': vs_change_areas_2017,\n",
    "  'properties': ['landcover'],\n",
    "  'tileScale': 16,\n",
    "  'scale': 4.77,\n",
    "})"
   ]
  },
  {
   "cell_type": "code",
   "execution_count": 10,
   "metadata": {},
   "outputs": [],
   "source": [
    "validation_ca_2019 = classified_TOI3_2019.sampleRegions(**{\n",
    "  'collection': vs_change_areas_2019,\n",
    "  'properties': ['landcover'],\n",
    "  'tileScale': 16,\n",
    "  'scale': 4.77,\n",
    "})"
   ]
  },
  {
   "cell_type": "code",
   "execution_count": 11,
   "metadata": {},
   "outputs": [],
   "source": [
    "validation_ca_2021 = classified_TOI4_2021.sampleRegions(**{\n",
    "  'collection': vs_change_areas_2021,\n",
    "  'properties': ['landcover'],\n",
    "  'tileScale': 16,\n",
    "  'scale': 4.77,\n",
    "})"
   ]
  },
  {
   "attachments": {},
   "cell_type": "markdown",
   "metadata": {},
   "source": [
    "#### 2.3 Generating the error matrix and printing information"
   ]
  },
  {
   "attachments": {},
   "cell_type": "markdown",
   "metadata": {},
   "source": [
    "##### For TOI 2 - 2017"
   ]
  },
  {
   "cell_type": "code",
   "execution_count": 30,
   "metadata": {},
   "outputs": [
    {
     "name": "stdout",
     "output_type": "stream",
     "text": [
      "Confusion Matrix [[0, 0, 0, 0, 0, 0, 0, 0], [0, 19, 4, 8, 4, 4, 0, 0], [0, 1, 12, 2, 11, 1, 0, 0], [0, 4, 9, 19, 1, 0, 0, 0], [0, 4, 4, 1, 12, 2, 0, 0], [0, 2, 1, 0, 2, 18, 10, 3], [0, 0, 0, 0, 0, 5, 20, 5], [0, 0, 0, 0, 0, 0, 0, 2]]\n",
      "Overall Accuracy 0.5368421052631579\n",
      "Producers Accuracy [[0], [0.48717948717948717], [0.4444444444444444], [0.5757575757575758], [0.5217391304347826], [0.5], [0.6666666666666666], [1]]\n",
      "Consumers Accuracy [[0, 0.6333333333333333, 0.4, 0.6333333333333333, 0.4, 0.6, 0.6666666666666666, 0.2]]\n",
      "Kappa 0.4507227332457293\n"
     ]
    }
   ],
   "source": [
    "TOI2_2017_error_matrix = validation_ca_2017.errorMatrix('classification', 'landcover')\n",
    "\n",
    "# printing statistics\n",
    "print('Confusion Matrix', TOI2_2017_error_matrix.getInfo())\n",
    "print('Overall Accuracy', TOI2_2017_error_matrix.accuracy().getInfo())\n",
    "print('Producers Accuracy', TOI2_2017_error_matrix.producersAccuracy().getInfo())\n",
    "print('Consumers Accuracy', TOI2_2017_error_matrix.consumersAccuracy().getInfo())\n",
    "print('Kappa', TOI2_2017_error_matrix.kappa().getInfo())"
   ]
  },
  {
   "cell_type": "code",
   "execution_count": 16,
   "metadata": {},
   "outputs": [
    {
     "name": "stdout",
     "output_type": "stream",
     "text": [
      "Confusion Matrix [[0, 0, 0, 0, 0, 0, 0, 0], [0, 13, 5, 8, 6, 1, 0, 0], [0, 1, 16, 7, 1, 0, 0, 0], [0, 5, 4, 12, 3, 0, 0, 0], [0, 11, 5, 3, 20, 8, 0, 0], [0, 0, 0, 0, 0, 21, 4, 7], [0, 0, 0, 0, 0, 0, 25, 0], [0, 0, 0, 0, 0, 0, 1, 13]]\n",
      "Overall Accuracy 0.6\n",
      "Producers Accuracy [[0], [0.3939393939393939], [0.64], [0.5], [0.425531914893617], [0.65625], [1], [0.9285714285714286]]\n",
      "Consumers Accuracy [[0, 0.43333333333333335, 0.5333333333333333, 0.4, 0.6666666666666666, 0.7, 0.8333333333333334, 0.65]]\n",
      "Kappa 0.5313415348564733\n"
     ]
    }
   ],
   "source": [
    "TOI3_2019_error_matrix = validation_ca_2019.errorMatrix('classification', 'landcover')\n",
    "\n",
    "# printing statistics\n",
    "print('Confusion Matrix', TOI3_2019_error_matrix.getInfo())\n",
    "print('Overall Accuracy', TOI3_2019_error_matrix.accuracy().getInfo())\n",
    "print('Producers Accuracy', TOI3_2019_error_matrix.producersAccuracy().getInfo())\n",
    "print('Consumers Accuracy', TOI3_2019_error_matrix.consumersAccuracy().getInfo())\n",
    "print('Kappa', TOI3_2019_error_matrix.kappa().getInfo())"
   ]
  },
  {
   "cell_type": "code",
   "execution_count": 17,
   "metadata": {},
   "outputs": [
    {
     "name": "stdout",
     "output_type": "stream",
     "text": [
      "Confusion Matrix [[0, 0, 0, 0, 0, 0, 0, 0], [0, 11, 1, 4, 1, 0, 0, 0], [0, 3, 19, 1, 3, 0, 0, 0], [0, 6, 6, 23, 1, 0, 0, 0], [0, 3, 3, 0, 16, 0, 0, 0], [0, 7, 1, 1, 6, 29, 0, 0], [0, 0, 0, 0, 3, 1, 26, 1], [0, 0, 0, 1, 0, 0, 4, 14]]\n",
      "Overall Accuracy 0.7076923076923077\n",
      "Producers Accuracy [[0], [0.6470588235294118], [0.7307692307692307], [0.6388888888888888], [0.7272727272727273], [0.6590909090909091], [0.8387096774193549], [0.7368421052631579]]\n",
      "Consumers Accuracy [[0, 0.36666666666666664, 0.6333333333333333, 0.7666666666666667, 0.5333333333333333, 0.9666666666666667, 0.8666666666666667, 0.9333333333333333]]\n",
      "Kappa 0.6575785582255084\n"
     ]
    }
   ],
   "source": [
    "TOI4_2021_error_matrix = validation_ca_2021.errorMatrix('classification', 'landcover')\n",
    "\n",
    "# printing statistics\n",
    "print('Confusion Matrix', TOI4_2021_error_matrix.getInfo())\n",
    "print('Overall Accuracy', TOI4_2021_error_matrix.accuracy().getInfo())\n",
    "print('Producers Accuracy', TOI4_2021_error_matrix.producersAccuracy().getInfo())\n",
    "print('Consumers Accuracy', TOI4_2021_error_matrix.consumersAccuracy().getInfo())\n",
    "print('Kappa', TOI4_2021_error_matrix.kappa().getInfo())"
   ]
  },
  {
   "attachments": {},
   "cell_type": "markdown",
   "metadata": {},
   "source": [
    "##### 4.3.1 Visualizing the error matrix and producer's and user's accuracy"
   ]
  },
  {
   "attachments": {},
   "cell_type": "markdown",
   "metadata": {},
   "source": [
    "##### 4.3.1.1 For 2015 to 2017"
   ]
  },
  {
   "cell_type": "code",
   "execution_count": 42,
   "metadata": {},
   "outputs": [
    {
     "name": "stdout",
     "output_type": "stream",
     "text": [
      "╒══════════════╤════════════╤══════════╤══════════════╤═════════╤═══════════════╤══════════════╤════════════════╤═════════╕\n",
      "│              │   Informal │   Formal │   Industrial │   Roads │   Vacant land │   Vegetation │   Water-bodies │   Total │\n",
      "╞══════════════╪════════════╪══════════╪══════════════╪═════════╪═══════════════╪══════════════╪════════════════╪═════════╡\n",
      "│ Informal     │         19 │        4 │            8 │       4 │             4 │            0 │              0 │      39 │\n",
      "├──────────────┼────────────┼──────────┼──────────────┼─────────┼───────────────┼──────────────┼────────────────┼─────────┤\n",
      "│ Formal       │          1 │       12 │            2 │      11 │             1 │            0 │              0 │      27 │\n",
      "├──────────────┼────────────┼──────────┼──────────────┼─────────┼───────────────┼──────────────┼────────────────┼─────────┤\n",
      "│ Industrial   │          4 │        9 │           19 │       1 │             0 │            0 │              0 │      33 │\n",
      "├──────────────┼────────────┼──────────┼──────────────┼─────────┼───────────────┼──────────────┼────────────────┼─────────┤\n",
      "│ Roads        │          4 │        4 │            1 │      12 │             2 │            0 │              0 │      23 │\n",
      "├──────────────┼────────────┼──────────┼──────────────┼─────────┼───────────────┼──────────────┼────────────────┼─────────┤\n",
      "│ Vacant land  │          2 │        1 │            0 │       2 │            18 │           10 │              3 │      36 │\n",
      "├──────────────┼────────────┼──────────┼──────────────┼─────────┼───────────────┼──────────────┼────────────────┼─────────┤\n",
      "│ Vegetation   │          0 │        0 │            0 │       0 │             5 │           20 │              5 │      30 │\n",
      "├──────────────┼────────────┼──────────┼──────────────┼─────────┼───────────────┼──────────────┼────────────────┼─────────┤\n",
      "│ Water-bodies │          0 │        0 │            0 │       0 │             0 │            0 │              2 │       2 │\n",
      "├──────────────┼────────────┼──────────┼──────────────┼─────────┼───────────────┼──────────────┼────────────────┼─────────┤\n",
      "│ Total        │         30 │       30 │           30 │      30 │            30 │           30 │             10 │     190 │\n",
      "╘══════════════╧════════════╧══════════╧══════════════╧═════════╧═══════════════╧══════════════╧════════════════╧═════════╛\n",
      "\u001b[1mOverall Accuracy 53.68 %\u001b[0m\n",
      "\u001b[1mKappa coefficent 0.45\u001b[0m\n"
     ]
    }
   ],
   "source": [
    "# creating a Pandas Dataframe for the error matrix\n",
    "error_matrix = TOI2_2017_error_matrix.getInfo()\n",
    "df_error_matrix = pd.DataFrame(error_matrix)\n",
    "\n",
    "# deleting the first row and column since GEE add's a class with the landcover ID 0 by default.\n",
    "df_error_matrix.columns = ['not used', 'Informal', 'Formal', 'Industrial', 'Roads', 'Vacant land', 'Vegetation', 'Water-bodies']\n",
    "df_error_matrix = df_error_matrix.drop(df_error_matrix.columns[0],axis=1)\n",
    "df_error_matrix.drop(index=df_error_matrix.index[0], axis=0, inplace=True)\n",
    "\n",
    "# calculating row and column sum of points\n",
    "column_total = df_error_matrix.sum()\n",
    "column_total.name = 'Total'\n",
    "df_error_matrix.loc[8] = column_total\n",
    "df_error_matrix['Total'] = df_error_matrix.sum(axis=1)\n",
    "\n",
    "header_error_matrix = ['Informal', 'Formal', 'Industrial', 'Roads', 'Vacant land', 'Vegetation', 'Water-bodies', 'Total']\n",
    "df_error_matrix['Names'] = header_error_matrix\n",
    "df_error_matrix = df_error_matrix.set_index('Names')\n",
    "\n",
    "\n",
    "print(tabulate(df_error_matrix, headers=header_error_matrix, tablefmt='fancy_grid', showindex=header_error_matrix))\n",
    "df_error_matrix.to_csv(\"./data/accuracies/CD_Error_Matrix_TOI2.csv\", sep=';', index=True)\n",
    "\n",
    "# defining the variables\n",
    "overall_accuracy = TOI2_2017_error_matrix.accuracy().getInfo()\n",
    "overall_print = str(round(overall_accuracy * 100, 2))\n",
    "kappa = TOI2_2017_error_matrix.kappa().getInfo()\n",
    "\n",
    "df_overall_kappa = pd.DataFrame()\n",
    "\n",
    "# printing out vaLues\n",
    "print(\"\\033[1m\" + \"Overall Accuracy \" + overall_print + \" %\" + \"\\033[0m\")\n",
    "print(\"\\033[1m\" + \"Kappa coefficent \" + str(round(kappa, 2)) + \"\\033[0m\")"
   ]
  },
  {
   "cell_type": "code",
   "execution_count": 39,
   "metadata": {},
   "outputs": [
    {
     "name": "stdout",
     "output_type": "stream",
     "text": [
      "╒══════════════╤═══════════════════════════╤════════════════════════════╕\n",
      "│ Class name   │   Producer's Accuracy [%] │   Consumers's Accuracy [%] │\n",
      "╞══════════════╪═══════════════════════════╪════════════════════════════╡\n",
      "│ Informal     │                     48.72 │                      63.33 │\n",
      "├──────────────┼───────────────────────────┼────────────────────────────┤\n",
      "│ Formal       │                     44.44 │                      40    │\n",
      "├──────────────┼───────────────────────────┼────────────────────────────┤\n",
      "│ Industrial   │                     57.58 │                      63.33 │\n",
      "├──────────────┼───────────────────────────┼────────────────────────────┤\n",
      "│ Roads        │                     52.17 │                      40    │\n",
      "├──────────────┼───────────────────────────┼────────────────────────────┤\n",
      "│ Vacant land  │                     50    │                      60    │\n",
      "├──────────────┼───────────────────────────┼────────────────────────────┤\n",
      "│ Vegetation   │                     66.67 │                      66.67 │\n",
      "├──────────────┼───────────────────────────┼────────────────────────────┤\n",
      "│ Water-bodies │                    100    │                      20    │\n",
      "╘══════════════╧═══════════════════════════╧════════════════════════════╛\n"
     ]
    }
   ],
   "source": [
    "# creating the lists \n",
    "producers = TOI2_2017_error_matrix.producersAccuracy().getInfo()\n",
    "df_producers = pd.DataFrame(producers)\n",
    "df_producers.drop(index=df_producers.index[0], axis=0, inplace=True)\n",
    "\n",
    "class_names = ['Informal', 'Formal', 'Industrial', 'Roads', 'Vacant land', 'Vegetation', 'Water-bodies']\n",
    "df_producers['class names'] = class_names\n",
    "df_producers.columns = [\"Producer Accuracy\", \"Class name\"]\n",
    "df_producers['Producer Accuracy'] = df_producers['Producer Accuracy'].multiply(100).round(2)\n",
    "\n",
    "# creating a dataframe from the list of consumer accuracies and remove landcover ID 0\n",
    "consumers = TOI2_2017_error_matrix.consumersAccuracy().getInfo()\n",
    "df_consumers = pd.DataFrame(consumers)\n",
    "df_consumers = df_consumers.drop(df_consumers.columns[0],axis=1)\n",
    "df_consumers.columns = class_names\n",
    "\n",
    "# reshaping the dataframe from wide to long format:\n",
    "df_consumers_long = pd.melt(df_consumers, var_name='Class name', value_name=\"Consumer Accuracy\")\n",
    "df_consumers_long = df_consumers_long[['Consumer Accuracy', 'Class name']]\n",
    "df_consumers_long['Consumer Accuracy'] = df_consumers_long['Consumer Accuracy'].multiply(100).round(2)\n",
    "\n",
    "# merging both dataframes\n",
    "df_all = pd.merge(df_producers, df_consumers_long, on='Class name')\n",
    "new_cols = ['Class name', 'Producer Accuracy', 'Consumer Accuracy']\n",
    "df_all = df_all[new_cols]\n",
    "\n",
    "\n",
    "print(tabulate(df_all, headers=[\"Class name\", \"Producer's Accuracy [%]\", \"Consumers's Accuracy [%]\"], tablefmt='fancy_grid',  showindex=False))\n",
    "df_all.to_csv(\"./data/accuracies/CD_Consumers_Producers_Accuracy_TOI2.csv\", sep=\";\", index=False)"
   ]
  },
  {
   "attachments": {},
   "cell_type": "markdown",
   "metadata": {},
   "source": [
    "##### 4.3.1.2 For 2017 to 2019"
   ]
  },
  {
   "cell_type": "code",
   "execution_count": 41,
   "metadata": {},
   "outputs": [
    {
     "name": "stdout",
     "output_type": "stream",
     "text": [
      "╒══════════════╤════════════╤══════════╤══════════════╤═════════╤═══════════════╤══════════════╤════════════════╤═════════╕\n",
      "│              │   Informal │   Formal │   Industrial │   Roads │   Vacant land │   Vegetation │   Water-bodies │   Total │\n",
      "╞══════════════╪════════════╪══════════╪══════════════╪═════════╪═══════════════╪══════════════╪════════════════╪═════════╡\n",
      "│ Informal     │         13 │        5 │            8 │       6 │             1 │            0 │              0 │      33 │\n",
      "├──────────────┼────────────┼──────────┼──────────────┼─────────┼───────────────┼──────────────┼────────────────┼─────────┤\n",
      "│ Formal       │          1 │       16 │            7 │       1 │             0 │            0 │              0 │      25 │\n",
      "├──────────────┼────────────┼──────────┼──────────────┼─────────┼───────────────┼──────────────┼────────────────┼─────────┤\n",
      "│ Industrial   │          5 │        4 │           12 │       3 │             0 │            0 │              0 │      24 │\n",
      "├──────────────┼────────────┼──────────┼──────────────┼─────────┼───────────────┼──────────────┼────────────────┼─────────┤\n",
      "│ Roads        │         11 │        5 │            3 │      20 │             8 │            0 │              0 │      47 │\n",
      "├──────────────┼────────────┼──────────┼──────────────┼─────────┼───────────────┼──────────────┼────────────────┼─────────┤\n",
      "│ Vacant land  │          0 │        0 │            0 │       0 │            21 │            4 │              7 │      32 │\n",
      "├──────────────┼────────────┼──────────┼──────────────┼─────────┼───────────────┼──────────────┼────────────────┼─────────┤\n",
      "│ Vegetation   │          0 │        0 │            0 │       0 │             0 │           25 │              0 │      25 │\n",
      "├──────────────┼────────────┼──────────┼──────────────┼─────────┼───────────────┼──────────────┼────────────────┼─────────┤\n",
      "│ Water-bodies │          0 │        0 │            0 │       0 │             0 │            1 │             13 │      14 │\n",
      "├──────────────┼────────────┼──────────┼──────────────┼─────────┼───────────────┼──────────────┼────────────────┼─────────┤\n",
      "│ Total        │         30 │       30 │           30 │      30 │            30 │           30 │             20 │     200 │\n",
      "╘══════════════╧════════════╧══════════╧══════════════╧═════════╧═══════════════╧══════════════╧════════════════╧═════════╛\n",
      "\u001b[1mOverall Accuracy 60.0 %\u001b[0m\n",
      "\u001b[1mKappa coefficent 0.53\u001b[0m\n"
     ]
    }
   ],
   "source": [
    "# creating a Pandas Dataframe for the error matrix\n",
    "error_matrix = TOI3_2019_error_matrix.getInfo()\n",
    "df_error_matrix = pd.DataFrame(error_matrix)\n",
    "\n",
    "# deleting the first row and column since GEE add's a class with the landcover ID 0 by default.\n",
    "df_error_matrix.columns = ['not used','Informal', 'Formal', 'Industrial', 'Roads', 'Vacant land', 'Vegetation', 'Water-bodies']\n",
    "df_error_matrix = df_error_matrix.drop(df_error_matrix.columns[0],axis=1)\n",
    "df_error_matrix.drop(index=df_error_matrix.index[0], axis=0, inplace=True)\n",
    "\n",
    "# calculating row and column sum of points\n",
    "column_total = df_error_matrix.sum()\n",
    "column_total.name = 'Total'\n",
    "df_error_matrix.loc[8] = column_total\n",
    "df_error_matrix['Total'] = df_error_matrix.sum(axis=1)\n",
    "\n",
    "header_error_matrix = ['Informal', 'Formal', 'Industrial', 'Roads', 'Vacant land', 'Vegetation', 'Water-bodies', 'Total']\n",
    "df_error_matrix['Names'] = header_error_matrix\n",
    "df_error_matrix = df_error_matrix.set_index('Names')\n",
    "\n",
    "# plotting the error matrix\n",
    "print(tabulate(df_error_matrix, headers=header_error_matrix, tablefmt='fancy_grid', showindex=header_error_matrix))\n",
    "df_error_matrix.to_csv(\"./data/accuracies/CD_Error_Matrix_TOI3.csv\", sep=';', index=True)\n",
    "\n",
    "# defining the variables\n",
    "overall_accuracy = TOI3_2019_error_matrix.accuracy().getInfo()\n",
    "overall_print = str(round(overall_accuracy * 100, 2))\n",
    "kappa = TOI3_2019_error_matrix.kappa().getInfo()\n",
    "\n",
    "df_overall_kappa = pd.DataFrame()\n",
    "\n",
    "# printing out vaLues\n",
    "print(\"\\033[1m\" + \"Overall Accuracy \" + overall_print + \" %\" + \"\\033[0m\")\n",
    "print(\"\\033[1m\" + \"Kappa coefficent \" + str(round(kappa, 2)) + \"\\033[0m\")"
   ]
  },
  {
   "cell_type": "code",
   "execution_count": 43,
   "metadata": {},
   "outputs": [
    {
     "name": "stdout",
     "output_type": "stream",
     "text": [
      "╒══════════════╤═══════════════════════════╤════════════════════════════╕\n",
      "│ Class name   │   Producer's Accuracy [%] │   Consumers's Accuracy [%] │\n",
      "╞══════════════╪═══════════════════════════╪════════════════════════════╡\n",
      "│ Informal     │                     39.39 │                      43.33 │\n",
      "├──────────────┼───────────────────────────┼────────────────────────────┤\n",
      "│ Formal       │                     64    │                      53.33 │\n",
      "├──────────────┼───────────────────────────┼────────────────────────────┤\n",
      "│ Industrial   │                     50    │                      40    │\n",
      "├──────────────┼───────────────────────────┼────────────────────────────┤\n",
      "│ Roads        │                     42.55 │                      66.67 │\n",
      "├──────────────┼───────────────────────────┼────────────────────────────┤\n",
      "│ Vacant land  │                     65.62 │                      70    │\n",
      "├──────────────┼───────────────────────────┼────────────────────────────┤\n",
      "│ Vegetation   │                    100    │                      83.33 │\n",
      "├──────────────┼───────────────────────────┼────────────────────────────┤\n",
      "│ Water-bodies │                     92.86 │                      65    │\n",
      "╘══════════════╧═══════════════════════════╧════════════════════════════╛\n"
     ]
    }
   ],
   "source": [
    "# creating the lists \n",
    "producers = TOI3_2019_error_matrix.producersAccuracy().getInfo()\n",
    "df_producers = pd.DataFrame(producers)\n",
    "df_producers.drop(index=df_producers.index[0], axis=0, inplace=True)\n",
    "\n",
    "class_names = ['Informal', 'Formal', 'Industrial', 'Roads', 'Vacant land', 'Vegetation', 'Water-bodies']\n",
    "df_producers['class names'] = class_names\n",
    "df_producers.columns = [\"Producer Accuracy\", \"Class name\"]\n",
    "df_producers['Producer Accuracy'] = df_producers['Producer Accuracy'].multiply(100).round(2)\n",
    "\n",
    "# creating a dataframe from the list of consumer accuracies and remove landcover ID 0\n",
    "consumers = TOI3_2019_error_matrix.consumersAccuracy().getInfo()\n",
    "df_consumers = pd.DataFrame(consumers)\n",
    "df_consumers = df_consumers.drop(df_consumers.columns[0],axis=1)\n",
    "df_consumers.columns = class_names\n",
    "\n",
    "# reshaping the dataframe from wide to long format:\n",
    "df_consumers_long = pd.melt(df_consumers, var_name='Class name', value_name=\"Consumer Accuracy\")\n",
    "df_consumers_long = df_consumers_long[['Consumer Accuracy', 'Class name']]\n",
    "df_consumers_long['Consumer Accuracy'] = df_consumers_long['Consumer Accuracy'].multiply(100).round(2)\n",
    "\n",
    "# merging both dataframes\n",
    "df_all = pd.merge(df_producers, df_consumers_long, on='Class name')\n",
    "new_cols = ['Class name', 'Producer Accuracy', 'Consumer Accuracy']\n",
    "df_all = df_all[new_cols]\n",
    "\n",
    "\n",
    "print(tabulate(df_all, headers=[\"Class name\", \"Producer's Accuracy [%]\", \"Consumers's Accuracy [%]\"], tablefmt='fancy_grid',  showindex=False))\n",
    "df_all.to_csv(\"./data/accuracies/CD_Consumers_Producers_Accuracy_TOI3.csv\", sep=\";\", index=False)"
   ]
  },
  {
   "attachments": {},
   "cell_type": "markdown",
   "metadata": {},
   "source": [
    "##### 4.3.1.2 For 2019 to 2021"
   ]
  },
  {
   "cell_type": "code",
   "execution_count": 40,
   "metadata": {},
   "outputs": [
    {
     "name": "stdout",
     "output_type": "stream",
     "text": [
      "╒══════════════╤════════════╤══════════╤══════════════╤═════════╤═══════════════╤══════════════╤════════════════╤═════════╕\n",
      "│              │   Informal │   Formal │   Industrial │   Roads │   Vacant land │   Vegetation │   Water-bodies │   Total │\n",
      "╞══════════════╪════════════╪══════════╪══════════════╪═════════╪═══════════════╪══════════════╪════════════════╪═════════╡\n",
      "│ Informal     │         11 │        1 │            4 │       1 │             0 │            0 │              0 │      17 │\n",
      "├──────────────┼────────────┼──────────┼──────────────┼─────────┼───────────────┼──────────────┼────────────────┼─────────┤\n",
      "│ Formal       │          3 │       19 │            1 │       3 │             0 │            0 │              0 │      26 │\n",
      "├──────────────┼────────────┼──────────┼──────────────┼─────────┼───────────────┼──────────────┼────────────────┼─────────┤\n",
      "│ Industrial   │          6 │        6 │           23 │       1 │             0 │            0 │              0 │      36 │\n",
      "├──────────────┼────────────┼──────────┼──────────────┼─────────┼───────────────┼──────────────┼────────────────┼─────────┤\n",
      "│ Roads        │          3 │        3 │            0 │      16 │             0 │            0 │              0 │      22 │\n",
      "├──────────────┼────────────┼──────────┼──────────────┼─────────┼───────────────┼──────────────┼────────────────┼─────────┤\n",
      "│ Vacant land  │          7 │        1 │            1 │       6 │            29 │            0 │              0 │      44 │\n",
      "├──────────────┼────────────┼──────────┼──────────────┼─────────┼───────────────┼──────────────┼────────────────┼─────────┤\n",
      "│ Vegetation   │          0 │        0 │            0 │       3 │             1 │           26 │              1 │      31 │\n",
      "├──────────────┼────────────┼──────────┼──────────────┼─────────┼───────────────┼──────────────┼────────────────┼─────────┤\n",
      "│ Water-bodies │          0 │        0 │            1 │       0 │             0 │            4 │             14 │      19 │\n",
      "├──────────────┼────────────┼──────────┼──────────────┼─────────┼───────────────┼──────────────┼────────────────┼─────────┤\n",
      "│ Total        │         30 │       30 │           30 │      30 │            30 │           30 │             15 │     195 │\n",
      "╘══════════════╧════════════╧══════════╧══════════════╧═════════╧═══════════════╧══════════════╧════════════════╧═════════╛\n",
      "\u001b[1mOverall Accuracy 70.77 %\u001b[0m\n",
      "\u001b[1mKappa coefficent 0.66\u001b[0m\n"
     ]
    }
   ],
   "source": [
    "# creating a Pandas Dataframe for the error matrix\n",
    "error_matrix = TOI4_2021_error_matrix.getInfo()\n",
    "df_error_matrix = pd.DataFrame(error_matrix)\n",
    "\n",
    "# deleting the first row and column since GEE add's a class with the landcover ID 0 by default.\n",
    "df_error_matrix.columns = ['not used','Informal', 'Formal', 'Industrial', 'Roads', 'Vacant land', 'Vegetation', 'Water-bodies']\n",
    "df_error_matrix = df_error_matrix.drop(df_error_matrix.columns[0],axis=1)\n",
    "df_error_matrix.drop(index=df_error_matrix.index[0], axis=0, inplace=True)\n",
    "\n",
    "# calculating row and column sum of points\n",
    "column_total = df_error_matrix.sum()\n",
    "column_total.name = 'Total'\n",
    "df_error_matrix.loc[8] = column_total\n",
    "df_error_matrix['Total'] = df_error_matrix.sum(axis=1)\n",
    "\n",
    "header_error_matrix = ['Informal', 'Formal', 'Industrial', 'Roads', 'Vacant land', 'Vegetation', 'Water-bodies', 'Total']\n",
    "df_error_matrix['Names'] = header_error_matrix\n",
    "df_error_matrix = df_error_matrix.set_index('Names')\n",
    "\n",
    "# plotting the results\n",
    "print(tabulate(df_error_matrix, headers=header_error_matrix, tablefmt='fancy_grid', showindex=header_error_matrix))\n",
    "df_error_matrix.to_csv(\"./data/accuracies/CD_Error_Matrix_TOI4.csv\", sep=';', index=True)\n",
    "\n",
    "# defining the variables\n",
    "overall_accuracy = TOI4_2021_error_matrix.accuracy().getInfo()\n",
    "overall_print = str(round(overall_accuracy * 100, 2))\n",
    "kappa = TOI4_2021_error_matrix.kappa().getInfo()\n",
    "\n",
    "df_overall_kappa = pd.DataFrame()\n",
    "\n",
    "# printing out vaLues\n",
    "print(\"\\033[1m\" + \"Overall Accuracy \" + overall_print + \" %\" + \"\\033[0m\")\n",
    "print(\"\\033[1m\" + \"Kappa coefficent \" + str(round(kappa, 2)) + \"\\033[0m\")"
   ]
  },
  {
   "cell_type": "code",
   "execution_count": 44,
   "metadata": {},
   "outputs": [
    {
     "name": "stdout",
     "output_type": "stream",
     "text": [
      "╒══════════════╤═══════════════════════════╤════════════════════════════╕\n",
      "│ Class name   │   Producer's Accuracy [%] │   Consumers's Accuracy [%] │\n",
      "╞══════════════╪═══════════════════════════╪════════════════════════════╡\n",
      "│ Informal     │                     64.71 │                      36.67 │\n",
      "├──────────────┼───────────────────────────┼────────────────────────────┤\n",
      "│ Formal       │                     73.08 │                      63.33 │\n",
      "├──────────────┼───────────────────────────┼────────────────────────────┤\n",
      "│ Industrial   │                     63.89 │                      76.67 │\n",
      "├──────────────┼───────────────────────────┼────────────────────────────┤\n",
      "│ Roads        │                     72.73 │                      53.33 │\n",
      "├──────────────┼───────────────────────────┼────────────────────────────┤\n",
      "│ Vacant land  │                     65.91 │                      96.67 │\n",
      "├──────────────┼───────────────────────────┼────────────────────────────┤\n",
      "│ Vegetation   │                     83.87 │                      86.67 │\n",
      "├──────────────┼───────────────────────────┼────────────────────────────┤\n",
      "│ Water-bodies │                     73.68 │                      93.33 │\n",
      "╘══════════════╧═══════════════════════════╧════════════════════════════╛\n"
     ]
    }
   ],
   "source": [
    "# creating the lists \n",
    "producers = TOI4_2021_error_matrix.producersAccuracy().getInfo()\n",
    "df_producers = pd.DataFrame(producers)\n",
    "df_producers.drop(index=df_producers.index[0], axis=0, inplace=True)\n",
    "\n",
    "class_names = ['Informal', 'Formal', 'Industrial', 'Roads', 'Vacant land', 'Vegetation', 'Water-bodies']\n",
    "df_producers['class names'] = class_names\n",
    "df_producers.columns = [\"Producer Accuracy\", \"Class name\"]\n",
    "df_producers['Producer Accuracy'] = df_producers['Producer Accuracy'].multiply(100).round(2)\n",
    "\n",
    "# creating a dataframe from the list of consumer accuracies and remove landcover ID 0\n",
    "consumers = TOI4_2021_error_matrix.consumersAccuracy().getInfo()\n",
    "df_consumers = pd.DataFrame(consumers)\n",
    "df_consumers = df_consumers.drop(df_consumers.columns[0],axis=1)\n",
    "df_consumers.columns = class_names\n",
    "\n",
    "# reshaping the dataframe from wide to long format:\n",
    "df_consumers_long = pd.melt(df_consumers, var_name='Class name', value_name=\"Consumer Accuracy\")\n",
    "df_consumers_long = df_consumers_long[['Consumer Accuracy', 'Class name']]\n",
    "df_consumers_long['Consumer Accuracy'] = df_consumers_long['Consumer Accuracy'].multiply(100).round(2)\n",
    "\n",
    "# merging both dataframes\n",
    "df_all = pd.merge(df_producers, df_consumers_long, on='Class name')\n",
    "new_cols = ['Class name', 'Producer Accuracy', 'Consumer Accuracy']\n",
    "df_all = df_all[new_cols]\n",
    "\n",
    "\n",
    "print(tabulate(df_all, headers=[\"Class name\", \"Producer's Accuracy [%]\", \"Consumers's Accuracy [%]\"], tablefmt='fancy_grid',  showindex=False))\n",
    "df_all.to_csv(\"./data/accuracies/CD_Consumers_Producers_Accuracy_TOI4.csv\", sep=\";\", index=False)"
   ]
  },
  {
   "attachments": {},
   "cell_type": "markdown",
   "metadata": {},
   "source": []
  },
  {
   "cell_type": "code",
   "execution_count": null,
   "metadata": {},
   "outputs": [],
   "source": []
  },
  {
   "attachments": {},
   "cell_type": "markdown",
   "metadata": {},
   "source": [
    "##### Resources for code snippets\n",
    "\n",
    "https://colab.research.google.com/github/csaybar/EEwPython/blob/dev/10_Export.ipynb \\\n",
    "https://worldbank.github.io/OpenNightLights/tutorials/mod6_6_RF_classifier.html \\\n",
    "https://towardsdatascience.com/how-to-easily-create-tables-in-python-2eaea447d8fd \\\n",
    "https://developers.google.com/earth-engine/apidocs/ee-classifier-smilerandomforest"
   ]
  }
 ],
 "metadata": {
  "kernelspec": {
   "display_name": "gee",
   "language": "python",
   "name": "python3"
  },
  "language_info": {
   "codemirror_mode": {
    "name": "ipython",
    "version": 3
   },
   "file_extension": ".py",
   "mimetype": "text/x-python",
   "name": "python",
   "nbconvert_exporter": "python",
   "pygments_lexer": "ipython3",
   "version": "3.8.15"
  },
  "orig_nbformat": 4,
  "vscode": {
   "interpreter": {
    "hash": "9209488edf9d13047b02f465a1e424d25e94bca618bbcafe1fa335f4d032a39f"
   }
  }
 },
 "nbformat": 4,
 "nbformat_minor": 2
}
