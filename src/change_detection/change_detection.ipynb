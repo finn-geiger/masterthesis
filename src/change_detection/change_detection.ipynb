{
 "cells": [
  {
   "attachments": {},
   "cell_type": "markdown",
   "metadata": {},
   "source": [
    "# Change Detection (CD) with Random Forest (RF)"
   ]
  },
  {
   "attachments": {},
   "cell_type": "markdown",
   "metadata": {},
   "source": [
    "### Post-Classification CD using RF classifier\n",
    "### Using Google Earth Engine Python API and NICFI Normalized Analytic Basemap from December 2015, December 2017, December 2019, and December 2021\n",
    "\n",
    "Author: Finn Geiger\\\n",
    "Date: April 6th 2023\\\n",
    "Contact:\n",
    "- https://github.com/finn-geiger\n",
    "- https://www.linkedin.com/in/finn-geiger-b1329a20b/\n",
    "\n",
    "### Steps:\n",
    "1. Importing the datasets and classification result of 2015\n",
    "2. OPIT classification for 2017, 2019, and 2021\n",
    "3. CD for TOI 2015 to 2017\n",
    "    1. performing CD\n",
    "    2. Two-Step Accuracy Assessment\n",
    "    3. Creating map products for CD\n",
    "4. CD for TOI 2017 to 2019\n",
    "    1. performing CD\n",
    "    2. Two-Step Accuracy Assessment\n",
    "    3. Creating map products for CD\n",
    "5. CD for TOI 2019 to 2021\n",
    "    1. performing CD\n",
    "    2. Two-Step Accuracy Assessment\n",
    "    3. Creating map products for CD\n",
    "6. Final products"
   ]
  },
  {
   "attachments": {},
   "cell_type": "markdown",
   "metadata": {},
   "source": [
    "### 1 Import and setup\n",
    "#### 1.1 Importing the required libraries and packages"
   ]
  },
  {
   "cell_type": "code",
   "execution_count": 1,
   "metadata": {},
   "outputs": [],
   "source": [
    "%matplotlib inline\n",
    "import numpy as np\n",
    "import matplotlib.pyplot as plt\n",
    "import geemap\n",
    "import ee\n",
    "import os\n",
    "import time\n",
    "import pandas as pd\n",
    "from tabulate import tabulate\n",
    "#%pip install tabulate\n"
   ]
  },
  {
   "attachments": {},
   "cell_type": "markdown",
   "metadata": {},
   "source": [
    "The following classes and landcover IDs will be used:"
   ]
  },
  {
   "cell_type": "code",
   "execution_count": 2,
   "metadata": {},
   "outputs": [
    {
     "name": "stdout",
     "output_type": "stream",
     "text": [
      "╒══════════════╤════════════════╕\n",
      "│ Class name   │   landcover ID │\n",
      "╞══════════════╪════════════════╡\n",
      "│ Informal     │              1 │\n",
      "├──────────────┼────────────────┤\n",
      "│ Formal       │              2 │\n",
      "├──────────────┼────────────────┤\n",
      "│ Industrial   │              3 │\n",
      "├──────────────┼────────────────┤\n",
      "│ Roads        │              4 │\n",
      "├──────────────┼────────────────┤\n",
      "│ Vacant land  │              5 │\n",
      "├──────────────┼────────────────┤\n",
      "│ Vegetation   │              6 │\n",
      "├──────────────┼────────────────┤\n",
      "│ Water-bodies │              7 │\n",
      "╘══════════════╧════════════════╛\n"
     ]
    }
   ],
   "source": [
    "info = {'Class name': ['Informal', 'Formal', 'Industrial', 'Roads', 'Vacant land', 'Vegetation', 'Water-bodies'],\n",
    "        'landcover ID': [1, 2, 3, 4, 5, 6, 7]}\n",
    "\n",
    "print(tabulate(info, headers='keys', tablefmt='fancy_grid'))"
   ]
  },
  {
   "attachments": {},
   "cell_type": "markdown",
   "metadata": {},
   "source": [
    "##### When first using the GEE Python API the user must authenticate and initialize the environment by using the following two lines of codes:"
   ]
  },
  {
   "cell_type": "code",
   "execution_count": 3,
   "metadata": {},
   "outputs": [],
   "source": [
    "#ee.Authenticate() \n",
    "#ee.Initialize()"
   ]
  },
  {
   "cell_type": "code",
   "execution_count": 4,
   "metadata": {},
   "outputs": [
    {
     "data": {
      "application/vnd.jupyter.widget-view+json": {
       "model_id": "14efeb0a049a41c4a9252e5a031ed056",
       "version_major": 2,
       "version_minor": 0
      },
      "text/plain": [
       "Map(center=[20, 0], controls=(WidgetControl(options=['position', 'transparent_bg'], widget=HBox(children=(Togg…"
      ]
     },
     "metadata": {},
     "output_type": "display_data"
    }
   ],
   "source": [
    "# creating the map\n",
    "Map = geemap.Map()\n",
    "\n",
    "# loading the interactive map\n",
    "Map"
   ]
  },
  {
   "attachments": {},
   "cell_type": "markdown",
   "metadata": {},
   "source": [
    "#### 1.2 Importing the datasets from GEE assets and data catalog and clipping the basemap to the AOI"
   ]
  },
  {
   "cell_type": "code",
   "execution_count": 5,
   "metadata": {},
   "outputs": [],
   "source": [
    "# Loading the Base scene\n",
    "nicfi = ee.ImageCollection('projects/planet-nicfi/assets/basemaps/africa')\n",
    "\n",
    "# Filter basemaps by date and get the first image from filtered results\n",
    "basemap_2017_12 = nicfi.filter(ee.Filter.date('2017-12-01','2018-01-01')).first()\n",
    "basemap_2019_12 = nicfi.filter(ee.Filter.date('2019-12-01','2029-01-01')).first()\n",
    "basemap_2021_12 = nicfi.filter(ee.Filter.date('2021-12-01','2022-01-01')).first()\n",
    "\n",
    "# importing the classified scene from 2015\n",
    "classified_TOI1_2015 = ee.Image('users/s85315/masterthesis/change_detection_results/classified_TOI1_RF')\n",
    "\n",
    "# Visualizing the scene\n",
    "vis_params = {\"bands\":[\"R\",\"G\",\"B\"],\"min\":64,\"max\":5454,\"gamma\":1.8}\n",
    "\n",
    "# Adding the basemap to the map\n",
    "Map.centerObject(basemap_2017_12, 4)\n",
    "# Map.addLayer(basemap_2017_12, vis_params, '2017-12 mosaic', False)\n",
    "# Map.addLayer(basemap_2019_12, vis_params, '2019-12 mosaic', False)\n",
    "# Map.addLayer(basemap_2021_12, vis_params, '2021-12 mosaic', False)"
   ]
  },
  {
   "cell_type": "code",
   "execution_count": 6,
   "metadata": {},
   "outputs": [],
   "source": [
    "# Loading the AOI and Masking the base scene\n",
    "vis_params_aoi = {'color': 'blue'}\n",
    "aoi_windhoek = ee.FeatureCollection('users/s85315/masterthesis/Study_Area_Windhoek')\n",
    "\n",
    "# Adding the AOI to the map\n",
    "Map.addLayer(aoi_windhoek, vis_params_aoi, 'AOI')\n",
    "Map.centerObject(aoi_windhoek, 12)"
   ]
  },
  {
   "cell_type": "code",
   "execution_count": 7,
   "metadata": {},
   "outputs": [],
   "source": [
    "# clipping the clipped_TOI1_2015 to the AOI\n",
    "clipped_TOI2_2017 = basemap_2017_12.clipToCollection(aoi_windhoek)\n",
    "clipped_TOI3_2019 = basemap_2019_12.clipToCollection(aoi_windhoek)\n",
    "clipped_TOI4_2021 = basemap_2021_12.clipToCollection(aoi_windhoek)\n",
    "\n",
    "Map.addLayer(clipped_TOI2_2017, vis_params, 'clipped_2017', False)\n",
    "Map.addLayer(clipped_TOI3_2019, vis_params, 'clipped_2019', False)\n",
    "Map.addLayer(clipped_TOI4_2021, vis_params, 'clipped_2021', False)"
   ]
  },
  {
   "cell_type": "code",
   "execution_count": 8,
   "metadata": {},
   "outputs": [],
   "source": [
    "# importing training data samples and adding them to the map\n",
    "# Transforming the Geometries into FeatureCollections and applying properties\n",
    "training_samples_2017 = ee.FeatureCollection('users/s85315/masterthesis/TrainingSamples/ChangeDetection/TS_TOI2_2017_RPoints')\n",
    "training_samples_2019 = ee.FeatureCollection('users/s85315/masterthesis/TrainingSamples/ChangeDetection/TS_TOI3_2019_RPoints')\n",
    "training_samples_2021 = ee.FeatureCollection('users/s85315/masterthesis/TrainingSamples/ChangeDetection/TS_TOI4_2021_RPoints')\n",
    "\n",
    "# adding the layers to the map\n",
    "# Map.addLayer(training_samples_2017, {}, 'Training Samples for 2017')\n",
    "# Map.addLayer(training_samples_2019, {}, 'Training Samples for 2019')\n",
    "# Map.addLayer(training_samples_2021, {}, 'Training Samples for 2021')"
   ]
  },
  {
   "attachments": {},
   "cell_type": "markdown",
   "metadata": {},
   "source": [
    "### 2 OPIT Classification with RF for TOIs 2017, 2019, and 2021"
   ]
  },
  {
   "attachments": {},
   "cell_type": "markdown",
   "metadata": {},
   "source": [
    "#### 2.1 Configuration and creation of the empty RF classifier"
   ]
  },
  {
   "cell_type": "code",
   "execution_count": 9,
   "metadata": {},
   "outputs": [],
   "source": [
    "# creating variable for parameter settings\n",
    "# Mtry will be set to default\n",
    "RF_param = 550\n",
    "\n",
    "classifier_params = {\n",
    "              'numberOfTrees':RF_param, # \tNtree; The number of decision trees to create.\n",
    "              'variablesPerSplit':None, # Mtry; The number of variables per split. If unspecified, uses the square root of the number of variables.\n",
    "              'minLeafPopulation':1, # smallest sample size possible per leaf\n",
    "              'bagFraction':0.5, #The fraction of input to bag per tree.\n",
    "              'maxNodes':None, # the number of individual decision tree models\n",
    "              'seed': 0}  # The randomization seed."
   ]
  },
  {
   "attachments": {},
   "cell_type": "markdown",
   "metadata": {},
   "source": [
    "#### 2.2 Applying training samples on the scenes"
   ]
  },
  {
   "attachments": {},
   "cell_type": "markdown",
   "metadata": {},
   "source": [
    "##### 2.2.1 TOI2 - 2017"
   ]
  },
  {
   "cell_type": "code",
   "execution_count": 10,
   "metadata": {},
   "outputs": [],
   "source": [
    "# adding the training samples to the basescene\n",
    "training_2017 = clipped_TOI2_2017.sampleRegions(**{\n",
    "    'collection': training_samples_2017, \n",
    "    'properties': ['landcover'], \n",
    "    'scale': 4.77\n",
    "})\n",
    "\n",
    "# creating the classifier using RF\n",
    "classifier_2017 = ee.Classifier.smileRandomForest(**classifier_params).train(**{\n",
    "  'features': training_2017,  \n",
    "  'classProperty': 'landcover', \n",
    "  'inputProperties': clipped_TOI2_2017.bandNames()\n",
    "})"
   ]
  },
  {
   "attachments": {},
   "cell_type": "markdown",
   "metadata": {},
   "source": [
    "##### 2.2.2 TOI3 - 2019"
   ]
  },
  {
   "cell_type": "code",
   "execution_count": 11,
   "metadata": {},
   "outputs": [],
   "source": [
    "# adding the training samples to the basescene\n",
    "training_2019 = clipped_TOI3_2019.sampleRegions(**{\n",
    "    'collection': training_samples_2019, \n",
    "    'properties': ['landcover'], \n",
    "    'scale': 4.77\n",
    "})\n",
    "\n",
    "# creating the classifier using RF\n",
    "classifier_2019 = ee.Classifier.smileRandomForest(**classifier_params).train(**{\n",
    "  'features': training_2019,  \n",
    "  'classProperty': 'landcover', \n",
    "  'inputProperties': clipped_TOI3_2019.bandNames()\n",
    "})"
   ]
  },
  {
   "attachments": {},
   "cell_type": "markdown",
   "metadata": {},
   "source": [
    "##### 2.2.3 TOI4 - 2021"
   ]
  },
  {
   "cell_type": "code",
   "execution_count": 12,
   "metadata": {},
   "outputs": [],
   "source": [
    "# adding the training samples to the basescene\n",
    "training_2021 = clipped_TOI4_2021.sampleRegions(**{\n",
    "    'collection': training_samples_2021, \n",
    "    'properties': ['landcover'], \n",
    "    'scale': 4.77\n",
    "})\n",
    "\n",
    "# creating the classifier using RF\n",
    "classifier_2021 = ee.Classifier.smileRandomForest(**classifier_params).train(**{\n",
    "  'features': training_2021,  \n",
    "  'classProperty': 'landcover', \n",
    "  'inputProperties': clipped_TOI4_2021.bandNames()\n",
    "})"
   ]
  },
  {
   "attachments": {},
   "cell_type": "markdown",
   "metadata": {},
   "source": [
    "#### 2.3 classifying the basescene and visualizing the product"
   ]
  },
  {
   "cell_type": "code",
   "execution_count": 13,
   "metadata": {},
   "outputs": [],
   "source": [
    "# classifying the basescene using the created classifier\n",
    "classified_TOI2_2017 = clipped_TOI2_2017.classify(classifier_2017)\n",
    "classified_TOI3_2019 = clipped_TOI3_2019.classify(classifier_2019)\n",
    "classified_TOI4_2021 = clipped_TOI4_2021.classify(classifier_2021)\n",
    "\n",
    "# creating the visualization parameters\n",
    "palette = ['c43c39', 'e5b636', '2f2f2f', 'aaaaaa', 'b08e7a', '85b66f', 'a5bfdd']\n",
    "vis_params_classified = {'min': 1, 'max': 7, 'palette': palette}\n",
    "\n",
    "\n",
    "# Map.addLayer(classified_TOI1_2015, vis_params_classified, 'classified scene - 2015')\n",
    "# Map.addLayer(classified_TOI2_2017, vis_params_classified, 'classified scene - 2017')\n",
    "# Map.addLayer(classified_TOI3_2019, vis_params_classified, 'classified scene - 2019')\n",
    "# Map.addLayer(classified_TOI4_2021, vis_params_classified, 'classified scene - 2021')\n"
   ]
  },
  {
   "attachments": {},
   "cell_type": "markdown",
   "metadata": {},
   "source": [
    "#### 2.4 Exporting the results"
   ]
  },
  {
   "attachments": {},
   "cell_type": "markdown",
   "metadata": {},
   "source": [
    "##### 2.4.1 Exporting to Google Drive"
   ]
  },
  {
   "cell_type": "code",
   "execution_count": 14,
   "metadata": {},
   "outputs": [],
   "source": [
    "# converting the FeatureCollection to Geometry for export\n",
    "aoi_geom = aoi_windhoek.geometry()\n",
    "\n",
    "# # exporting to Google drive with GEE API\n",
    "# export = ee.batch.Export.image.toDrive(**{\n",
    "#     'image': classified_TOI1_2015,\n",
    "#     'description': 'classified_TOI1_RF', # TODO: change name here\n",
    "#     'folder': 'masterthesis/change_detection_results', # TODO: change name here\n",
    "#     'scale': 4.77,\n",
    "#     'region': aoi_geom\n",
    "# })\n",
    "\n",
    "# # starting the process\n",
    "# export.start()\n",
    "\n",
    "# # tracking the process\n",
    "# while export.active():\n",
    "#   print('Polling for task (id: {}).'.format(export.id))\n",
    "#   time.sleep(5)"
   ]
  },
  {
   "attachments": {},
   "cell_type": "markdown",
   "metadata": {},
   "source": [
    "##### 2.4.2 Exporting to Asset"
   ]
  },
  {
   "cell_type": "code",
   "execution_count": 15,
   "metadata": {},
   "outputs": [],
   "source": [
    "# # exporting to Google Asset\n",
    "# export = ee.batch.Export.image.toAsset(**{\n",
    "#   'image': classified_TOI1_2015,\n",
    "#   'description': 'Export classified map',\n",
    "#   'assetId': 'users/s85315/masterthesis/change_detection_results/classified_TOI1_RF', # TODO: change name here\n",
    "#   'scale': 4.77,\n",
    "#   'region': aoi_geom\n",
    "# })\n",
    "\n",
    "# # starting the process\n",
    "# export.start()\n",
    "\n",
    "# # tracking the process\n",
    "# while export.active():\n",
    "#   print('Polling for task (id: {}).'.format(export.id))\n",
    "#   time.sleep(5)"
   ]
  },
  {
   "attachments": {},
   "cell_type": "markdown",
   "metadata": {},
   "source": [
    "### 3 CD for TOI 2015 to 2017"
   ]
  },
  {
   "attachments": {},
   "cell_type": "markdown",
   "metadata": {},
   "source": [
    "#### 3.1 Performing the CD analysis"
   ]
  },
  {
   "cell_type": "code",
   "execution_count": 16,
   "metadata": {},
   "outputs": [],
   "source": [
    "changed_areas_2015_2017 = classified_TOI2_2017.subtract(classified_TOI1_2015).neq(0)"
   ]
  },
  {
   "cell_type": "code",
   "execution_count": 17,
   "metadata": {},
   "outputs": [],
   "source": [
    "vis_params_changed = {'min':0, 'max':1, 'palette': ['white', 'red']}\n",
    "\n",
    "\n",
    "Map.addLayer(changed_areas_2015_2017, vis_params_changed, 'Changed areas 2015 to 2017')\n",
    "\n",
    "transition_2015_2017 = classified_TOI1_2015.multiply(100).add(classified_TOI2_2017).rename('transitions')\n"
   ]
  },
  {
   "attachments": {},
   "cell_type": "markdown",
   "metadata": {},
   "source": [
    "#### Calculation of transitions in Pixels"
   ]
  },
  {
   "cell_type": "code",
   "execution_count": 33,
   "metadata": {},
   "outputs": [
    {
     "name": "stdout",
     "output_type": "stream",
     "text": [
      "  From-To   Pixel\n",
      "0     101  164547\n",
      "1     102   68674\n",
      "2     103   43007\n",
      "3     104  104519\n",
      "4     105   74909\n"
     ]
    }
   ],
   "source": [
    "# calculating the size per \n",
    "transition_matrix_CD1 = transition_2015_2017.reduceRegion(**{\n",
    "  'reducer': ee.Reducer.frequencyHistogram(),\n",
    "  'geometry': aoi_geom,\n",
    "  'scale': 4.77,\n",
    "  'tileScale': 16,\n",
    "  'maxPixels': 1e10\n",
    "  })\n",
    "\n",
    "transitions_2015_2017 = transition_matrix_CD1.get('transitions').getInfo()\n",
    "df_transitions_2015_2017 = pd.DataFrame(transitions_2015_2017, index=[0])\n",
    "df_transitions_2015_2017_long = pd.melt(df_transitions_2015_2017, var_name='From-To', value_name=\"Pixel\")\n",
    "df_transitions_2015_2017_long['Pixel'] = df_transitions_2015_2017_long['Pixel'].astype(int)\n",
    "\n",
    "\n",
    "print(df_transitions_2015_2017_long.head())\n",
    "df_transitions_2015_2017.to_csv('Test_transitions_2015_2017.csv', index=False, sep=\";\")\n"
   ]
  },
  {
   "cell_type": "code",
   "execution_count": 50,
   "metadata": {},
   "outputs": [
    {
     "name": "stdout",
     "output_type": "stream",
     "text": [
      "[{'sum': 3101314.6795147764, 'transitions': 101}, {'sum': 1348797.1475753784, 'transitions': 102}, {'sum': 840394.8313446045, 'transitions': 103}, {'sum': 1994920.9534307218, 'transitions': 104}, {'sum': 1488823.736224455, 'transitions': 105}, {'sum': 116254.55719386082, 'transitions': 106}, {'sum': 1004.1867198944092, 'transitions': 107}, {'sum': 1731524.6020883, 'transitions': 201}, {'sum': 2751395.8055124246, 'transitions': 202}, {'sum': 943311.486333847, 'transitions': 203}, {'sum': 1821277.6862523397, 'transitions': 204}, {'sum': 524619.0555862652, 'transitions': 205}, {'sum': 50875.38187599182, 'transitions': 206}, {'sum': 1798.9118194580078, 'transitions': 207}, {'sum': 425100.3991088867, 'transitions': 301}, {'sum': 986318.1524047852, 'transitions': 302}, {'sum': 784862.5508441925, 'transitions': 303}, {'sum': 390743.7048187256, 'transitions': 304}, {'sum': 38198.64871788025, 'transitions': 305}, {'sum': 7195.9491329193115, 'transitions': 306}, {'sum': 2698.4927940368652, 'transitions': 307}, {'sum': 1348251.4376098632, 'transitions': 401}, {'sum': 1009635.7404737734, 'transitions': 402}, {'sum': 258644.25396347046, 'transitions': 403}, {'sum': 2306137.03184528, 'transitions': 404}, {'sum': 1842069.327856333, 'transitions': 405}, {'sum': 284853.2584100461, 'transitions': 406}, {'sum': 27390.902533632165, 'transitions': 407}, {'sum': 1249244.6224704743, 'transitions': 501}, {'sum': 824726.1175395068, 'transitions': 502}, {'sum': 87151.28293418884, 'transitions': 503}, {'sum': 3364033.7982562864, 'transitions': 504}, {'sum': 26635006.918707713, 'transitions': 505}, {'sum': 8255008.350061851, 'transitions': 506}, {'sum': 374598.79142891377, 'transitions': 507}, {'sum': 376892.42396376363, 'transitions': 601}, {'sum': 132290.28489015618, 'transitions': 602}, {'sum': 30103.119764328003, 'transitions': 603}, {'sum': 500612.0045747121, 'transitions': 604}, {'sum': 5446692.812401371, 'transitions': 605}, {'sum': 6862587.983037986, 'transitions': 606}, {'sum': 185314.37714403938, 'transitions': 607}, {'sum': 2489.2178325653076, 'transitions': 701}, {'sum': 669.3836898803711, 'transitions': 702}, {'sum': 1715.289960861206, 'transitions': 703}, {'sum': 5104.0188064575195, 'transitions': 704}, {'sum': 31336.82350730896, 'transitions': 705}, {'sum': 97565.88946723938, 'transitions': 706}, {'sum': 790851.429725647, 'transitions': 707}]\n",
      "81682383\n"
     ]
    }
   ],
   "source": [
    "area_changed_CD1_sqm = ee.Image.pixelArea().addBands(transition_2015_2017)\n",
    "area_changed_CD1_ha = ee.Image.pixelArea().divide(10000).addBands(transition_2015_2017)\n",
    "\n",
    "\n",
    "# getting the values per class\n",
    "areas_changed_CD1_sqm_class = area_changed_CD1_sqm.reduceRegion(**{\n",
    "    'reducer': ee.Reducer.sum().group(**{\n",
    "    'groupField': 1,\n",
    "    'groupName': 'transitions',\n",
    "    }),\n",
    "    'geometry': aoi_geom, \n",
    "    'scale': 4.77\n",
    "    # 'tileScale': 16,\n",
    "    # 'maxPixels': 1e10\n",
    "    })\n",
    "\n",
    "class_areas = ee.List(areas_changed_CD1_sqm_class.get('groups'))\n",
    "print(class_areas.getInfo())\n",
    "\n",
    "df_class_areas = pd.DataFrame(class_areas.getInfo())\n",
    "df_class_areas['sum'] = df_class_areas['sum'].astype(int)\n",
    "print(df_class_areas['sum'].sum())\n",
    "df_class_areas.to_csv('Class_Size.csv', sep=\";\", index=False)"
   ]
  },
  {
   "cell_type": "code",
   "execution_count": 30,
   "metadata": {},
   "outputs": [],
   "source": [
    "# zones = changed_areas_2015_2017.select('classification').eq(1)\n",
    "\n",
    "# vectors = zones.reduceToVectors(**{\n",
    "#   'geometry': aoi_geom,\n",
    "#   'scale': 4.77,\n",
    "#   'reducer': ee.Reducer.mean()\n",
    "# })\n",
    "\n",
    "# display = ee.Image(0).updateMask(0).paint(vectors, '000000', 1)\n",
    "\n",
    "# visParams2010 = {'min':0, 'max':1, 'palette': ['white', 'red']};\n",
    "\n",
    "\n",
    "# Map.addLayer(display, {}, 'Vectors')"
   ]
  },
  {
   "cell_type": "code",
   "execution_count": 18,
   "metadata": {},
   "outputs": [
    {
     "name": "stdout",
     "output_type": "stream",
     "text": [
      "Polling for task (id: VGHKYC5DVCNYJHFRRG3DZL4S).\n",
      "Polling for task (id: VGHKYC5DVCNYJHFRRG3DZL4S).\n",
      "Polling for task (id: VGHKYC5DVCNYJHFRRG3DZL4S).\n",
      "Polling for task (id: VGHKYC5DVCNYJHFRRG3DZL4S).\n",
      "Polling for task (id: VGHKYC5DVCNYJHFRRG3DZL4S).\n",
      "Polling for task (id: VGHKYC5DVCNYJHFRRG3DZL4S).\n",
      "Polling for task (id: VGHKYC5DVCNYJHFRRG3DZL4S).\n",
      "Polling for task (id: VGHKYC5DVCNYJHFRRG3DZL4S).\n",
      "Polling for task (id: VGHKYC5DVCNYJHFRRG3DZL4S).\n",
      "Polling for task (id: VGHKYC5DVCNYJHFRRG3DZL4S).\n",
      "Polling for task (id: VGHKYC5DVCNYJHFRRG3DZL4S).\n",
      "Polling for task (id: VGHKYC5DVCNYJHFRRG3DZL4S).\n",
      "Polling for task (id: VGHKYC5DVCNYJHFRRG3DZL4S).\n",
      "Polling for task (id: VGHKYC5DVCNYJHFRRG3DZL4S).\n",
      "Polling for task (id: VGHKYC5DVCNYJHFRRG3DZL4S).\n",
      "Polling for task (id: VGHKYC5DVCNYJHFRRG3DZL4S).\n",
      "Polling for task (id: VGHKYC5DVCNYJHFRRG3DZL4S).\n",
      "Polling for task (id: VGHKYC5DVCNYJHFRRG3DZL4S).\n",
      "Polling for task (id: VGHKYC5DVCNYJHFRRG3DZL4S).\n",
      "Polling for task (id: VGHKYC5DVCNYJHFRRG3DZL4S).\n",
      "Polling for task (id: VGHKYC5DVCNYJHFRRG3DZL4S).\n",
      "Polling for task (id: VGHKYC5DVCNYJHFRRG3DZL4S).\n",
      "Polling for task (id: VGHKYC5DVCNYJHFRRG3DZL4S).\n",
      "Polling for task (id: VGHKYC5DVCNYJHFRRG3DZL4S).\n",
      "Polling for task (id: VGHKYC5DVCNYJHFRRG3DZL4S).\n",
      "Polling for task (id: VGHKYC5DVCNYJHFRRG3DZL4S).\n",
      "Polling for task (id: VGHKYC5DVCNYJHFRRG3DZL4S).\n",
      "Polling for task (id: VGHKYC5DVCNYJHFRRG3DZL4S).\n",
      "Polling for task (id: VGHKYC5DVCNYJHFRRG3DZL4S).\n",
      "Polling for task (id: VGHKYC5DVCNYJHFRRG3DZL4S).\n",
      "Polling for task (id: VGHKYC5DVCNYJHFRRG3DZL4S).\n",
      "Polling for task (id: VGHKYC5DVCNYJHFRRG3DZL4S).\n",
      "Polling for task (id: VGHKYC5DVCNYJHFRRG3DZL4S).\n",
      "Polling for task (id: VGHKYC5DVCNYJHFRRG3DZL4S).\n",
      "Polling for task (id: VGHKYC5DVCNYJHFRRG3DZL4S).\n",
      "Polling for task (id: VGHKYC5DVCNYJHFRRG3DZL4S).\n",
      "Polling for task (id: VGHKYC5DVCNYJHFRRG3DZL4S).\n",
      "Polling for task (id: VGHKYC5DVCNYJHFRRG3DZL4S).\n",
      "Polling for task (id: VGHKYC5DVCNYJHFRRG3DZL4S).\n",
      "Polling for task (id: VGHKYC5DVCNYJHFRRG3DZL4S).\n",
      "Polling for task (id: VGHKYC5DVCNYJHFRRG3DZL4S).\n",
      "Polling for task (id: VGHKYC5DVCNYJHFRRG3DZL4S).\n",
      "Polling for task (id: VGHKYC5DVCNYJHFRRG3DZL4S).\n",
      "Polling for task (id: VGHKYC5DVCNYJHFRRG3DZL4S).\n",
      "Polling for task (id: VGHKYC5DVCNYJHFRRG3DZL4S).\n",
      "Polling for task (id: VGHKYC5DVCNYJHFRRG3DZL4S).\n",
      "Polling for task (id: VGHKYC5DVCNYJHFRRG3DZL4S).\n",
      "Polling for task (id: VGHKYC5DVCNYJHFRRG3DZL4S).\n",
      "Polling for task (id: VGHKYC5DVCNYJHFRRG3DZL4S).\n",
      "Polling for task (id: VGHKYC5DVCNYJHFRRG3DZL4S).\n",
      "Polling for task (id: VGHKYC5DVCNYJHFRRG3DZL4S).\n",
      "Polling for task (id: VGHKYC5DVCNYJHFRRG3DZL4S).\n",
      "Polling for task (id: VGHKYC5DVCNYJHFRRG3DZL4S).\n",
      "Polling for task (id: VGHKYC5DVCNYJHFRRG3DZL4S).\n",
      "Polling for task (id: VGHKYC5DVCNYJHFRRG3DZL4S).\n",
      "Polling for task (id: VGHKYC5DVCNYJHFRRG3DZL4S).\n",
      "Polling for task (id: VGHKYC5DVCNYJHFRRG3DZL4S).\n",
      "Polling for task (id: VGHKYC5DVCNYJHFRRG3DZL4S).\n",
      "Polling for task (id: VGHKYC5DVCNYJHFRRG3DZL4S).\n",
      "Polling for task (id: VGHKYC5DVCNYJHFRRG3DZL4S).\n",
      "Polling for task (id: VGHKYC5DVCNYJHFRRG3DZL4S).\n",
      "Polling for task (id: VGHKYC5DVCNYJHFRRG3DZL4S).\n",
      "Polling for task (id: VGHKYC5DVCNYJHFRRG3DZL4S).\n",
      "Polling for task (id: VGHKYC5DVCNYJHFRRG3DZL4S).\n",
      "Polling for task (id: VGHKYC5DVCNYJHFRRG3DZL4S).\n",
      "Polling for task (id: VGHKYC5DVCNYJHFRRG3DZL4S).\n",
      "Polling for task (id: VGHKYC5DVCNYJHFRRG3DZL4S).\n",
      "Polling for task (id: VGHKYC5DVCNYJHFRRG3DZL4S).\n",
      "Polling for task (id: VGHKYC5DVCNYJHFRRG3DZL4S).\n",
      "Polling for task (id: VGHKYC5DVCNYJHFRRG3DZL4S).\n",
      "Polling for task (id: VGHKYC5DVCNYJHFRRG3DZL4S).\n",
      "Polling for task (id: VGHKYC5DVCNYJHFRRG3DZL4S).\n",
      "Polling for task (id: VGHKYC5DVCNYJHFRRG3DZL4S).\n",
      "Polling for task (id: VGHKYC5DVCNYJHFRRG3DZL4S).\n",
      "Polling for task (id: VGHKYC5DVCNYJHFRRG3DZL4S).\n",
      "Polling for task (id: VGHKYC5DVCNYJHFRRG3DZL4S).\n",
      "Polling for task (id: VGHKYC5DVCNYJHFRRG3DZL4S).\n",
      "Polling for task (id: VGHKYC5DVCNYJHFRRG3DZL4S).\n",
      "Polling for task (id: VGHKYC5DVCNYJHFRRG3DZL4S).\n",
      "Polling for task (id: VGHKYC5DVCNYJHFRRG3DZL4S).\n",
      "Polling for task (id: VGHKYC5DVCNYJHFRRG3DZL4S).\n",
      "Polling for task (id: VGHKYC5DVCNYJHFRRG3DZL4S).\n",
      "Polling for task (id: VGHKYC5DVCNYJHFRRG3DZL4S).\n",
      "Polling for task (id: VGHKYC5DVCNYJHFRRG3DZL4S).\n",
      "Polling for task (id: VGHKYC5DVCNYJHFRRG3DZL4S).\n",
      "Polling for task (id: VGHKYC5DVCNYJHFRRG3DZL4S).\n",
      "Polling for task (id: VGHKYC5DVCNYJHFRRG3DZL4S).\n",
      "Polling for task (id: VGHKYC5DVCNYJHFRRG3DZL4S).\n",
      "Polling for task (id: VGHKYC5DVCNYJHFRRG3DZL4S).\n",
      "Polling for task (id: VGHKYC5DVCNYJHFRRG3DZL4S).\n",
      "Polling for task (id: VGHKYC5DVCNYJHFRRG3DZL4S).\n",
      "Polling for task (id: VGHKYC5DVCNYJHFRRG3DZL4S).\n",
      "Polling for task (id: VGHKYC5DVCNYJHFRRG3DZL4S).\n",
      "Polling for task (id: VGHKYC5DVCNYJHFRRG3DZL4S).\n",
      "Polling for task (id: VGHKYC5DVCNYJHFRRG3DZL4S).\n",
      "Polling for task (id: VGHKYC5DVCNYJHFRRG3DZL4S).\n",
      "Polling for task (id: VGHKYC5DVCNYJHFRRG3DZL4S).\n",
      "Polling for task (id: VGHKYC5DVCNYJHFRRG3DZL4S).\n",
      "Polling for task (id: VGHKYC5DVCNYJHFRRG3DZL4S).\n",
      "Polling for task (id: VGHKYC5DVCNYJHFRRG3DZL4S).\n",
      "Polling for task (id: VGHKYC5DVCNYJHFRRG3DZL4S).\n",
      "Polling for task (id: VGHKYC5DVCNYJHFRRG3DZL4S).\n",
      "Polling for task (id: VGHKYC5DVCNYJHFRRG3DZL4S).\n",
      "Polling for task (id: VGHKYC5DVCNYJHFRRG3DZL4S).\n",
      "Polling for task (id: VGHKYC5DVCNYJHFRRG3DZL4S).\n",
      "Polling for task (id: VGHKYC5DVCNYJHFRRG3DZL4S).\n",
      "Polling for task (id: VGHKYC5DVCNYJHFRRG3DZL4S).\n",
      "Polling for task (id: VGHKYC5DVCNYJHFRRG3DZL4S).\n",
      "Polling for task (id: VGHKYC5DVCNYJHFRRG3DZL4S).\n",
      "Polling for task (id: VGHKYC5DVCNYJHFRRG3DZL4S).\n",
      "Polling for task (id: VGHKYC5DVCNYJHFRRG3DZL4S).\n",
      "Polling for task (id: VGHKYC5DVCNYJHFRRG3DZL4S).\n",
      "Polling for task (id: VGHKYC5DVCNYJHFRRG3DZL4S).\n",
      "Polling for task (id: VGHKYC5DVCNYJHFRRG3DZL4S).\n",
      "Polling for task (id: VGHKYC5DVCNYJHFRRG3DZL4S).\n",
      "Polling for task (id: VGHKYC5DVCNYJHFRRG3DZL4S).\n",
      "Polling for task (id: VGHKYC5DVCNYJHFRRG3DZL4S).\n",
      "Polling for task (id: VGHKYC5DVCNYJHFRRG3DZL4S).\n",
      "Polling for task (id: VGHKYC5DVCNYJHFRRG3DZL4S).\n",
      "Polling for task (id: VGHKYC5DVCNYJHFRRG3DZL4S).\n"
     ]
    }
   ],
   "source": [
    "# # converting the FeatureCollection to Geometry for export\n",
    "# aoi_geom = aoi_windhoek.geometry()\n",
    "\n",
    "# # exporting to Google drive with GEE API\n",
    "# export = ee.batch.Export.image.toDrive(**{\n",
    "#     'image': changed_areas_2015_2017,\n",
    "#     'description': 'change_mask_TOI1_TOI2', # TODO: change name here\n",
    "#     'folder': 'masterthesis/change_detection_results', # TODO: change name here\n",
    "#     'scale': 4.77,\n",
    "#     'region': aoi_geom\n",
    "# })\n",
    "\n",
    "# # starting the process\n",
    "# export.start()\n",
    "\n",
    "# # tracking the process\n",
    "# while export.active():\n",
    "#   print('Polling for task (id: {}).'.format(export.id))\n",
    "#   time.sleep(5)"
   ]
  },
  {
   "attachments": {},
   "cell_type": "markdown",
   "metadata": {},
   "source": [
    "#### 3.2 Two-Step Accuracy Assessment"
   ]
  },
  {
   "attachments": {},
   "cell_type": "markdown",
   "metadata": {},
   "source": [
    "#### 3.3 Creating visualization"
   ]
  },
  {
   "cell_type": "markdown",
   "metadata": {},
   "source": [
    "### 3 CD for TOI 2015 to 2017"
   ]
  },
  {
   "cell_type": "markdown",
   "metadata": {},
   "source": [
    "#### 3.1 Performing the CD analysis"
   ]
  },
  {
   "cell_type": "markdown",
   "metadata": {},
   "source": [
    "#### 3.2 Two-Step Accuracy Assessment"
   ]
  },
  {
   "cell_type": "markdown",
   "metadata": {},
   "source": [
    "### 3 CD for TOI 2015 to 2017"
   ]
  },
  {
   "cell_type": "markdown",
   "metadata": {},
   "source": [
    "#### 3.1 Performing the CD analysis"
   ]
  },
  {
   "cell_type": "markdown",
   "metadata": {},
   "source": [
    "#### 3.2 Two-Step Accuracy Assessment"
   ]
  },
  {
   "attachments": {},
   "cell_type": "markdown",
   "metadata": {},
   "source": [
    "##### Resources for code snippets\n",
    "\n",
    "https://colab.research.google.com/github/csaybar/EEwPython/blob/dev/10_Export.ipynb \\\n",
    "https://worldbank.github.io/OpenNightLights/tutorials/mod6_6_RF_classifier.html \\\n",
    "https://towardsdatascience.com/how-to-easily-create-tables-in-python-2eaea447d8fd \\\n",
    "https://developers.google.com/earth-engine/apidocs/ee-classifier-smilerandomforest"
   ]
  }
 ],
 "metadata": {
  "kernelspec": {
   "display_name": "gee",
   "language": "python",
   "name": "python3"
  },
  "language_info": {
   "codemirror_mode": {
    "name": "ipython",
    "version": 3
   },
   "file_extension": ".py",
   "mimetype": "text/x-python",
   "name": "python",
   "nbconvert_exporter": "python",
   "pygments_lexer": "ipython3",
   "version": "3.8.15"
  },
  "orig_nbformat": 4,
  "vscode": {
   "interpreter": {
    "hash": "9209488edf9d13047b02f465a1e424d25e94bca618bbcafe1fa335f4d032a39f"
   }
  }
 },
 "nbformat": 4,
 "nbformat_minor": 2
}
