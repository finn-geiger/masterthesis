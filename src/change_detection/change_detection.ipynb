{
 "cells": [
  {
   "attachments": {},
   "cell_type": "markdown",
   "metadata": {},
   "source": [
    "# Change Detection (CD) with Random Forest (RF)"
   ]
  },
  {
   "attachments": {},
   "cell_type": "markdown",
   "metadata": {},
   "source": [
    "### Post-Classification CD using RF classifier\n",
    "### Using Google Earth Engine Python API and NICFI Normalized Analytic Basemap from December 2015, December 2017, December 2019, and December 2021\n",
    "\n",
    "Author: Finn Geiger\\\n",
    "Date: April 6th 2023\\\n",
    "Contact:\n",
    "- https://github.com/finn-geiger\n",
    "- https://www.linkedin.com/in/finn-geiger-b1329a20b/\n",
    "\n",
    "### Steps:\n",
    "1. Importing the datasets and classification result of 2015\n",
    "2. OPIT classification for 2017, 2019, and 2021\n",
    "3. CD for TOI 2015 to 2017\n",
    "4. CD for TOI 2017 to 2019\n",
    "5. CD for TOI 2019 to 2021\n",
    "6. Final products"
   ]
  },
  {
   "attachments": {},
   "cell_type": "markdown",
   "metadata": {},
   "source": [
    "### 1 Import and setup\n",
    "#### 1.1 Importing the required libraries and packages"
   ]
  },
  {
   "cell_type": "code",
   "execution_count": 1,
   "metadata": {},
   "outputs": [],
   "source": [
    "%matplotlib inline\n",
    "import numpy as np\n",
    "import matplotlib.pyplot as plt\n",
    "import geemap\n",
    "import ee\n",
    "import os\n",
    "import time\n",
    "import pandas as pd\n",
    "from tabulate import tabulate\n",
    "#%pip install tabulate\n"
   ]
  },
  {
   "attachments": {},
   "cell_type": "markdown",
   "metadata": {},
   "source": [
    "The following classes and landcover IDs will be used:"
   ]
  },
  {
   "cell_type": "code",
   "execution_count": 2,
   "metadata": {},
   "outputs": [
    {
     "name": "stdout",
     "output_type": "stream",
     "text": [
      "╒══════════════╤════════════════╕\n",
      "│ Class name   │   landcover ID │\n",
      "╞══════════════╪════════════════╡\n",
      "│ Informal     │              1 │\n",
      "├──────────────┼────────────────┤\n",
      "│ Formal       │              2 │\n",
      "├──────────────┼────────────────┤\n",
      "│ Industrial   │              3 │\n",
      "├──────────────┼────────────────┤\n",
      "│ Roads        │              4 │\n",
      "├──────────────┼────────────────┤\n",
      "│ Vacant land  │              5 │\n",
      "├──────────────┼────────────────┤\n",
      "│ Vegetation   │              6 │\n",
      "├──────────────┼────────────────┤\n",
      "│ Water-bodies │              7 │\n",
      "╘══════════════╧════════════════╛\n"
     ]
    }
   ],
   "source": [
    "info = {'Class name': ['Informal', 'Formal', 'Industrial', 'Roads', 'Vacant land', 'Vegetation', 'Water-bodies'],\n",
    "        'landcover ID': [1, 2, 3, 4, 5, 6, 7]}\n",
    "\n",
    "print(tabulate(info, headers='keys', tablefmt='fancy_grid'))"
   ]
  },
  {
   "attachments": {},
   "cell_type": "markdown",
   "metadata": {},
   "source": [
    "##### When first using the GEE Python API the user must authenticate and initialize the environment by using the following two lines of codes:"
   ]
  },
  {
   "cell_type": "code",
   "execution_count": 3,
   "metadata": {},
   "outputs": [],
   "source": [
    "#ee.Authenticate() \n",
    "#ee.Initialize()"
   ]
  },
  {
   "cell_type": "code",
   "execution_count": 4,
   "metadata": {},
   "outputs": [
    {
     "data": {
      "application/vnd.jupyter.widget-view+json": {
       "model_id": "487b154b7eb3485287b9001a96af9137",
       "version_major": 2,
       "version_minor": 0
      },
      "text/plain": [
       "Map(center=[20, 0], controls=(WidgetControl(options=['position', 'transparent_bg'], widget=HBox(children=(Togg…"
      ]
     },
     "metadata": {},
     "output_type": "display_data"
    }
   ],
   "source": [
    "# creating the map\n",
    "Map = geemap.Map()\n",
    "\n",
    "# loading the interactive map\n",
    "Map"
   ]
  },
  {
   "attachments": {},
   "cell_type": "markdown",
   "metadata": {},
   "source": [
    "#### 1.2 Importing the datasets from GEE assets and data catalog and clipping the basemap to the AOI"
   ]
  },
  {
   "cell_type": "code",
   "execution_count": 5,
   "metadata": {},
   "outputs": [],
   "source": [
    "# Loading the Base scene\n",
    "nicfi = ee.ImageCollection('projects/planet-nicfi/assets/basemaps/africa')\n",
    "\n",
    "# Filter basemaps by date and get the first image from filtered results\n",
    "basemap_2017_12 = nicfi.filter(ee.Filter.date('2017-12-01','2018-01-01')).first()\n",
    "basemap_2019_12 = nicfi.filter(ee.Filter.date('2019-12-01','2029-01-01')).first()\n",
    "basemap_2021_12 = nicfi.filter(ee.Filter.date('2021-12-01','2022-01-01')).first()\n",
    "\n",
    "# importing the classified scene from 2015\n",
    "classified_TOI1_2015 = ee.Image('users/s85315/masterthesis/change_detection_results/classified_TOI1_RF')\n",
    "\n",
    "# Visualizing the scene\n",
    "vis_params = {\"bands\":[\"R\",\"G\",\"B\"],\"min\":64,\"max\":5454,\"gamma\":1.8}\n",
    "\n",
    "# Adding the basemap to the map\n",
    "Map.centerObject(basemap_2017_12, 4)\n",
    "# Map.addLayer(basemap_2017_12, vis_params, '2017-12 mosaic', False)\n",
    "# Map.addLayer(basemap_2019_12, vis_params, '2019-12 mosaic', False)\n",
    "# Map.addLayer(basemap_2021_12, vis_params, '2021-12 mosaic', False)"
   ]
  },
  {
   "cell_type": "code",
   "execution_count": 6,
   "metadata": {},
   "outputs": [],
   "source": [
    "# Loading the AOI and Masking the base scene\n",
    "vis_params_aoi = {'color': 'blue'}\n",
    "aoi_windhoek = ee.FeatureCollection('users/s85315/masterthesis/Study_Area_Windhoek')\n",
    "\n",
    "# converting the FeatureCollection to Geometry for export\n",
    "aoi_geom = aoi_windhoek.geometry()\n",
    "\n",
    "# Adding the AOI to the map\n",
    "Map.addLayer(aoi_windhoek, vis_params_aoi, 'AOI')\n",
    "Map.centerObject(aoi_windhoek, 12)"
   ]
  },
  {
   "cell_type": "code",
   "execution_count": 7,
   "metadata": {},
   "outputs": [],
   "source": [
    "# clipping the clipped_TOI1_2015 to the AOI\n",
    "clipped_TOI2_2017 = basemap_2017_12.clipToCollection(aoi_windhoek)\n",
    "clipped_TOI3_2019 = basemap_2019_12.clipToCollection(aoi_windhoek)\n",
    "clipped_TOI4_2021 = basemap_2021_12.clipToCollection(aoi_windhoek)\n",
    "\n",
    "Map.addLayer(clipped_TOI2_2017, vis_params, 'clipped_2017', False)\n",
    "Map.addLayer(clipped_TOI3_2019, vis_params, 'clipped_2019', False)\n",
    "Map.addLayer(clipped_TOI4_2021, vis_params, 'clipped_2021', False)"
   ]
  },
  {
   "cell_type": "code",
   "execution_count": 8,
   "metadata": {},
   "outputs": [],
   "source": [
    "# importing training data samples and adding them to the map\n",
    "# Transforming the Geometries into FeatureCollections and applying properties\n",
    "training_samples_2017 = ee.FeatureCollection('users/s85315/masterthesis/TrainingSamples/ChangeDetection/TS_TOI2_2017_RPoints')\n",
    "training_samples_2019 = ee.FeatureCollection('users/s85315/masterthesis/TrainingSamples/ChangeDetection/TS_TOI3_2019_RPoints')\n",
    "training_samples_2021 = ee.FeatureCollection('users/s85315/masterthesis/TrainingSamples/ChangeDetection/TS_TOI4_2021_RPoints')\n",
    "\n",
    "# adding the layers to the map\n",
    "# Map.addLayer(training_samples_2017, {}, 'Training Samples for 2017')\n",
    "# Map.addLayer(training_samples_2019, {}, 'Training Samples for 2019')\n",
    "# Map.addLayer(training_samples_2021, {}, 'Training Samples for 2021')"
   ]
  },
  {
   "attachments": {},
   "cell_type": "markdown",
   "metadata": {},
   "source": [
    "### 2 OPIT Classification with RF for TOIs 2017, 2019, and 2021"
   ]
  },
  {
   "attachments": {},
   "cell_type": "markdown",
   "metadata": {},
   "source": [
    "#### 2.1 Configuration and creation of the empty RF classifier"
   ]
  },
  {
   "cell_type": "code",
   "execution_count": 9,
   "metadata": {},
   "outputs": [],
   "source": [
    "# creating variable for parameter settings\n",
    "# Mtry will be set to default\n",
    "RF_param = 550\n",
    "\n",
    "classifier_params = {\n",
    "              'numberOfTrees':RF_param, # \tNtree; The number of decision trees to create.\n",
    "              'variablesPerSplit':None, # Mtry; The number of variables per split. If unspecified, uses the square root of the number of variables.\n",
    "              'minLeafPopulation':1, # smallest sample size possible per leaf\n",
    "              'bagFraction':0.5, #The fraction of input to bag per tree.\n",
    "              'maxNodes':None, # the number of individual decision tree models\n",
    "              'seed': 0}  # The randomization seed."
   ]
  },
  {
   "attachments": {},
   "cell_type": "markdown",
   "metadata": {},
   "source": [
    "#### 2.2 Applying training samples on the scenes"
   ]
  },
  {
   "attachments": {},
   "cell_type": "markdown",
   "metadata": {},
   "source": [
    "##### 2.2.1 TOI2 - 2017"
   ]
  },
  {
   "cell_type": "code",
   "execution_count": 10,
   "metadata": {},
   "outputs": [],
   "source": [
    "# adding the training samples to the basescene\n",
    "training_2017 = clipped_TOI2_2017.sampleRegions(**{\n",
    "    'collection': training_samples_2017, \n",
    "    'properties': ['landcover'], \n",
    "    'scale': 4.77,\n",
    "    'projection': 'EPSG:32733'\n",
    "})\n",
    "\n",
    "# creating the classifier using RF\n",
    "classifier_2017 = ee.Classifier.smileRandomForest(**classifier_params).train(**{\n",
    "  'features': training_2017,  \n",
    "  'classProperty': 'landcover', \n",
    "  'inputProperties': clipped_TOI2_2017.bandNames()\n",
    "})"
   ]
  },
  {
   "attachments": {},
   "cell_type": "markdown",
   "metadata": {},
   "source": [
    "##### 2.2.2 TOI3 - 2019"
   ]
  },
  {
   "cell_type": "code",
   "execution_count": 11,
   "metadata": {},
   "outputs": [],
   "source": [
    "# adding the training samples to the basescene\n",
    "training_2019 = clipped_TOI3_2019.sampleRegions(**{\n",
    "    'collection': training_samples_2019, \n",
    "    'properties': ['landcover'], \n",
    "    'projection': 'EPSG:32733',\n",
    "    'scale': 4.77\n",
    "})\n",
    "\n",
    "# creating the classifier using RF\n",
    "classifier_2019 = ee.Classifier.smileRandomForest(**classifier_params).train(**{\n",
    "  'features': training_2019,  \n",
    "  'classProperty': 'landcover', \n",
    "  'inputProperties': clipped_TOI3_2019.bandNames()\n",
    "})"
   ]
  },
  {
   "attachments": {},
   "cell_type": "markdown",
   "metadata": {},
   "source": [
    "##### 2.2.3 TOI4 - 2021"
   ]
  },
  {
   "cell_type": "code",
   "execution_count": 12,
   "metadata": {},
   "outputs": [],
   "source": [
    "# adding the training samples to the basescene\n",
    "training_2021 = clipped_TOI4_2021.sampleRegions(**{\n",
    "    'collection': training_samples_2021, \n",
    "    'properties': ['landcover'], \n",
    "    'scale': 4.77,\n",
    "    'projection': 'EPSG:32733'\n",
    "})\n",
    "\n",
    "# creating the classifier using RF\n",
    "classifier_2021 = ee.Classifier.smileRandomForest(**classifier_params).train(**{\n",
    "  'features': training_2021,  \n",
    "  'classProperty': 'landcover', \n",
    "  'inputProperties': clipped_TOI4_2021.bandNames()\n",
    "})"
   ]
  },
  {
   "attachments": {},
   "cell_type": "markdown",
   "metadata": {},
   "source": [
    "#### 2.3 classifying the basescene and visualizing the product"
   ]
  },
  {
   "cell_type": "code",
   "execution_count": 13,
   "metadata": {},
   "outputs": [],
   "source": [
    "# classifying the basescene using the created classifier\n",
    "classified_TOI2_2017 = clipped_TOI2_2017.classify(classifier_2017)\n",
    "classified_TOI3_2019 = clipped_TOI3_2019.classify(classifier_2019)\n",
    "classified_TOI4_2021 = clipped_TOI4_2021.classify(classifier_2021)\n",
    "\n",
    "# creating the visualization parameters\n",
    "palette = ['c43c39', 'e5b636', '2f2f2f', 'aaaaaa', 'b08e7a', '85b66f', 'a5bfdd']\n",
    "vis_params_classified = {'min': 1, 'max': 7, 'palette': palette}\n",
    "\n",
    "\n",
    "# Map.addLayer(classified_TOI1_2015, vis_params_classified, 'classified scene - 2015')\n",
    "# Map.addLayer(classified_TOI2_2017, vis_params_classified, 'classified scene - 2017')\n",
    "# Map.addLayer(classified_TOI3_2019, vis_params_classified, 'classified scene - 2019')\n",
    "# Map.addLayer(classified_TOI4_2021, vis_params_classified, 'classified scene - 2021')\n"
   ]
  },
  {
   "attachments": {},
   "cell_type": "markdown",
   "metadata": {},
   "source": [
    "#### Calulation of the class size from pixel size"
   ]
  },
  {
   "attachments": {},
   "cell_type": "markdown",
   "metadata": {},
   "source": [
    "##### OPIT classification for 2017"
   ]
  },
  {
   "cell_type": "code",
   "execution_count": 14,
   "metadata": {},
   "outputs": [
    {
     "name": "stdout",
     "output_type": "stream",
     "text": [
      "81696775\n",
      "╒═════════════╤══════════════════╕\n",
      "│   Landcover │   Area size [m²] │\n",
      "╞═════════════╪══════════════════╡\n",
      "│           1 │         10738343 │\n",
      "├─────────────┼──────────────────┤\n",
      "│           2 │          7179838 │\n",
      "├─────────────┼──────────────────┤\n",
      "│           3 │          2579538 │\n",
      "├─────────────┼──────────────────┤\n",
      "│           4 │          8199046 │\n",
      "├─────────────┼──────────────────┤\n",
      "│           5 │         36276700 │\n",
      "├─────────────┼──────────────────┤\n",
      "│           6 │         16022588 │\n",
      "├─────────────┼──────────────────┤\n",
      "│           7 │           700722 │\n",
      "╘═════════════╧══════════════════╛\n"
     ]
    }
   ],
   "source": [
    "# calculating pixel size\n",
    "area_classified_2017 = ee.Image.pixelArea().addBands(classified_TOI2_2017)\n",
    "\n",
    "# calculating the area size per class\n",
    "areas_2017 = area_classified_2017.reduceRegion(**{\n",
    "    'reducer': ee.Reducer.sum().group(**{\n",
    "    'groupField': 1,\n",
    "    'groupName': 'landcover',\n",
    "    }),\n",
    "    'geometry': aoi_geom, \n",
    "    'scale': 4.77,\n",
    "    'crs': 'EPSG:32733'\n",
    "    })\n",
    "\n",
    "# selecting the size per class\n",
    "class_areas_2017 = ee.List(areas_2017.get('groups'))\n",
    "list_dict_2017 = class_areas_2017.getInfo()\n",
    "\n",
    "# creating a dataframe for easier data handling\n",
    "df_areas_2017 = pd.DataFrame(class_areas_2017.getInfo())\n",
    "df_areas_2017['sum'] = df_areas_2017['sum'].astype(int)\n",
    "print(df_areas_2017['sum'].sum())\n",
    "df_areas_2017.to_csv('./data/class_size_2017.csv', sep=\";\", index=False)\n",
    "\n",
    "print(tabulate(df_areas_2017, tablefmt='fancy_grid', headers=['Landcover', 'Area size [m²]'], showindex=False, floatfmt=\".0f\"))"
   ]
  },
  {
   "attachments": {},
   "cell_type": "markdown",
   "metadata": {},
   "source": [
    "##### OPIT classification for 2019"
   ]
  },
  {
   "cell_type": "code",
   "execution_count": 15,
   "metadata": {},
   "outputs": [
    {
     "name": "stdout",
     "output_type": "stream",
     "text": [
      "81696777\n",
      "╒═════════════╤══════════════════╕\n",
      "│   Landcover │   Area size [m²] │\n",
      "╞═════════════╪══════════════════╡\n",
      "│           1 │          8124641 │\n",
      "├─────────────┼──────────────────┤\n",
      "│           2 │          6204410 │\n",
      "├─────────────┼──────────────────┤\n",
      "│           3 │          3220814 │\n",
      "├─────────────┼──────────────────┤\n",
      "│           4 │         14119783 │\n",
      "├─────────────┼──────────────────┤\n",
      "│           5 │         32242821 │\n",
      "├─────────────┼──────────────────┤\n",
      "│           6 │         16881483 │\n",
      "├─────────────┼──────────────────┤\n",
      "│           7 │           902825 │\n",
      "╘═════════════╧══════════════════╛\n"
     ]
    }
   ],
   "source": [
    "# calculating pixel size\n",
    "area_classified_2019 = ee.Image.pixelArea().addBands(classified_TOI3_2019)\n",
    "\n",
    "# calculating the area size per class\n",
    "areas_2019 = area_classified_2019.reduceRegion(**{\n",
    "    'reducer': ee.Reducer.sum().group(**{\n",
    "    'groupField': 1,\n",
    "    'groupName': 'landcover',\n",
    "    }),\n",
    "    'geometry': aoi_geom, \n",
    "    'scale': 4.77,\n",
    "    'crs': 'EPSG:32733'\n",
    "    })\n",
    "\n",
    "# selecting the size per class\n",
    "class_areas_2019 = ee.List(areas_2019.get('groups'))\n",
    "list_dict_2019 = class_areas_2019.getInfo()\n",
    "\n",
    "# creating a dataframe for easier data handling\n",
    "df_areas_2019 = pd.DataFrame(class_areas_2019.getInfo())\n",
    "df_areas_2019['sum'] = df_areas_2019['sum'].astype(int)\n",
    "print(df_areas_2019['sum'].sum())\n",
    "df_areas_2019.to_csv('./data/class_size_2019.csv', sep=\";\", index=False)\n",
    "\n",
    "print(tabulate(df_areas_2019, tablefmt='fancy_grid', headers=['Landcover', 'Area size [m²]'], showindex=False, floatfmt=\".0f\"))"
   ]
  },
  {
   "attachments": {},
   "cell_type": "markdown",
   "metadata": {},
   "source": [
    "##### OPIT classification for 2021"
   ]
  },
  {
   "cell_type": "code",
   "execution_count": 16,
   "metadata": {},
   "outputs": [
    {
     "name": "stdout",
     "output_type": "stream",
     "text": [
      "81696776\n",
      "╒═════════════╤══════════════════╕\n",
      "│   Landcover │   Area size [m²] │\n",
      "╞═════════════╪══════════════════╡\n",
      "│           1 │         10670301 │\n",
      "├─────────────┼──────────────────┤\n",
      "│           2 │          5839601 │\n",
      "├─────────────┼──────────────────┤\n",
      "│           3 │          2543647 │\n",
      "├─────────────┼──────────────────┤\n",
      "│           4 │          8609501 │\n",
      "├─────────────┼──────────────────┤\n",
      "│           5 │         44721504 │\n",
      "├─────────────┼──────────────────┤\n",
      "│           6 │          8495030 │\n",
      "├─────────────┼──────────────────┤\n",
      "│           7 │           817192 │\n",
      "╘═════════════╧══════════════════╛\n"
     ]
    }
   ],
   "source": [
    "# calculating pixel size\n",
    "area_classified_2021 = ee.Image.pixelArea().addBands(classified_TOI4_2021)\n",
    "\n",
    "# calculating the area size per class\n",
    "areas_2021 = area_classified_2021.reduceRegion(**{\n",
    "    'reducer': ee.Reducer.sum().group(**{\n",
    "    'groupField': 1,\n",
    "    'groupName': 'landcover',\n",
    "    }),\n",
    "    'geometry': aoi_geom, \n",
    "    'scale': 4.77,\n",
    "    'crs': 'EPSG:32733'\n",
    "    })\n",
    "\n",
    "# selecting the size per class\n",
    "class_areas_2021 = ee.List(areas_2021.get('groups'))\n",
    "list_dict_2021 = class_areas_2021.getInfo()\n",
    "\n",
    "# creating a dataframe for easier data handling\n",
    "df_areas_2021 = pd.DataFrame(class_areas_2021.getInfo())\n",
    "df_areas_2021['sum'] = df_areas_2021['sum'].astype(int)\n",
    "print(df_areas_2021['sum'].sum())\n",
    "df_areas_2021.to_csv('./data/class_size_2021.csv', sep=\";\", index=False)\n",
    "\n",
    "print(tabulate(df_areas_2021, tablefmt='fancy_grid', headers=['Landcover', 'Area size [m²]'], showindex=False, floatfmt=\".0f\"))"
   ]
  },
  {
   "attachments": {},
   "cell_type": "markdown",
   "metadata": {},
   "source": [
    "#### 2.4 Exporting the results"
   ]
  },
  {
   "attachments": {},
   "cell_type": "markdown",
   "metadata": {},
   "source": [
    "##### 2.4.1 Exporting to Google Drive"
   ]
  },
  {
   "cell_type": "code",
   "execution_count": 17,
   "metadata": {},
   "outputs": [],
   "source": [
    "# # exporting to Google drive with GEE API\n",
    "# export_TOI2 = ee.batch.Export.image.toDrive(**{\n",
    "#     'image': classified_TOI2_2017,\n",
    "#     'description': 'classified_TOI2_RF_test', # TODO: change name here\n",
    "#     'folder': 'masterthesis/change_detection_results', # TODO: change name here\n",
    "#     'crs': 'EPSG:32733',\n",
    "#     'scale': 4.77,\n",
    "#     'region': aoi_geom\n",
    "# })\n",
    "\n",
    "# # starting the process\n",
    "# export_TOI2.start()\n",
    "\n",
    "# # tracking the process\n",
    "# while export_TOI2.active():\n",
    "#   print('Polling for task (id: {}).'.format(export_TOI2.id))\n",
    "#   time.sleep(5)"
   ]
  },
  {
   "cell_type": "code",
   "execution_count": 18,
   "metadata": {},
   "outputs": [],
   "source": [
    "# # exporting to Google drive with GEE API\n",
    "# export_TOI3 = ee.batch.Export.image.toDrive(**{\n",
    "#     'image': classified_TOI3_2019,\n",
    "#     'description': 'classified_TOI3_RF_test', # TODO: change name here\n",
    "#     'folder': 'masterthesis/change_detection_results', # TODO: change name here\n",
    "#     'scale': 4.77,\n",
    "#     'crs': 'EPSG:32733',\n",
    "#     'region': aoi_geom\n",
    "# })\n",
    "\n",
    "# # starting the process\n",
    "# export_TOI3.start()\n",
    "\n",
    "# # tracking the process\n",
    "# while export_TOI3.active():\n",
    "#   print('Polling for task (id: {}).'.format(export_TOI3.id))\n",
    "#   time.sleep(5)"
   ]
  },
  {
   "cell_type": "code",
   "execution_count": 19,
   "metadata": {},
   "outputs": [],
   "source": [
    "# # exporting to Google drive with GEE API\n",
    "# export_TOI4 = ee.batch.Export.image.toDrive(**{\n",
    "#     'image': classified_TOI4_2021,\n",
    "#     'description': 'classified_TOI4_RF', # TODO: change name here\n",
    "#     'folder': 'masterthesis/change_detection_results', # TODO: change name here\n",
    "#     'scale': 4.77,\n",
    "#     'crs': 'EPSG:32733',\n",
    "#     'region': aoi_geom\n",
    "# })\n",
    "\n",
    "# # starting the process\n",
    "# export_TOI4.start()\n",
    "\n",
    "# # tracking the process\n",
    "# while export_TOI4.active():\n",
    "#   print('Polling for task (id: {}).'.format(export_TOI4.id))\n",
    "#   time.sleep(5)"
   ]
  },
  {
   "attachments": {},
   "cell_type": "markdown",
   "metadata": {},
   "source": [
    "##### 2.4.2 Exporting to Asset"
   ]
  },
  {
   "cell_type": "code",
   "execution_count": 20,
   "metadata": {},
   "outputs": [],
   "source": [
    "# # exporting to Google Asset\n",
    "# export_TOI2 = ee.batch.Export.image.toAsset(**{\n",
    "#   'image': classified_TOI2_2017,\n",
    "#   'description': 'Export classified map',\n",
    "#   'assetId': 'users/s85315/masterthesis/change_detection_results/classified_TOI2_RF', # TODO: change name here\n",
    "#   'scale': 4.77,\n",
    "#   'crs': 'EPSG:32733',\n",
    "#   'region': aoi_geom\n",
    "# })\n",
    "\n",
    "# # starting the process\n",
    "# export_TOI2.start()\n",
    "\n",
    "# # tracking the process\n",
    "# while export_TOI2.active():\n",
    "#   print('Polling for task (id: {}).'.format(export_TOI2.id))\n",
    "#   time.sleep(5)"
   ]
  },
  {
   "cell_type": "code",
   "execution_count": 21,
   "metadata": {},
   "outputs": [],
   "source": [
    "# # exporting to Google Asset\n",
    "# export_TOI3 = ee.batch.Export.image.toAsset(**{\n",
    "#   'image': classified_TOI3_2019,\n",
    "#   'description': 'Export classified map',\n",
    "#   'assetId': 'users/s85315/masterthesis/change_detection_results/classified_TOI3_RF', # TODO: change name here\n",
    "#   'scale': 4.77,\n",
    "#   'crs': 'EPSG:32733',\n",
    "#   'region': aoi_geom\n",
    "# })\n",
    "\n",
    "# # starting the process\n",
    "# export_TOI3.start()\n",
    "\n",
    "# # tracking the process\n",
    "# while export_TOI3.active():\n",
    "#   print('Polling for task (id: {}).'.format(export_TOI3.id))\n",
    "#   time.sleep(5)"
   ]
  },
  {
   "cell_type": "code",
   "execution_count": 22,
   "metadata": {},
   "outputs": [],
   "source": [
    "# # exporting to Google Asset\n",
    "# export_TOI4 = ee.batch.Export.image.toAsset(**{\n",
    "#   'image': classified_TOI4_2021,\n",
    "#   'description': 'Export classified map',\n",
    "#   'assetId': 'users/s85315/masterthesis/change_detection_results/classified_TOI4_RF', # TODO: change name here\n",
    "#   'scale': 4.77,\n",
    "#   'crs': 'EPSG:32733',\n",
    "#   'region': aoi_geom\n",
    "# })\n",
    "\n",
    "# # starting the process\n",
    "# export_TOI4.start()\n",
    "\n",
    "# # tracking the process\n",
    "# while export_TOI4.active():\n",
    "#   print('Polling for task (id: {}).'.format(export_TOI4.id))\n",
    "#   time.sleep(5)"
   ]
  },
  {
   "attachments": {},
   "cell_type": "markdown",
   "metadata": {},
   "source": [
    "### 3 CD for TOI 2015 to 2017"
   ]
  },
  {
   "attachments": {},
   "cell_type": "markdown",
   "metadata": {},
   "source": [
    "#### 3.1 Performing the CD analysis"
   ]
  },
  {
   "cell_type": "code",
   "execution_count": 23,
   "metadata": {},
   "outputs": [],
   "source": [
    "changed_areas_2015_2017 = classified_TOI2_2017.subtract(classified_TOI1_2015).neq(0)\n",
    "changed_areas_2017_2019 = classified_TOI3_2019.subtract(classified_TOI2_2017).neq(0)\n",
    "changed_areas_2019_2021 = classified_TOI4_2021.subtract(classified_TOI3_2019).neq(0)\n",
    "changed_areas_2015_2021 = classified_TOI4_2021.subtract(classified_TOI1_2015).neq(0)\n",
    "\n",
    "# changed_areas_2015_2017.getInfo()"
   ]
  },
  {
   "cell_type": "code",
   "execution_count": 24,
   "metadata": {},
   "outputs": [],
   "source": [
    "vis_params_changed = {'min':0, 'max':1, 'palette': ['white', 'red']}\n",
    "\n",
    "\n",
    "Map.addLayer(changed_areas_2015_2017, vis_params_changed, 'Changed areas 2015 to 2017')\n",
    "Map.addLayer(changed_areas_2017_2019, vis_params_changed, 'Changed areas 2017 to 2019')\n",
    "Map.addLayer(changed_areas_2019_2021, vis_params_changed, 'Changed areas 2019 to 2021')\n",
    "Map.addLayer(changed_areas_2015_2021, vis_params_changed, 'Changed areas 2015 to 2021')\n",
    "\n",
    "transition_2015_2017 = classified_TOI1_2015.multiply(100).add(classified_TOI2_2017).rename('transitions')\n",
    "transition_2017_2019 = classified_TOI2_2017.multiply(100).add(classified_TOI3_2019).rename('transitions')\n",
    "transition_2019_2021 = classified_TOI3_2019.multiply(100).add(classified_TOI4_2021).rename('transitions')\n",
    "transition_2015_2021 = classified_TOI1_2015.multiply(100).add(classified_TOI4_2021).rename('transitions')\n",
    "\n"
   ]
  },
  {
   "attachments": {},
   "cell_type": "markdown",
   "metadata": {},
   "source": [
    "#### Calculation of transitions in Pixels"
   ]
  },
  {
   "attachments": {},
   "cell_type": "markdown",
   "metadata": {},
   "source": [
    "#### Transition for 2015 to 2017"
   ]
  },
  {
   "cell_type": "code",
   "execution_count": 25,
   "metadata": {},
   "outputs": [
    {
     "name": "stdout",
     "output_type": "stream",
     "text": [
      "  From-To   Pixel\n",
      "0     101  147445\n",
      "1     102   54335\n",
      "2     103   34905\n",
      "3     104   70090\n",
      "4     105   43585\n"
     ]
    }
   ],
   "source": [
    "# calculating the size per \n",
    "transition_matrix_CD1 = transition_2015_2017.reduceRegion(**{\n",
    "  'reducer': ee.Reducer.frequencyHistogram(),\n",
    "  'geometry': aoi_geom,\n",
    "  'scale': 4.77,\n",
    "  'tileScale': 16,\n",
    "  'maxPixels': 1e10,\n",
    "  'crs': 'EPSG:32733'\n",
    "  })\n",
    "\n",
    "transitions_2015_2017 = transition_matrix_CD1.get('transitions').getInfo()\n",
    "df_transitions_2015_2017 = pd.DataFrame(transitions_2015_2017, index=[0])\n",
    "df_transitions_2015_2017_long = pd.melt(df_transitions_2015_2017, var_name='From-To', value_name=\"Pixel\")\n",
    "df_transitions_2015_2017_long['Pixel'] = df_transitions_2015_2017_long['Pixel'].astype(int)\n",
    "\n",
    "\n",
    "print(df_transitions_2015_2017_long.head())\n",
    "df_transitions_2015_2017_long.to_csv('./data/transitions_pixels_2015_2017.csv', index=False, sep=\";\")\n"
   ]
  },
  {
   "attachments": {},
   "cell_type": "markdown",
   "metadata": {},
   "source": [
    "#### Calculating the transition values per class for 2015-2017"
   ]
  },
  {
   "cell_type": "code",
   "execution_count": 26,
   "metadata": {},
   "outputs": [
    {
     "name": "stdout",
     "output_type": "stream",
     "text": [
      "[{'sum': 3353856.099991952, 'transitions': 101}, {'sum': 1235933.4618437225, 'transitions': 102}, {'sum': 793979.0933117586, 'transitions': 103}, {'sum': 1594304.1067416023, 'transitions': 104}, {'sum': 991403.6023939545, 'transitions': 105}, {'sum': 92627.32020820916, 'transitions': 106}, {'sum': 1786522.2957722233, 'transitions': 201}, {'sum': 2379551.15460327, 'transitions': 202}, {'sum': 732745.3337256189, 'transitions': 203}, {'sum': 1771584.8654028275, 'transitions': 204}, {'sum': 845251.2170141258, 'transitions': 205}, {'sum': 113254.32871189492, 'transitions': 206}, {'sum': 159.21924018859863, 'transitions': 207}, {'sum': 650839.1011419483, 'transitions': 301}, {'sum': 916254.107380422, 'transitions': 302}, {'sum': 717612.7508690329, 'transitions': 303}, {'sum': 469923.19414748397, 'transitions': 304}, {'sum': 34460.27812576294, 'transitions': 305}, {'sum': 7210.567937850952, 'transitions': 306}, {'sum': 90.98426818847656, 'transitions': 307}, {'sum': 1690968.6537452023, 'transitions': 401}, {'sum': 1057080.1896895166, 'transitions': 402}, {'sum': 246921.49000701157, 'transitions': 403}, {'sum': 2183838.3173591765, 'transitions': 404}, {'sum': 909931.7184520797, 'transitions': 405}, {'sum': 165487.73247106216, 'transitions': 406}, {'sum': 3093.445400238037, 'transitions': 407}, {'sum': 2712943.123434059, 'transitions': 501}, {'sum': 1391360.118929665, 'transitions': 502}, {'sum': 62689.602659225464, 'transitions': 503}, {'sum': 1853774.3275947496, 'transitions': 504}, {'sum': 26514529.497174345, 'transitions': 505}, {'sum': 8088108.835410605, 'transitions': 506}, {'sum': 13042.91483813267, 'transitions': 507}, {'sum': 538005.4432369232, 'transitions': 601}, {'sum': 197271.49184877734, 'transitions': 602}, {'sum': 22200.89308166504, 'transitions': 603}, {'sum': 321049.71839930967, 'transitions': 604}, {'sum': 6808511.919653672, 'transitions': 605}, {'sum': 7490205.444896384, 'transitions': 606}, {'sum': 11685.779639928482, 'transitions': 607}, {'sum': 5208.818891525269, 'transitions': 701}, {'sum': 2388.3141326904297, 'transitions': 702}, {'sum': 3389.0777130126953, 'transitions': 703}, {'sum': 4571.956510543823, 'transitions': 704}, {'sum': 172612.5152735841, 'transitions': 705}, {'sum': 65694.33771462535, 'transitions': 706}, {'sum': 672650.1180471383, 'transitions': 707}]\n",
      "81696757\n"
     ]
    }
   ],
   "source": [
    "area_changed_CD1_sqm = ee.Image.pixelArea().addBands(transition_2015_2017)\n",
    "area_changed_CD1_ha = ee.Image.pixelArea().divide(10000).addBands(transition_2015_2017)\n",
    "\n",
    "\n",
    "# getting the values per class\n",
    "areas_changed_CD1_sqm_class = area_changed_CD1_sqm.reduceRegion(**{\n",
    "    'reducer': ee.Reducer.sum().group(**{\n",
    "    'groupField': 1,\n",
    "    'groupName': 'transitions',\n",
    "    }),\n",
    "    'geometry': aoi_geom, \n",
    "    'scale': 4.77,\n",
    "    'crs': 'EPSG:32733'\n",
    "    # 'tileScale': 16,\n",
    "    # 'maxPixels': 1e10\n",
    "    })\n",
    "\n",
    "class_areas = ee.List(areas_changed_CD1_sqm_class.get('groups'))\n",
    "print(class_areas.getInfo())\n",
    "\n",
    "df_class_areas = pd.DataFrame(class_areas.getInfo())\n",
    "df_class_areas['sum'] = df_class_areas['sum'].astype(int)\n",
    "print(df_class_areas['sum'].sum())\n",
    "df_class_areas.to_csv('./data/transitions_sqm_per_class_2015_2017.csv', sep=\";\", index=False)"
   ]
  },
  {
   "cell_type": "code",
   "execution_count": 28,
   "metadata": {},
   "outputs": [
    {
     "name": "stdout",
     "output_type": "stream",
     "text": [
      "  From-To   Pixel\n",
      "0     101  147445\n",
      "1     102   54335\n",
      "2     103   34905\n",
      "3     104   70090\n",
      "4     105   43585\n"
     ]
    }
   ],
   "source": [
    "# calculating the size per \n",
    "transition_matrix_CD2 = transition_2017_2019.reduceRegion(**{\n",
    "  'reducer': ee.Reducer.frequencyHistogram(),\n",
    "  'geometry': aoi_geom,\n",
    "  'scale': 4.77,\n",
    "  'tileScale': 16,\n",
    "  'maxPixels': 1e10,\n",
    "  'crs': 'EPSG:32733'\n",
    "  })\n",
    "\n",
    "transitions_2017_2019 = transition_matrix_CD1.get('transitions').getInfo()\n",
    "df_transitions_2017_2019 = pd.DataFrame(transitions_2017_2019, index=[0])\n",
    "df_transitions_2017_2019_long = pd.melt(df_transitions_2017_2019, var_name='From-To', value_name=\"Pixel\")\n",
    "df_transitions_2017_2019_long['Pixel'] = df_transitions_2017_2019_long['Pixel'].astype(int)\n",
    "\n",
    "\n",
    "print(df_transitions_2017_2019_long.head())\n",
    "df_transitions_2017_2019_long.to_csv('./data/transitions_pixels_2017_2019.csv', index=False, sep=\";\")\n"
   ]
  },
  {
   "cell_type": "code",
   "execution_count": 29,
   "metadata": {},
   "outputs": [
    {
     "name": "stdout",
     "output_type": "stream",
     "text": [
      "[{'sum': 4030994.901947515, 'transitions': 101}, {'sum': 856272.8950868868, 'transitions': 102}, {'sum': 810769.0486038283, 'transitions': 103}, {'sum': 2899439.2973354487, 'transitions': 104}, {'sum': 1973279.4406526454, 'transitions': 105}, {'sum': 167360.48219146728, 'transitions': 106}, {'sum': 227.4703598022461, 'transitions': 107}, {'sum': 751387.9852610644, 'transitions': 201}, {'sum': 3182524.769529021, 'transitions': 202}, {'sum': 647825.6418154623, 'transitions': 203}, {'sum': 1811154.6130795197, 'transitions': 204}, {'sum': 686035.8258737302, 'transitions': 205}, {'sum': 100500.5552870208, 'transitions': 206}, {'sum': 409.44758224487305, 'transitions': 207}, {'sum': 615697.7563844793, 'transitions': 301}, {'sum': 738222.2096057741, 'transitions': 302}, {'sum': 895784.0366549398, 'transitions': 303}, {'sum': 316413.73357229045, 'transitions': 304}, {'sum': 11964.715456008911, 'transitions': 305}, {'sum': 1342.0601768493652, 'transitions': 306}, {'sum': 113.72953033447266, 'transitions': 307}, {'sum': 1538643.1400861628, 'transitions': 401}, {'sum': 1232410.7780791563, 'transitions': 402}, {'sum': 605329.2863110037, 'transitions': 403}, {'sum': 3978658.9800267164, 'transitions': 404}, {'sum': 772815.4910820156, 'transitions': 405}, {'sum': 70824.86668864981, 'transitions': 406}, {'sum': 363.9438762664795, 'transitions': 407}, {'sum': 1111751.149872073, 'transitions': 501}, {'sum': 168972.13261157763, 'transitions': 502}, {'sum': 226359.67662520317, 'transitions': 503}, {'sum': 4376584.9057916505, 'transitions': 504}, {'sum': 23191746.42267227, 'transitions': 505}, {'sum': 6969665.0401504515, 'transitions': 506}, {'sum': 231621.4202796637, 'transitions': 507}, {'sum': 76166.1849343842, 'transitions': 601}, {'sum': 26007.861181520948, 'transitions': 602}, {'sum': 29833.49319035399, 'transitions': 603}, {'sum': 737304.176836844, 'transitions': 604}, {'sum': 5567047.400847923, 'transitions': 605}, {'sum': 9565886.117232395, 'transitions': 606}, {'sum': 20343.333076544368, 'transitions': 607}, {'sum': 4913.058322906494, 'transitions': 703}, {'sum': 227.46001815795898, 'transitions': 704}, {'sum': 39932.05265378017, 'transitions': 705}, {'sum': 5903.912874633191, 'transitions': 706}, {'sum': 649745.9775700588, 'transitions': 707}]\n",
      "81696755\n"
     ]
    }
   ],
   "source": [
    "area_changed_CD2_sqm = ee.Image.pixelArea().addBands(transition_2017_2019)\n",
    "area_changed_CD2_ha = ee.Image.pixelArea().divide(10000).addBands(transition_2017_2019)\n",
    "\n",
    "\n",
    "# getting the values per class\n",
    "areas_changed_CD2_sqm_class = area_changed_CD2_sqm.reduceRegion(**{\n",
    "    'reducer': ee.Reducer.sum().group(**{\n",
    "    'groupField': 1,\n",
    "    'groupName': 'transitions',\n",
    "    }),\n",
    "    'geometry': aoi_geom, \n",
    "    'scale': 4.77,\n",
    "    'crs': 'EPSG:32733',\n",
    "    'tileScale': 16,\n",
    "    'maxPixels': 1e10\n",
    "    })\n",
    "\n",
    "class_areas = ee.List(areas_changed_CD2_sqm_class.get('groups'))\n",
    "print(class_areas.getInfo())\n",
    "\n",
    "df_class_areas = pd.DataFrame(class_areas.getInfo())\n",
    "df_class_areas['sum'] = df_class_areas['sum'].astype(int)\n",
    "print(df_class_areas['sum'].sum())\n",
    "df_class_areas.to_csv('./data/transitions_sqm_per_class_2017_2019.csv', sep=\";\", index=False)"
   ]
  },
  {
   "cell_type": "code",
   "execution_count": 30,
   "metadata": {},
   "outputs": [
    {
     "name": "stdout",
     "output_type": "stream",
     "text": [
      "  From-To   Pixel\n",
      "0     101  147445\n",
      "1     102   54335\n",
      "2     103   34905\n",
      "3     104   70090\n",
      "4     105   43585\n"
     ]
    }
   ],
   "source": [
    "# calculating the size per \n",
    "transition_matrix_CD3 = transition_2019_2021.reduceRegion(**{\n",
    "  'reducer': ee.Reducer.frequencyHistogram(),\n",
    "  'geometry': aoi_geom,\n",
    "  'scale': 4.77,\n",
    "  'tileScale': 16,\n",
    "  'maxPixels': 1e10\n",
    "  })\n",
    "\n",
    "transitions_2019_2021 = transition_matrix_CD1.get('transitions').getInfo()\n",
    "df_transitions_2019_2021 = pd.DataFrame(transitions_2019_2021, index=[0])\n",
    "df_transitions_2019_2021_long = pd.melt(df_transitions_2019_2021, var_name='From-To', value_name=\"Pixel\")\n",
    "df_transitions_2019_2021_long['Pixel'] = df_transitions_2019_2021_long['Pixel'].astype(int)\n",
    "\n",
    "print(df_transitions_2019_2021_long.head())\n",
    "df_transitions_2019_2021_long.to_csv('./data/transitions_pixels_2019_2021.csv', index=False, sep=\";\")\n"
   ]
  },
  {
   "cell_type": "code",
   "execution_count": 31,
   "metadata": {},
   "outputs": [
    {
     "name": "stdout",
     "output_type": "stream",
     "text": [
      "[{'sum': 3988117.0130767147, 'transitions': 101}, {'sum': 983411.4149369932, 'transitions': 102}, {'sum': 480118.61289343744, 'transitions': 103}, {'sum': 1419632.1324560652, 'transitions': 104}, {'sum': 1195697.5092193305, 'transitions': 105}, {'sum': 57664.435903137804, 'transitions': 106}, {'sum': 1522917.9825707306, 'transitions': 201}, {'sum': 2900949.9154788223, 'transitions': 202}, {'sum': 802201.6037497501, 'transitions': 203}, {'sum': 805812.371485482, 'transitions': 204}, {'sum': 167789.02837834827, 'transitions': 205}, {'sum': 4739.744430803785, 'transitions': 206}, {'sum': 980808.754667312, 'transitions': 301}, {'sum': 712814.3106835908, 'transitions': 302}, {'sum': 699276.3701369043, 'transitions': 303}, {'sum': 507987.2750725316, 'transitions': 304}, {'sum': 281737.44060843973, 'transitions': 305}, {'sum': 22973.35399055481, 'transitions': 306}, {'sum': 15216.736364364624, 'transitions': 307}, {'sum': 3284613.622054208, 'transitions': 401}, {'sum': 1146417.784442004, 'transitions': 402}, {'sum': 410045.28919529635, 'transitions': 403}, {'sum': 3656876.1706599668, 'transitions': 404}, {'sum': 5346660.739456046, 'transitions': 405}, {'sum': 275033.07821570005, 'transitions': 406}, {'sum': 136.4826374053955, 'transitions': 407}, {'sum': 824186.7082905862, 'transitions': 501}, {'sum': 80017.13813789966, 'transitions': 502}, {'sum': 104208.1626217412, 'transitions': 503}, {'sum': 1710752.7088760082, 'transitions': 504}, {'sum': 27191153.333266895, 'transitions': 505}, {'sum': 2265747.253611037, 'transitions': 506}, {'sum': 66756.04443418465, 'transitions': 507}, {'sum': 69475.9222953946, 'transitions': 601}, {'sum': 15990.780820846558, 'transitions': 602}, {'sum': 47547.390392348345, 'transitions': 603}, {'sum': 505574.47612283746, 'transitions': 604}, {'sum': 10402914.286615664, 'transitions': 605}, {'sum': 5812240.762598409, 'transitions': 606}, {'sum': 27739.415755971273, 'transitions': 607}, {'sum': 181.97482299804688, 'transitions': 701}, {'sum': 250.20317459106445, 'transitions': 703}, {'sum': 2865.945261001587, 'transitions': 704}, {'sum': 135552.09945194767, 'transitions': 705}, {'sum': 56631.40331692415, 'transitions': 706}, {'sum': 707343.6962474524, 'transitions': 707}]\n",
      "81696757\n"
     ]
    }
   ],
   "source": [
    "area_changed_CD3_sqm = ee.Image.pixelArea().addBands(transition_2019_2021)\n",
    "area_changed_CD3_ha = ee.Image.pixelArea().divide(10000).addBands(transition_2019_2021)\n",
    "\n",
    "\n",
    "# getting the values per class\n",
    "areas_changed_CD3_sqm_class = area_changed_CD3_sqm.reduceRegion(**{\n",
    "    'reducer': ee.Reducer.sum().group(**{\n",
    "    'groupField': 1,\n",
    "    'groupName': 'transitions',\n",
    "    }),\n",
    "    'geometry': aoi_geom, \n",
    "    'scale': 4.77,\n",
    "    'crs': 'EPSG:32733',\n",
    "    'tileScale': 16,\n",
    "    'maxPixels': 1e10\n",
    "    })\n",
    "\n",
    "class_areas = ee.List(areas_changed_CD3_sqm_class.get('groups'))\n",
    "print(class_areas.getInfo())\n",
    "\n",
    "df_class_areas = pd.DataFrame(class_areas.getInfo())\n",
    "df_class_areas['sum'] = df_class_areas['sum'].astype(int)\n",
    "print(df_class_areas['sum'].sum())\n",
    "df_class_areas.to_csv('./data/transitions_sqm_per_class_2019_2021.csv', sep=\";\", index=False)"
   ]
  },
  {
   "attachments": {},
   "cell_type": "markdown",
   "metadata": {},
   "source": [
    "#### Exporting the change mask to Drive and Asset"
   ]
  },
  {
   "cell_type": "code",
   "execution_count": null,
   "metadata": {},
   "outputs": [],
   "source": [
    "# # exporting to Google drive with GEE API\n",
    "# export_change_mask = ee.batch.Export.image.toDrive(**{\n",
    "#     'image': changed_areas_2015_2017,\n",
    "#     'description': 'change_mask_2015_2017', # TODO: change name here\n",
    "#     'folder': 'masterthesis/change_detection_results', # TODO: change name here\n",
    "#     'scale': 4.77,\n",
    "#     'crs': 'EPSG:32733',a\n",
    "#     'region': aoi_geom\n",
    "# })\n",
    "\n",
    "# # starting the process\n",
    "# export_change_mask.start()\n",
    "\n",
    "# # tracking the process\n",
    "# while export_change_mask.active():\n",
    "#   print('Polling for task (id: {}).'.format(export_change_mask.id))\n",
    "#   time.sleep(5)"
   ]
  },
  {
   "cell_type": "code",
   "execution_count": null,
   "metadata": {},
   "outputs": [],
   "source": [
    "# # exporting to Google drive with GEE API\n",
    "# export_change_mask = ee.batch.Export.image.toDrive(**{\n",
    "#     'image': changed_areas_2017_2019,\n",
    "#     'description': 'change_mask_2017_2019', # TODO: change name here\n",
    "#     'folder': 'masterthesis/change_detection_results', # TODO: change name here\n",
    "#     'scale': 4.77,\n",
    "#     'crs': 'EPSG:32733',\n",
    "#     'region': aoi_geom\n",
    "# })\n",
    "\n",
    "# # starting the process\n",
    "# export_change_mask.start()\n",
    "\n",
    "# # tracking the process\n",
    "# while export_change_mask.active():\n",
    "#   print('Polling for task (id: {}).'.format(export_change_mask.id))\n",
    "#   time.sleep(5)"
   ]
  },
  {
   "cell_type": "code",
   "execution_count": null,
   "metadata": {},
   "outputs": [],
   "source": [
    "# # exporting to Google drive with GEE API\n",
    "# export_change_mask = ee.batch.Export.image.toDrive(**{\n",
    "#     'image': changed_areas_2019_2021,\n",
    "#     'description': 'change_mask_2019_2021', # TODO: change name here\n",
    "#     'folder': 'masterthesis/change_detection_results', # TODO: change name here\n",
    "#     'scale': 4.77,\n",
    "#     'crs': 'EPSG:32733',\n",
    "#     'region': aoi_geom\n",
    "# })\n",
    "\n",
    "# # starting the process\n",
    "# export_change_mask.start()\n",
    "\n",
    "# # tracking the process\n",
    "# while export_change_mask.active():\n",
    "#   print('Polling for task (id: {}).'.format(export_change_mask.id))\n",
    "#   time.sleep(5)"
   ]
  },
  {
   "cell_type": "code",
   "execution_count": null,
   "metadata": {},
   "outputs": [],
   "source": [
    "# # exporting to Google drive with GEE API\n",
    "# export_change_mask = ee.batch.Export.image.toDrive(**{\n",
    "#     'image': changed_areas_2015_2021,\n",
    "#     'description': 'change_mask_2015_2021', # TODO: change name here\n",
    "#     'folder': 'masterthesis/change_detection_results', # TODO: change name here\n",
    "#     'scale': 4.77,\n",
    "#     'crs': 'EPSG:32733',\n",
    "#     'region': aoi_geom\n",
    "# })\n",
    "\n",
    "# # starting the process\n",
    "# export_change_mask.start()\n",
    "\n",
    "# # tracking the process\n",
    "# while export_change_mask.active():\n",
    "#   print('Polling for task (id: {}).'.format(export_change_mask.id))\n",
    "#   time.sleep(5)"
   ]
  },
  {
   "cell_type": "code",
   "execution_count": 38,
   "metadata": {},
   "outputs": [],
   "source": [
    "# # exporting to Google Asset\n",
    "# export_change_mask = ee.batch.Export.image.toAsset(**{\n",
    "#   'image': changed_areas_2015_2017,\n",
    "#   'description': 'Export Change Mask map',\n",
    "#   'assetId': 'users/s85315/masterthesis/change_detection_results/change_mask_2015_2017', # TODO: change name here\n",
    "#   'scale': 4.77,\n",
    "#   'crs': 'EPSG:32733',\n",
    "#   'region': aoi_geom\n",
    "# })\n",
    "\n",
    "# # starting the process\n",
    "# export_change_mask.start()\n",
    "\n",
    "# # tracking the process\n",
    "# while export_change_mask.active():\n",
    "#   print('Polling for task (id: {}).'.format(export_change_mask.id))"
   ]
  },
  {
   "cell_type": "code",
   "execution_count": 39,
   "metadata": {},
   "outputs": [],
   "source": [
    "# # exporting to Google Asset\n",
    "# export_change_mask = ee.batch.Export.image.toAsset(**{\n",
    "#   'image': changed_areas_2017_2019,\n",
    "#   'description': 'Export Change Mask map',\n",
    "#   'assetId': 'users/s85315/masterthesis/change_detection_results/change_mask_2017_2019_test', # TODO: change name here\n",
    "#   'scale': 4.77,\n",
    "#   'crs': 'EPSG:32733',\n",
    "#   'region': aoi_geom\n",
    "# })\n",
    "\n",
    "# # starting the process\n",
    "# export_change_mask.start()\n",
    "\n",
    "# # tracking the process\n",
    "# while export_change_mask.active():\n",
    "#   print('Polling for task (id: {}).'.format(export_change_mask.id))"
   ]
  },
  {
   "cell_type": "code",
   "execution_count": 40,
   "metadata": {},
   "outputs": [],
   "source": [
    "# # exporting to Google Asset\n",
    "# export_change_mask = ee.batch.Export.image.toAsset(**{\n",
    "#   'image': changed_areas_2019_2021,\n",
    "#   'description': 'Export Change Mask map',\n",
    "#   'assetId': 'users/s85315/masterthesis/change_detection_results/test/change_mask_2019_2021', # TODO: change name here\n",
    "#   'scale': 4.77,\n",
    "#   'crs': 'EPSG:32733',\n",
    "#   'region': aoi_geom\n",
    "# })\n",
    "\n",
    "# # starting the process\n",
    "# export_change_mask.start()\n",
    "\n",
    "# # tracking the process\n",
    "# while export_change_mask.active():\n",
    "#   print('Polling for task (id: {}).'.format(export_change_mask.id))"
   ]
  },
  {
   "cell_type": "code",
   "execution_count": 41,
   "metadata": {},
   "outputs": [],
   "source": [
    "# # exporting to Google Asset\n",
    "# export_change_mask = ee.batch.Export.image.toAsset(**{\n",
    "#   'image': changed_areas_2015_2021,\n",
    "#   'description': 'Export Change Mask map',\n",
    "#   'assetId': 'users/s85315/masterthesis/change_detection_results/change_mask_2015_2021', # TODO: change name here\n",
    "#   'scale': 4.77,\n",
    "#   'crs': 'EPSG:32733',\n",
    "#   'region': aoi_geom\n",
    "# })\n",
    "\n",
    "# # starting the process\n",
    "# export_change_mask.start()\n",
    "\n",
    "# # tracking the process\n",
    "# while export_change_mask.active():\n",
    "#   print('Polling for task (id: {}).'.format(export_change_mask.id))"
   ]
  },
  {
   "attachments": {},
   "cell_type": "markdown",
   "metadata": {},
   "source": [
    "##### Resources for code snippets\n",
    "\n",
    "https://colab.research.google.com/github/csaybar/EEwPython/blob/dev/10_Export.ipynb \\\n",
    "https://worldbank.github.io/OpenNightLights/tutorials/mod6_6_RF_classifier.html \\\n",
    "https://towardsdatascience.com/how-to-easily-create-tables-in-python-2eaea447d8fd \\\n",
    "https://developers.google.com/earth-engine/apidocs/ee-classifier-smilerandomforest"
   ]
  }
 ],
 "metadata": {
  "kernelspec": {
   "display_name": "gee",
   "language": "python",
   "name": "python3"
  },
  "language_info": {
   "codemirror_mode": {
    "name": "ipython",
    "version": 3
   },
   "file_extension": ".py",
   "mimetype": "text/x-python",
   "name": "python",
   "nbconvert_exporter": "python",
   "pygments_lexer": "ipython3",
   "version": "3.8.15"
  },
  "orig_nbformat": 4,
  "vscode": {
   "interpreter": {
    "hash": "9209488edf9d13047b02f465a1e424d25e94bca618bbcafe1fa335f4d032a39f"
   }
  }
 },
 "nbformat": 4,
 "nbformat_minor": 2
}
