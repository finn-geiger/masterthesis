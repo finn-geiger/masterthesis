{
 "cells": [
  {
   "attachments": {},
   "cell_type": "markdown",
   "metadata": {},
   "source": [
    "# OPIT classification with Random Forest (RF)"
   ]
  },
  {
   "attachments": {},
   "cell_type": "markdown",
   "metadata": {},
   "source": [
    "### Classification with settings from parameter testing for RF algorithm. \n",
    "### Using Google Earth Engine Python API and NICFI Normalized Analytic Basemap from December 2015\n",
    "\n",
    "Author: Finn Geiger\\\n",
    "Date: April 6th 2023\\\n",
    "Contact:\n",
    "- https://github.com/finn-geiger\n",
    "- https://www.linkedin.com/in/finn-geiger-b1329a20b/"
   ]
  },
  {
   "attachments": {},
   "cell_type": "markdown",
   "metadata": {},
   "source": [
    "### 1 Import and setup\n",
    "#### 1.1 Importing the required libraries and packages"
   ]
  },
  {
   "cell_type": "code",
   "execution_count": 32,
   "metadata": {},
   "outputs": [],
   "source": [
    "%matplotlib inline\n",
    "import numpy as np\n",
    "import matplotlib.pyplot as plt\n",
    "import geemap\n",
    "import ee\n",
    "import os\n",
    "import time\n",
    "import pandas as pd\n",
    "from tabulate import tabulate\n",
    "#%pip install tabulate\n"
   ]
  },
  {
   "attachments": {},
   "cell_type": "markdown",
   "metadata": {},
   "source": [
    "The following classes and landcover IDs will be used:"
   ]
  },
  {
   "cell_type": "code",
   "execution_count": 33,
   "metadata": {},
   "outputs": [
    {
     "name": "stdout",
     "output_type": "stream",
     "text": [
      "╒══════════════╤════════════════╕\n",
      "│ Class name   │   landcover ID │\n",
      "╞══════════════╪════════════════╡\n",
      "│ Informal     │              1 │\n",
      "├──────────────┼────────────────┤\n",
      "│ Formal       │              2 │\n",
      "├──────────────┼────────────────┤\n",
      "│ Industrial   │              3 │\n",
      "├──────────────┼────────────────┤\n",
      "│ Roads        │              4 │\n",
      "├──────────────┼────────────────┤\n",
      "│ Vacant land  │              5 │\n",
      "├──────────────┼────────────────┤\n",
      "│ Vegetation   │              6 │\n",
      "├──────────────┼────────────────┤\n",
      "│ Water-bodies │              7 │\n",
      "╘══════════════╧════════════════╛\n"
     ]
    }
   ],
   "source": [
    "info = {'Class name': ['Informal', 'Formal', 'Industrial', 'Roads', 'Vacant land', 'Vegetation', 'Water-bodies'],\n",
    "        'landcover ID': [1, 2, 3, 4, 5, 6, 7]}\n",
    "\n",
    "print(tabulate(info, headers='keys', tablefmt='fancy_grid'))"
   ]
  },
  {
   "attachments": {},
   "cell_type": "markdown",
   "metadata": {},
   "source": [
    "##### When first using the GEE Python API the user must authenticate and initialize the environment by using the following two lines of codes:"
   ]
  },
  {
   "cell_type": "code",
   "execution_count": 34,
   "metadata": {},
   "outputs": [],
   "source": [
    "#ee.Authenticate() \n",
    "#ee.Initialize()"
   ]
  },
  {
   "cell_type": "code",
   "execution_count": 35,
   "metadata": {},
   "outputs": [
    {
     "data": {
      "application/vnd.jupyter.widget-view+json": {
       "model_id": "3d085dfc90774fc4b5576cbc8af355fb",
       "version_major": 2,
       "version_minor": 0
      },
      "text/plain": [
       "Map(center=[20, 0], controls=(WidgetControl(options=['position', 'transparent_bg'], widget=HBox(children=(Togg…"
      ]
     },
     "metadata": {},
     "output_type": "display_data"
    }
   ],
   "source": [
    "# creating the map\n",
    "Map = geemap.Map()\n",
    "\n",
    "# loading the interactive map\n",
    "Map"
   ]
  },
  {
   "attachments": {},
   "cell_type": "markdown",
   "metadata": {},
   "source": [
    "#### 1.2 Importing the datasets from GEE assets and data catalog and clipping the basemap to the AOI"
   ]
  },
  {
   "cell_type": "code",
   "execution_count": 36,
   "metadata": {},
   "outputs": [],
   "source": [
    "# Loading the Base scene\n",
    "nicfi = ee.ImageCollection('projects/planet-nicfi/assets/basemaps/africa')\n",
    "\n",
    "# Filter basemaps by date and get the first image from filtered results\n",
    "basemap_2015_12   = nicfi.filter(ee.Filter.date('2015-12-01','2016-01-01')).first()\n",
    "\n",
    "\n",
    "# Visualizing the scene\n",
    "vis_params = {\"bands\":[\"R\",\"G\",\"B\"],\"min\":64,\"max\":5454,\"gamma\":1.8}\n",
    "\n",
    "# Adding the basemap to the map\n",
    "Map.centerObject(basemap_2015_12, 4)\n",
    "Map.addLayer(basemap_2015_12, vis_params, '2015-12 mosaic')"
   ]
  },
  {
   "cell_type": "code",
   "execution_count": 37,
   "metadata": {},
   "outputs": [],
   "source": [
    "# Loading the AOI and Masking the base scene\n",
    "vis_params_aoi = {'color': 'blue'}\n",
    "aoi_windhoek = ee.FeatureCollection('users/s85315/masterthesis/Study_Area_Windhoek')\n",
    "\n",
    "# Adding the AOI to the map\n",
    "Map.addLayer(aoi_windhoek, vis_params_aoi, 'AOI')\n",
    "Map.centerObject(aoi_windhoek, 12)"
   ]
  },
  {
   "cell_type": "code",
   "execution_count": 38,
   "metadata": {},
   "outputs": [],
   "source": [
    "# clipping the clipped_TOI1_2015 to the AOI\n",
    "clipped_TOI1_2015 = basemap_2015_12.clipToCollection(aoi_windhoek)\n",
    "Map.addLayer(clipped_TOI1_2015, vis_params, 'clipped')"
   ]
  },
  {
   "cell_type": "code",
   "execution_count": 39,
   "metadata": {},
   "outputs": [],
   "source": [
    "# importing training data samples and adding them to the map\n",
    "# Transforming the Geometries into FeatureCollections and applying properties\n",
    "training_samples = ee.FeatureCollection('users/s85315/masterthesis/TrainingSamples/ChangeDetection/TS_TOI1_2015_RPoints')\n",
    "\n",
    "# creating the visualization parameters\n",
    "\n",
    "Map.addLayer(training_samples, {}, 'Training Samples for 2015')"
   ]
  },
  {
   "attachments": {},
   "cell_type": "markdown",
   "metadata": {},
   "source": [
    "### 2 Classification with RF"
   ]
  },
  {
   "attachments": {},
   "cell_type": "markdown",
   "metadata": {},
   "source": [
    "#### 2.1 Applying training samples on the base scene"
   ]
  },
  {
   "cell_type": "code",
   "execution_count": 40,
   "metadata": {},
   "outputs": [],
   "source": [
    "# adding the training samples to the basescene\n",
    "training = clipped_TOI1_2015.sampleRegions(**{\n",
    "    'collection': training_samples, \n",
    "    'properties': ['landcover'], \n",
    "    'scale': 4.77,\n",
    "    'projection': 'EPSG:32733'\n",
    "})"
   ]
  },
  {
   "attachments": {},
   "cell_type": "markdown",
   "metadata": {},
   "source": [
    "#### 2.2 Configuration and creation of the empty RF classifier"
   ]
  },
  {
   "cell_type": "code",
   "execution_count": 41,
   "metadata": {},
   "outputs": [],
   "source": [
    "# creating variable for parameter settings\n",
    "# Mtry will be set to default\n",
    "RF_param = 550\n",
    "\n",
    "classifier_params = {\n",
    "              'numberOfTrees':RF_param, # \tNtree; The number of decision trees to create.\n",
    "              'variablesPerSplit':None, # Mtry; The number of variables per split. If unspecified, uses the square root of the number of variables.\n",
    "              'minLeafPopulation':1, # smallest sample size possible per leaf\n",
    "              'bagFraction':0.5, #The fraction of input to bag per tree.\n",
    "              'maxNodes':None, # the number of individual decision tree models\n",
    "              'seed': 0}  # The randomization seed.\n",
    "\n",
    "\n",
    "# creating the classifier using RF\n",
    "classifier = ee.Classifier.smileRandomForest(**classifier_params).train(**{\n",
    "  'features': training,  \n",
    "  'classProperty': 'landcover', \n",
    "  'inputProperties': clipped_TOI1_2015.bandNames()\n",
    "})"
   ]
  },
  {
   "attachments": {},
   "cell_type": "markdown",
   "metadata": {},
   "source": [
    "#### 2.3 classifying the basescene and visualizing the product"
   ]
  },
  {
   "cell_type": "code",
   "execution_count": 42,
   "metadata": {},
   "outputs": [],
   "source": [
    "# classifying the basescene using the created classifier\n",
    "classified_TOI1_2015 = clipped_TOI1_2015.classify(classifier)\n",
    "\n",
    "# creating the visualization parameters\n",
    "palette = ['c43c39', 'e5b636', '2f2f2f', 'aaaaaa', 'b08e7a', '85b66f', 'a5bfdd']\n",
    "vis_params_classified = {'min': 1, 'max': 7, 'palette': palette}\n",
    "\n",
    "\n",
    "Map.addLayer(classified_TOI1_2015, vis_params_classified, 'classified basescene')\n"
   ]
  },
  {
   "attachments": {},
   "cell_type": "markdown",
   "metadata": {},
   "source": [
    "#### 2.4 Exporting the results"
   ]
  },
  {
   "attachments": {},
   "cell_type": "markdown",
   "metadata": {},
   "source": [
    "##### 2.4.1 Exporting to Google Drive"
   ]
  },
  {
   "cell_type": "code",
   "execution_count": 43,
   "metadata": {},
   "outputs": [
    {
     "name": "stdout",
     "output_type": "stream",
     "text": [
      "Polling for task (id: YKMLATNJIN4Z5TOCICAAPMEG).\n",
      "Polling for task (id: YKMLATNJIN4Z5TOCICAAPMEG).\n",
      "Polling for task (id: YKMLATNJIN4Z5TOCICAAPMEG).\n",
      "Polling for task (id: YKMLATNJIN4Z5TOCICAAPMEG).\n",
      "Polling for task (id: YKMLATNJIN4Z5TOCICAAPMEG).\n",
      "Polling for task (id: YKMLATNJIN4Z5TOCICAAPMEG).\n",
      "Polling for task (id: YKMLATNJIN4Z5TOCICAAPMEG).\n",
      "Polling for task (id: YKMLATNJIN4Z5TOCICAAPMEG).\n",
      "Polling for task (id: YKMLATNJIN4Z5TOCICAAPMEG).\n",
      "Polling for task (id: YKMLATNJIN4Z5TOCICAAPMEG).\n",
      "Polling for task (id: YKMLATNJIN4Z5TOCICAAPMEG).\n",
      "Polling for task (id: YKMLATNJIN4Z5TOCICAAPMEG).\n",
      "Polling for task (id: YKMLATNJIN4Z5TOCICAAPMEG).\n",
      "Polling for task (id: YKMLATNJIN4Z5TOCICAAPMEG).\n",
      "Polling for task (id: YKMLATNJIN4Z5TOCICAAPMEG).\n",
      "Polling for task (id: YKMLATNJIN4Z5TOCICAAPMEG).\n",
      "Polling for task (id: YKMLATNJIN4Z5TOCICAAPMEG).\n",
      "Polling for task (id: YKMLATNJIN4Z5TOCICAAPMEG).\n",
      "Polling for task (id: YKMLATNJIN4Z5TOCICAAPMEG).\n",
      "Polling for task (id: YKMLATNJIN4Z5TOCICAAPMEG).\n",
      "Polling for task (id: YKMLATNJIN4Z5TOCICAAPMEG).\n",
      "Polling for task (id: YKMLATNJIN4Z5TOCICAAPMEG).\n",
      "Polling for task (id: YKMLATNJIN4Z5TOCICAAPMEG).\n",
      "Polling for task (id: YKMLATNJIN4Z5TOCICAAPMEG).\n",
      "Polling for task (id: YKMLATNJIN4Z5TOCICAAPMEG).\n",
      "Polling for task (id: YKMLATNJIN4Z5TOCICAAPMEG).\n",
      "Polling for task (id: YKMLATNJIN4Z5TOCICAAPMEG).\n",
      "Polling for task (id: YKMLATNJIN4Z5TOCICAAPMEG).\n",
      "Polling for task (id: YKMLATNJIN4Z5TOCICAAPMEG).\n",
      "Polling for task (id: YKMLATNJIN4Z5TOCICAAPMEG).\n",
      "Polling for task (id: YKMLATNJIN4Z5TOCICAAPMEG).\n",
      "Polling for task (id: YKMLATNJIN4Z5TOCICAAPMEG).\n",
      "Polling for task (id: YKMLATNJIN4Z5TOCICAAPMEG).\n",
      "Polling for task (id: YKMLATNJIN4Z5TOCICAAPMEG).\n",
      "Polling for task (id: YKMLATNJIN4Z5TOCICAAPMEG).\n",
      "Polling for task (id: YKMLATNJIN4Z5TOCICAAPMEG).\n",
      "Polling for task (id: YKMLATNJIN4Z5TOCICAAPMEG).\n",
      "Polling for task (id: YKMLATNJIN4Z5TOCICAAPMEG).\n",
      "Polling for task (id: YKMLATNJIN4Z5TOCICAAPMEG).\n",
      "Polling for task (id: YKMLATNJIN4Z5TOCICAAPMEG).\n",
      "Polling for task (id: YKMLATNJIN4Z5TOCICAAPMEG).\n",
      "Polling for task (id: YKMLATNJIN4Z5TOCICAAPMEG).\n",
      "Polling for task (id: YKMLATNJIN4Z5TOCICAAPMEG).\n",
      "Polling for task (id: YKMLATNJIN4Z5TOCICAAPMEG).\n",
      "Polling for task (id: YKMLATNJIN4Z5TOCICAAPMEG).\n",
      "Polling for task (id: YKMLATNJIN4Z5TOCICAAPMEG).\n",
      "Polling for task (id: YKMLATNJIN4Z5TOCICAAPMEG).\n",
      "Polling for task (id: YKMLATNJIN4Z5TOCICAAPMEG).\n",
      "Polling for task (id: YKMLATNJIN4Z5TOCICAAPMEG).\n",
      "Polling for task (id: YKMLATNJIN4Z5TOCICAAPMEG).\n",
      "Polling for task (id: YKMLATNJIN4Z5TOCICAAPMEG).\n",
      "Polling for task (id: YKMLATNJIN4Z5TOCICAAPMEG).\n",
      "Polling for task (id: YKMLATNJIN4Z5TOCICAAPMEG).\n",
      "Polling for task (id: YKMLATNJIN4Z5TOCICAAPMEG).\n",
      "Polling for task (id: YKMLATNJIN4Z5TOCICAAPMEG).\n",
      "Polling for task (id: YKMLATNJIN4Z5TOCICAAPMEG).\n",
      "Polling for task (id: YKMLATNJIN4Z5TOCICAAPMEG).\n",
      "Polling for task (id: YKMLATNJIN4Z5TOCICAAPMEG).\n",
      "Polling for task (id: YKMLATNJIN4Z5TOCICAAPMEG).\n",
      "Polling for task (id: YKMLATNJIN4Z5TOCICAAPMEG).\n",
      "Polling for task (id: YKMLATNJIN4Z5TOCICAAPMEG).\n",
      "Polling for task (id: YKMLATNJIN4Z5TOCICAAPMEG).\n",
      "Polling for task (id: YKMLATNJIN4Z5TOCICAAPMEG).\n",
      "Polling for task (id: YKMLATNJIN4Z5TOCICAAPMEG).\n",
      "Polling for task (id: YKMLATNJIN4Z5TOCICAAPMEG).\n",
      "Polling for task (id: YKMLATNJIN4Z5TOCICAAPMEG).\n",
      "Polling for task (id: YKMLATNJIN4Z5TOCICAAPMEG).\n",
      "Polling for task (id: YKMLATNJIN4Z5TOCICAAPMEG).\n",
      "Polling for task (id: YKMLATNJIN4Z5TOCICAAPMEG).\n",
      "Polling for task (id: YKMLATNJIN4Z5TOCICAAPMEG).\n",
      "Polling for task (id: YKMLATNJIN4Z5TOCICAAPMEG).\n",
      "Polling for task (id: YKMLATNJIN4Z5TOCICAAPMEG).\n",
      "Polling for task (id: YKMLATNJIN4Z5TOCICAAPMEG).\n",
      "Polling for task (id: YKMLATNJIN4Z5TOCICAAPMEG).\n",
      "Polling for task (id: YKMLATNJIN4Z5TOCICAAPMEG).\n",
      "Polling for task (id: YKMLATNJIN4Z5TOCICAAPMEG).\n",
      "Polling for task (id: YKMLATNJIN4Z5TOCICAAPMEG).\n",
      "Polling for task (id: YKMLATNJIN4Z5TOCICAAPMEG).\n",
      "Polling for task (id: YKMLATNJIN4Z5TOCICAAPMEG).\n",
      "Polling for task (id: YKMLATNJIN4Z5TOCICAAPMEG).\n",
      "Polling for task (id: YKMLATNJIN4Z5TOCICAAPMEG).\n",
      "Polling for task (id: YKMLATNJIN4Z5TOCICAAPMEG).\n",
      "Polling for task (id: YKMLATNJIN4Z5TOCICAAPMEG).\n",
      "Polling for task (id: YKMLATNJIN4Z5TOCICAAPMEG).\n",
      "Polling for task (id: YKMLATNJIN4Z5TOCICAAPMEG).\n",
      "Polling for task (id: YKMLATNJIN4Z5TOCICAAPMEG).\n",
      "Polling for task (id: YKMLATNJIN4Z5TOCICAAPMEG).\n",
      "Polling for task (id: YKMLATNJIN4Z5TOCICAAPMEG).\n",
      "Polling for task (id: YKMLATNJIN4Z5TOCICAAPMEG).\n",
      "Polling for task (id: YKMLATNJIN4Z5TOCICAAPMEG).\n",
      "Polling for task (id: YKMLATNJIN4Z5TOCICAAPMEG).\n",
      "Polling for task (id: YKMLATNJIN4Z5TOCICAAPMEG).\n",
      "Polling for task (id: YKMLATNJIN4Z5TOCICAAPMEG).\n",
      "Polling for task (id: YKMLATNJIN4Z5TOCICAAPMEG).\n",
      "Polling for task (id: YKMLATNJIN4Z5TOCICAAPMEG).\n",
      "Polling for task (id: YKMLATNJIN4Z5TOCICAAPMEG).\n",
      "Polling for task (id: YKMLATNJIN4Z5TOCICAAPMEG).\n",
      "Polling for task (id: YKMLATNJIN4Z5TOCICAAPMEG).\n",
      "Polling for task (id: YKMLATNJIN4Z5TOCICAAPMEG).\n",
      "Polling for task (id: YKMLATNJIN4Z5TOCICAAPMEG).\n",
      "Polling for task (id: YKMLATNJIN4Z5TOCICAAPMEG).\n",
      "Polling for task (id: YKMLATNJIN4Z5TOCICAAPMEG).\n",
      "Polling for task (id: YKMLATNJIN4Z5TOCICAAPMEG).\n",
      "Polling for task (id: YKMLATNJIN4Z5TOCICAAPMEG).\n",
      "Polling for task (id: YKMLATNJIN4Z5TOCICAAPMEG).\n",
      "Polling for task (id: YKMLATNJIN4Z5TOCICAAPMEG).\n",
      "Polling for task (id: YKMLATNJIN4Z5TOCICAAPMEG).\n",
      "Polling for task (id: YKMLATNJIN4Z5TOCICAAPMEG).\n",
      "Polling for task (id: YKMLATNJIN4Z5TOCICAAPMEG).\n",
      "Polling for task (id: YKMLATNJIN4Z5TOCICAAPMEG).\n",
      "Polling for task (id: YKMLATNJIN4Z5TOCICAAPMEG).\n",
      "Polling for task (id: YKMLATNJIN4Z5TOCICAAPMEG).\n",
      "Polling for task (id: YKMLATNJIN4Z5TOCICAAPMEG).\n",
      "Polling for task (id: YKMLATNJIN4Z5TOCICAAPMEG).\n",
      "Polling for task (id: YKMLATNJIN4Z5TOCICAAPMEG).\n",
      "Polling for task (id: YKMLATNJIN4Z5TOCICAAPMEG).\n",
      "Polling for task (id: YKMLATNJIN4Z5TOCICAAPMEG).\n",
      "Polling for task (id: YKMLATNJIN4Z5TOCICAAPMEG).\n",
      "Polling for task (id: YKMLATNJIN4Z5TOCICAAPMEG).\n",
      "Polling for task (id: YKMLATNJIN4Z5TOCICAAPMEG).\n",
      "Polling for task (id: YKMLATNJIN4Z5TOCICAAPMEG).\n",
      "Polling for task (id: YKMLATNJIN4Z5TOCICAAPMEG).\n"
     ]
    }
   ],
   "source": [
    "# converting the FeatureCollection to Geometry for export\n",
    "aoi_geom = aoi_windhoek.geometry()\n",
    "\n",
    "# exporting to Google drive with GEE API\n",
    "export = ee.batch.Export.image.toDrive(**{\n",
    "    'image': classified_TOI1_2015,\n",
    "    'description': 'classified_TOI1_RF', # TODO: change name here\n",
    "    'folder': 'masterthesis/change_detection_results', # TODO: change name here\n",
    "    'scale': 4.77,\n",
    "    'region': aoi_geom,\n",
    "    'crs': 'EPSG:32733'\n",
    "})\n",
    "\n",
    "# starting the process\n",
    "export.start()\n",
    "\n",
    "# tracking the process\n",
    "while export.active():\n",
    "  print('Polling for task (id: {}).'.format(export.id))\n",
    "  time.sleep(5)"
   ]
  },
  {
   "attachments": {},
   "cell_type": "markdown",
   "metadata": {},
   "source": [
    "##### 2.4.2 Exporting to Asset"
   ]
  },
  {
   "cell_type": "code",
   "execution_count": 44,
   "metadata": {},
   "outputs": [],
   "source": [
    "# # exporting to Google Asset\n",
    "# export = ee.batch.Export.image.toAsset(**{\n",
    "#   'image': classified_TOI1_2015,\n",
    "#   'description': 'Export classified map',\n",
    "#   'assetId': 'users/s85315/masterthesis/change_detection_results/classified_TOI1_RF', # TODO: change name here\n",
    "#   'scale': 4.77,\n",
    "#   'region': aoi_geom,\n",
    "#   'crs': 'EPSG:32733'\n",
    "# })\n",
    "\n",
    "# # starting the process\n",
    "# export.start()\n",
    "\n",
    "# # tracking the process\n",
    "# while export.active():\n",
    "#   print('Polling for task (id: {}).'.format(export.id))\n",
    "#   time.sleep(5)"
   ]
  },
  {
   "attachments": {},
   "cell_type": "markdown",
   "metadata": {},
   "source": [
    "### 3 Calulation of the class size from pixel size"
   ]
  },
  {
   "cell_type": "code",
   "execution_count": 45,
   "metadata": {},
   "outputs": [
    {
     "name": "stdout",
     "output_type": "stream",
     "text": [
      "81697971\n",
      "╒═════════════╤══════════════════╕\n",
      "│   Landcover │   Area size [m²] │\n",
      "╞═════════════╪══════════════════╡\n",
      "│           1 │          8064411 │\n",
      "├─────────────┼──────────────────┤\n",
      "│           2 │          7627039 │\n",
      "├─────────────┼──────────────────┤\n",
      "│           3 │          2796382 │\n",
      "├─────────────┼──────────────────┤\n",
      "│           4 │          6263676 │\n",
      "├─────────────┼──────────────────┤\n",
      "│           5 │         40621551 │\n",
      "├─────────────┼──────────────────┤\n",
      "│           6 │         15399511 │\n",
      "├─────────────┼──────────────────┤\n",
      "│           7 │           925401 │\n",
      "╘═════════════╧══════════════════╛\n"
     ]
    }
   ],
   "source": [
    "# calculating pixel size\n",
    "area_classified_2015 = ee.Image.pixelArea().addBands(classified_TOI1_2015)\n",
    "\n",
    "# calculating the area size per class\n",
    "areas_2015 = area_classified_2015.reduceRegion(**{\n",
    "    'reducer': ee.Reducer.sum().group(**{\n",
    "    'groupField': 1,\n",
    "    'groupName': 'landcover',\n",
    "    }),\n",
    "    'geometry': aoi_geom, \n",
    "    'scale': 4.77\n",
    "    })\n",
    "\n",
    "# selecting the size per class\n",
    "class_areas_2015 = ee.List(areas_2015.get('groups'))\n",
    "list_dict_2015 = class_areas_2015.getInfo()\n",
    "\n",
    "# creating a dataframe for easier data handling\n",
    "df_areas_2015 = pd.DataFrame(class_areas_2015.getInfo())\n",
    "df_areas_2015['sum'] = df_areas_2015['sum'].astype(int)\n",
    "print(df_areas_2015['sum'].sum())\n",
    "df_areas_2015.to_csv('./data/class_size_2015.csv', sep=\";\", index=False)\n",
    "\n",
    "print(tabulate(df_areas_2015, tablefmt='fancy_grid', headers=['Landcover', 'Area size [m²]'], showindex=False, floatfmt=\".0f\"))"
   ]
  },
  {
   "attachments": {},
   "cell_type": "markdown",
   "metadata": {},
   "source": [
    "### 4 Accuracy assessment"
   ]
  },
  {
   "attachments": {},
   "cell_type": "markdown",
   "metadata": {},
   "source": [
    "#### 4.1 Importing validation samples from GEE Assets"
   ]
  },
  {
   "cell_type": "code",
   "execution_count": 55,
   "metadata": {},
   "outputs": [],
   "source": [
    "# Importing merged validation samples for 2015\n",
    "validation_samples = ee.FeatureCollection('users/s85315/masterthesis/ValidationSamples/ChangeDetection/VS_TOI1_2015_RPoints')\n",
    "#validation_samples = ee.FeatureCollection('users/s85315/masterthesis/ValidationSamples/ChangeDetection/VS_TOI1_2015_RPoints_test')\n",
    "\n",
    "Map.addLayer(validation_samples, {}, 'VS Samples')"
   ]
  },
  {
   "attachments": {},
   "cell_type": "markdown",
   "metadata": {},
   "source": [
    "#### 4.2 Applying the validation samples to the basescene"
   ]
  },
  {
   "cell_type": "code",
   "execution_count": 47,
   "metadata": {},
   "outputs": [],
   "source": [
    "# applying the validation samples to the classified map\n",
    "validation = classified_TOI1_2015.sampleRegions(**{\n",
    "  'collection': validation_samples,\n",
    "  'properties': ['landcover'],\n",
    "  'tileScale': 16,\n",
    "  'scale': 4.77,\n",
    "  'projection': 'EPSG:32733'\n",
    "})"
   ]
  },
  {
   "attachments": {},
   "cell_type": "markdown",
   "metadata": {},
   "source": [
    "#### 4.3 Generating the error matrix and printing information"
   ]
  },
  {
   "cell_type": "code",
   "execution_count": 48,
   "metadata": {},
   "outputs": [
    {
     "name": "stdout",
     "output_type": "stream",
     "text": [
      "Confusion Matrix [[0, 0, 0, 0, 0, 0, 0, 0], [0, 26, 8, 4, 0, 2, 2, 0], [0, 7, 24, 12, 2, 0, 0, 0], [0, 1, 8, 16, 1, 0, 0, 0], [0, 6, 3, 2, 36, 5, 0, 0], [0, 5, 0, 0, 1, 77, 6, 0], [0, 0, 0, 1, 2, 16, 45, 1], [0, 0, 0, 0, 0, 0, 0, 31]]\n",
      "Overall Accuracy 0.7285714285714285\n",
      "Producers Accuracy [[0], [0.6190476190476191], [0.5333333333333333], [0.6153846153846154], [0.6923076923076923], [0.8651685393258427], [0.6923076923076923], [1]]\n",
      "Consumers Accuracy [[0, 0.5777777777777777, 0.5581395348837209, 0.45714285714285713, 0.8571428571428571, 0.77, 0.8490566037735849, 0.96875]]\n",
      "Kappa 0.6747975431321154\n",
      "[[0, 0, 0, 0, 0, 0, 0, 0], [0, 26, 8, 4, 0, 2, 2, 0], [0, 7, 24, 12, 2, 0, 0, 0], [0, 1, 8, 16, 1, 0, 0, 0], [0, 6, 3, 2, 36, 5, 0, 0], [0, 5, 0, 0, 1, 77, 6, 0], [0, 0, 0, 1, 2, 16, 45, 1], [0, 0, 0, 0, 0, 0, 0, 31]]\n"
     ]
    }
   ],
   "source": [
    "#order = training.aggregate_array('landcover').distinct().sort()\n",
    "\n",
    "#basescene_error_matrix = validation.errorMatrix(actual='validation', predicted='classification', order=order)\n",
    "basescene_error_matrix = validation.errorMatrix('classification', 'landcover')\n",
    "basescene_error_matrix_test = validation.errorMatrix('classification', 'landcover')\n",
    "\n",
    "# printing statistics\n",
    "print('Confusion Matrix', basescene_error_matrix.getInfo())\n",
    "print('Overall Accuracy', basescene_error_matrix.accuracy().getInfo())\n",
    "print('Producers Accuracy', basescene_error_matrix.producersAccuracy().getInfo())\n",
    "print('Consumers Accuracy', basescene_error_matrix.consumersAccuracy().getInfo())\n",
    "print('Kappa', basescene_error_matrix.kappa().getInfo())\n",
    "\n",
    "print(basescene_error_matrix.array().getInfo())"
   ]
  },
  {
   "attachments": {},
   "cell_type": "markdown",
   "metadata": {},
   "source": [
    "##### 4.3.1 Visualizing the error matrix"
   ]
  },
  {
   "cell_type": "code",
   "execution_count": 54,
   "metadata": {},
   "outputs": [
    {
     "name": "stdout",
     "output_type": "stream",
     "text": [
      "╒══════════════╤════════════╤══════════╤══════════════╤═════════╤═══════════════╤══════════════╤════════════════╤═════════╕\n",
      "│              │   Informal │   Formal │   Industrial │   Roads │   Vacant land │   Vegetation │   Water-bodies │   Total │\n",
      "╞══════════════╪════════════╪══════════╪══════════════╪═════════╪═══════════════╪══════════════╪════════════════╪═════════╡\n",
      "│ Informal     │         26 │        8 │            4 │       0 │             2 │            2 │              0 │      42 │\n",
      "├──────────────┼────────────┼──────────┼──────────────┼─────────┼───────────────┼──────────────┼────────────────┼─────────┤\n",
      "│ Formal       │          7 │       24 │           12 │       2 │             0 │            0 │              0 │      45 │\n",
      "├──────────────┼────────────┼──────────┼──────────────┼─────────┼───────────────┼──────────────┼────────────────┼─────────┤\n",
      "│ Industrial   │          1 │        8 │           16 │       1 │             0 │            0 │              0 │      26 │\n",
      "├──────────────┼────────────┼──────────┼──────────────┼─────────┼───────────────┼──────────────┼────────────────┼─────────┤\n",
      "│ Roads        │          6 │        3 │            2 │      36 │             5 │            0 │              0 │      52 │\n",
      "├──────────────┼────────────┼──────────┼──────────────┼─────────┼───────────────┼──────────────┼────────────────┼─────────┤\n",
      "│ Vacant land  │          5 │        0 │            0 │       1 │            77 │            6 │              0 │      89 │\n",
      "├──────────────┼────────────┼──────────┼──────────────┼─────────┼───────────────┼──────────────┼────────────────┼─────────┤\n",
      "│ Vegetation   │          0 │        0 │            1 │       2 │            16 │           45 │              1 │      65 │\n",
      "├──────────────┼────────────┼──────────┼──────────────┼─────────┼───────────────┼──────────────┼────────────────┼─────────┤\n",
      "│ Water-bodies │          0 │        0 │            0 │       0 │             0 │            0 │             31 │      31 │\n",
      "├──────────────┼────────────┼──────────┼──────────────┼─────────┼───────────────┼──────────────┼────────────────┼─────────┤\n",
      "│ Total        │         45 │       43 │           35 │      42 │           100 │           53 │             32 │     350 │\n",
      "╘══════════════╧════════════╧══════════╧══════════════╧═════════╧═══════════════╧══════════════╧════════════════╧═════════╛\n"
     ]
    }
   ],
   "source": [
    "# creating a Pandas Dataframe for the error matrix\n",
    "error_matrix = basescene_error_matrix.getInfo()\n",
    "df_error_matrix = pd.DataFrame(error_matrix)\n",
    "\n",
    "# deleting the first row and column since GEE add's a class with the landcover ID 0 by default.\n",
    "df_error_matrix.columns = ['not used','Informal', 'Formal', 'Industrial', 'Roads', 'Vacant land', 'Vegetation', 'Water-bodies']\n",
    "df_error_matrix = df_error_matrix.drop(df_error_matrix.columns[0],axis=1)\n",
    "df_error_matrix.drop(index=df_error_matrix.index[0], axis=0, inplace=True)\n",
    "\n",
    "# calculating row and column sum of points\n",
    "column_total = df_error_matrix.sum()\n",
    "column_total.name = 'Total'\n",
    "df_error_matrix.loc[8] = column_total\n",
    "df_error_matrix['Total'] = df_error_matrix.sum(axis=1)\n",
    "\n",
    "header_error_matrix = ['Informal', 'Formal', 'Industrial', 'Roads', 'Vacant land', 'Vegetation', 'Water-bodies', 'Total']\n",
    "df_error_matrix['Names'] = header_error_matrix\n",
    "df_error_matrix = df_error_matrix.set_index('Names')\n",
    "\n",
    "\n",
    "print(tabulate(df_error_matrix, headers=header_error_matrix, tablefmt='fancy_grid', showindex=header_error_matrix))\n",
    "df_error_matrix.to_csv(\"./data/accuracies/CD_Error_Matrix_TOI1.csv\", sep=';', index=True)"
   ]
  },
  {
   "attachments": {},
   "cell_type": "markdown",
   "metadata": {},
   "source": [
    "##### 4.3.2 Producer's and consumer's accuracy"
   ]
  },
  {
   "cell_type": "code",
   "execution_count": 53,
   "metadata": {},
   "outputs": [
    {
     "name": "stdout",
     "output_type": "stream",
     "text": [
      "╒══════════════╤═══════════════════════════╤════════════════════════════╕\n",
      "│ Class name   │   Producer's Accuracy [%] │   Consumers's Accuracy [%] │\n",
      "╞══════════════╪═══════════════════════════╪════════════════════════════╡\n",
      "│ Informal     │                     61.9  │                      57.78 │\n",
      "├──────────────┼───────────────────────────┼────────────────────────────┤\n",
      "│ Formal       │                     53.33 │                      55.81 │\n",
      "├──────────────┼───────────────────────────┼────────────────────────────┤\n",
      "│ Industrial   │                     61.54 │                      45.71 │\n",
      "├──────────────┼───────────────────────────┼────────────────────────────┤\n",
      "│ Roads        │                     69.23 │                      85.71 │\n",
      "├──────────────┼───────────────────────────┼────────────────────────────┤\n",
      "│ Vacant land  │                     86.52 │                      77    │\n",
      "├──────────────┼───────────────────────────┼────────────────────────────┤\n",
      "│ Vegetation   │                     69.23 │                      84.91 │\n",
      "├──────────────┼───────────────────────────┼────────────────────────────┤\n",
      "│ Water-bodies │                    100    │                      96.88 │\n",
      "╘══════════════╧═══════════════════════════╧════════════════════════════╛\n"
     ]
    }
   ],
   "source": [
    "# creating the lists \n",
    "producers = basescene_error_matrix.producersAccuracy().getInfo()\n",
    "df_producers = pd.DataFrame(producers)\n",
    "df_producers.drop(index=df_producers.index[0], axis=0, inplace=True)\n",
    "\n",
    "class_names = ['Informal', 'Formal', 'Industrial', 'Roads', 'Vacant land', 'Vegetation', 'Water-bodies']\n",
    "df_producers['class names'] = class_names\n",
    "df_producers.columns = [\"Producer Accuracy\", \"Class name\"]\n",
    "df_producers['Producer Accuracy'] = df_producers['Producer Accuracy'].multiply(100).round(2)\n",
    "\n",
    "# creating a dataframe from the list of consumer accuracies and remove landcover ID 0\n",
    "consumers = basescene_error_matrix.consumersAccuracy().getInfo()\n",
    "df_consumers = pd.DataFrame(consumers)\n",
    "df_consumers = df_consumers.drop(df_consumers.columns[0],axis=1)\n",
    "df_consumers.columns = class_names\n",
    "\n",
    "# reshaping the dataframe from wide to long format:\n",
    "df_consumers_long = pd.melt(df_consumers, var_name='Class name', value_name=\"Consumer Accuracy\")\n",
    "df_consumers_long = df_consumers_long[['Consumer Accuracy', 'Class name']]\n",
    "df_consumers_long['Consumer Accuracy'] = df_consumers_long['Consumer Accuracy'].multiply(100).round(2)\n",
    "\n",
    "# merging both dataframes\n",
    "df_all = pd.merge(df_producers, df_consumers_long, on='Class name')\n",
    "new_cols = ['Class name', 'Producer Accuracy', 'Consumer Accuracy']\n",
    "df_all = df_all[new_cols]\n",
    "\n",
    "\n",
    "print(tabulate(df_all, headers=[\"Class name\", \"Producer's Accuracy [%]\", \"Consumers's Accuracy [%]\"], tablefmt='fancy_grid',  showindex=False))\n",
    "df_all.to_csv(\"./data/accuracies/CD_Consumers_Producers_Accuracy_TOI1.csv\", sep=\";\", index=False)"
   ]
  },
  {
   "attachments": {},
   "cell_type": "markdown",
   "metadata": {},
   "source": [
    "##### 4.3.3 Overall Accuracy and Kappa Coefficent"
   ]
  },
  {
   "cell_type": "code",
   "execution_count": 52,
   "metadata": {},
   "outputs": [
    {
     "name": "stdout",
     "output_type": "stream",
     "text": [
      "\u001b[1mOverall Accuracy 72.86 %\u001b[0m\n",
      "\u001b[1mKappa coefficent 0.67\u001b[0m\n"
     ]
    }
   ],
   "source": [
    "# defining the variables\n",
    "overall_accuracy = basescene_error_matrix.accuracy().getInfo()\n",
    "overall_print = str(round(overall_accuracy * 100, 2))\n",
    "kappa = basescene_error_matrix.kappa().getInfo()\n",
    "\n",
    "df_overall_kappa = pd.DataFrame()\n",
    "\n",
    "# printing out vaLues\n",
    "print(\"\\033[1m\" + \"Overall Accuracy \" + overall_print + \" %\" + \"\\033[0m\")\n",
    "print(\"\\033[1m\" + \"Kappa coefficent \" + str(round(kappa, 2)) + \"\\033[0m\")"
   ]
  },
  {
   "attachments": {},
   "cell_type": "markdown",
   "metadata": {},
   "source": [
    "##### Resources for code snippets\n",
    "\n",
    "https://colab.research.google.com/github/csaybar/EEwPython/blob/dev/10_Export.ipynb \\\n",
    "https://worldbank.github.io/OpenNightLights/tutorials/mod6_6_RF_classifier.html \\\n",
    "https://towardsdatascience.com/how-to-easily-create-tables-in-python-2eaea447d8fd \\\n",
    "https://developers.google.com/earth-engine/apidocs/ee-classifier-smilerandomforest"
   ]
  }
 ],
 "metadata": {
  "kernelspec": {
   "display_name": "gee",
   "language": "python",
   "name": "python3"
  },
  "language_info": {
   "codemirror_mode": {
    "name": "ipython",
    "version": 3
   },
   "file_extension": ".py",
   "mimetype": "text/x-python",
   "name": "python",
   "nbconvert_exporter": "python",
   "pygments_lexer": "ipython3",
   "version": "3.8.15"
  },
  "orig_nbformat": 4,
  "vscode": {
   "interpreter": {
    "hash": "9209488edf9d13047b02f465a1e424d25e94bca618bbcafe1fa335f4d032a39f"
   }
  }
 },
 "nbformat": 4,
 "nbformat_minor": 2
}
